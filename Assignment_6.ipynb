{
 "cells": [
  {
   "cell_type": "markdown",
   "id": "3a5334fa-a39e-48d9-a6dc-3bf54e7e423f",
   "metadata": {},
   "source": [
    "# Assignment 6 - Python"
   ]
  },
  {
   "cell_type": "markdown",
   "id": "8648dac9-c45a-4376-83db-ba00ef5a7b51",
   "metadata": {},
   "source": [
    "# Tuple Data Structure"
   ]
  },
  {
   "cell_type": "code",
   "execution_count": 1,
   "id": "dce48a24-4669-4646-a438-2b2bb2085ce0",
   "metadata": {},
   "outputs": [
    {
     "name": "stdout",
     "output_type": "stream",
     "text": [
      "()\n"
     ]
    }
   ],
   "source": [
    "tup1 = ()   # Empty Tuple\n",
    "print(tup1)"
   ]
  },
  {
   "cell_type": "code",
   "execution_count": 2,
   "id": "b9518477-7374-4d01-93b3-2d218d3188c2",
   "metadata": {},
   "outputs": [
    {
     "name": "stdout",
     "output_type": "stream",
     "text": [
      "(10, 30, 60)\n"
     ]
    }
   ],
   "source": [
    "tup2 = (10,30,60)         # Tuple of integer numbers\n",
    "print(tup2)"
   ]
  },
  {
   "cell_type": "code",
   "execution_count": 3,
   "id": "add2c63a-8dc4-49b4-a1de-4eda12b3496d",
   "metadata": {},
   "outputs": [
    {
     "name": "stdout",
     "output_type": "stream",
     "text": [
      "(10.77, 30.56, 60.89)\n"
     ]
    }
   ],
   "source": [
    "tup3 = (10.77,30.56,60.89)         # Tuple of float numbers\n",
    "print(tup3)"
   ]
  },
  {
   "cell_type": "code",
   "execution_count": 13,
   "id": "a67e138e-9eae-4156-bb5a-0dc805a9f2bf",
   "metadata": {},
   "outputs": [
    {
     "name": "stdout",
     "output_type": "stream",
     "text": [
      "('one', 'two', 'three')\n"
     ]
    }
   ],
   "source": [
    "tup4 = (\"one\",\"two\",\"three\")            # Tuple of string \n",
    "print(tup4)"
   ]
  },
  {
   "cell_type": "code",
   "execution_count": 5,
   "id": "1c9009ed-bc19-40fa-9cf1-46563f0ee3c5",
   "metadata": {},
   "outputs": [
    {
     "name": "stdout",
     "output_type": "stream",
     "text": [
      "('Vihari', 25, (50, 100), (150, 90))\n"
     ]
    }
   ],
   "source": [
    "tup5 = ('Vihari', 25, (50,100), (150,90))     # Nested Tuples\n",
    "print(tup5)"
   ]
  },
  {
   "cell_type": "code",
   "execution_count": 6,
   "id": "f2a7ef30-3f7f-430d-9738-b3a26005d3c9",
   "metadata": {},
   "outputs": [
    {
     "name": "stdout",
     "output_type": "stream",
     "text": [
      "(100, 'Vihari', 17.765)\n"
     ]
    }
   ],
   "source": [
    "tup6 = (100, 'Vihari', 17.765)          # Tuple of mixed data types\n",
    "print(tup6)"
   ]
  },
  {
   "cell_type": "code",
   "execution_count": 7,
   "id": "29e4c426-8c57-4fe6-82f5-47ccbaa1062a",
   "metadata": {},
   "outputs": [
    {
     "name": "stdout",
     "output_type": "stream",
     "text": [
      "('Vihari', 25, [50, 100], [150, 90], {'David', 'John'}, (99, 22, 33))\n"
     ]
    }
   ],
   "source": [
    "tup7 = ('Vihari', 25, [50,100], [150,90],{'John', 'David'}, (99,22,33))\n",
    "print(tup7)"
   ]
  },
  {
   "cell_type": "code",
   "execution_count": 8,
   "id": "88db5c97-ed92-4c38-8089-7aa61c72f4b2",
   "metadata": {},
   "outputs": [
    {
     "name": "stdout",
     "output_type": "stream",
     "text": [
      "6\n"
     ]
    }
   ],
   "source": [
    "print(len(tup7))   # Length of Tuple"
   ]
  },
  {
   "cell_type": "markdown",
   "id": "3b864f98-2e0a-4583-b461-9a9068908d70",
   "metadata": {},
   "source": [
    "# Tuple Indexing"
   ]
  },
  {
   "cell_type": "code",
   "execution_count": 9,
   "id": "fef4dfd5-e527-4a85-8326-27f16eb8fd09",
   "metadata": {},
   "outputs": [
    {
     "name": "stdout",
     "output_type": "stream",
     "text": [
      "10\n"
     ]
    }
   ],
   "source": [
    "print(tup2[0])"
   ]
  },
  {
   "cell_type": "code",
   "execution_count": 10,
   "id": "74547609-880a-4186-8481-2b10a5da2ead",
   "metadata": {},
   "outputs": [
    {
     "name": "stdout",
     "output_type": "stream",
     "text": [
      "one\n"
     ]
    }
   ],
   "source": [
    "print(tup4[0])"
   ]
  },
  {
   "cell_type": "code",
   "execution_count": 11,
   "id": "c3224a89-ee80-4874-b22e-89fd01f233c5",
   "metadata": {},
   "outputs": [
    {
     "name": "stdout",
     "output_type": "stream",
     "text": [
      "o\n"
     ]
    }
   ],
   "source": [
    "print(tup4[0][0])"
   ]
  },
  {
   "cell_type": "code",
   "execution_count": 14,
   "id": "047cd34f-b395-49b6-bc22-91db547fee60",
   "metadata": {},
   "outputs": [
    {
     "name": "stdout",
     "output_type": "stream",
     "text": [
      "three\n"
     ]
    }
   ],
   "source": [
    "print(tup4[-1])"
   ]
  },
  {
   "cell_type": "code",
   "execution_count": 15,
   "id": "fb507eeb-3841-4fb6-963f-ed0363f09a87",
   "metadata": {},
   "outputs": [
    {
     "name": "stdout",
     "output_type": "stream",
     "text": [
      "(150, 90)\n"
     ]
    }
   ],
   "source": [
    "print(tup5[-1])"
   ]
  },
  {
   "cell_type": "markdown",
   "id": "0e482885-fceb-4b06-9467-b1fee404db54",
   "metadata": {},
   "source": [
    "# Tuple Slicing"
   ]
  },
  {
   "cell_type": "code",
   "execution_count": 16,
   "id": "01eed926-f293-4f50-a808-d1844852ae9d",
   "metadata": {},
   "outputs": [
    {
     "name": "stdout",
     "output_type": "stream",
     "text": [
      "('one', 'two', 'three', 'four', 'five', 'six', 'seven', 'eight')\n"
     ]
    }
   ],
   "source": [
    "mytuple = ('one','two','three','four','five','six','seven','eight')\n",
    "print(mytuple)"
   ]
  },
  {
   "cell_type": "code",
   "execution_count": 17,
   "id": "51dc5580-edea-423a-b505-741ce076e345",
   "metadata": {},
   "outputs": [
    {
     "name": "stdout",
     "output_type": "stream",
     "text": [
      "('one', 'two', 'three')\n"
     ]
    }
   ],
   "source": [
    "print(mytuple[0:3])"
   ]
  },
  {
   "cell_type": "code",
   "execution_count": 18,
   "id": "270d61bf-c408-4c4e-809e-931a84ce94f6",
   "metadata": {},
   "outputs": [
    {
     "name": "stdout",
     "output_type": "stream",
     "text": [
      "('three', 'four', 'five')\n"
     ]
    }
   ],
   "source": [
    "print(mytuple[2:5])"
   ]
  },
  {
   "cell_type": "code",
   "execution_count": 19,
   "id": "76521272-98a6-4567-b504-8547d2d6b218",
   "metadata": {},
   "outputs": [
    {
     "name": "stdout",
     "output_type": "stream",
     "text": [
      "('one', 'two', 'three')\n"
     ]
    }
   ],
   "source": [
    "print(mytuple[:3])"
   ]
  },
  {
   "cell_type": "code",
   "execution_count": 20,
   "id": "5b56d92c-3e0d-4233-adb1-ac7eead221f4",
   "metadata": {},
   "outputs": [
    {
     "name": "stdout",
     "output_type": "stream",
     "text": [
      "('one', 'two')\n"
     ]
    }
   ],
   "source": [
    "print(mytuple[:2])    # Returns first two items"
   ]
  },
  {
   "cell_type": "code",
   "execution_count": 21,
   "id": "051c5a73-c97e-44df-b074-64e21c5e01fd",
   "metadata": {},
   "outputs": [
    {
     "name": "stdout",
     "output_type": "stream",
     "text": [
      "('six', 'seven', 'eight')\n"
     ]
    }
   ],
   "source": [
    "print(mytuple[-3:])    # Returns last three items"
   ]
  },
  {
   "cell_type": "code",
   "execution_count": 22,
   "id": "8dcbd280-2e02-4ec5-a4aa-b1bce0b4b121",
   "metadata": {},
   "outputs": [
    {
     "name": "stdout",
     "output_type": "stream",
     "text": [
      "('seven', 'eight')\n"
     ]
    }
   ],
   "source": [
    "print(mytuple[-2:])"
   ]
  },
  {
   "cell_type": "code",
   "execution_count": 23,
   "id": "4196f31c-e915-4198-9245-bad791952645",
   "metadata": {},
   "outputs": [
    {
     "name": "stdout",
     "output_type": "stream",
     "text": [
      "('eight',)\n"
     ]
    }
   ],
   "source": [
    "print(mytuple[-1:])"
   ]
  },
  {
   "cell_type": "code",
   "execution_count": 24,
   "id": "245a3158-685e-4ff5-b8f6-c74ae6c81989",
   "metadata": {},
   "outputs": [
    {
     "name": "stdout",
     "output_type": "stream",
     "text": [
      "('one', 'two', 'three', 'four', 'five', 'six', 'seven', 'eight')\n"
     ]
    }
   ],
   "source": [
    "print(mytuple[:])"
   ]
  },
  {
   "cell_type": "markdown",
   "id": "21a2bd83-7a64-45bc-9775-ebf4ab296199",
   "metadata": {},
   "source": [
    "# Remove & Change Items"
   ]
  },
  {
   "cell_type": "code",
   "execution_count": 25,
   "id": "7a778916-b0a5-4db7-a766-1bcd2864ab8a",
   "metadata": {},
   "outputs": [
    {
     "name": "stdout",
     "output_type": "stream",
     "text": [
      "('one', 'two', 'three', 'four', 'five', 'six', 'seven', 'eight')\n"
     ]
    }
   ],
   "source": [
    "mytuple = ('one','two','three','four','five','six','seven','eight')\n",
    "print(mytuple)"
   ]
  },
  {
   "cell_type": "code",
   "execution_count": 27,
   "id": "ed160955-96b7-4d40-bdcb-2ad66b0e69dd",
   "metadata": {},
   "outputs": [
    {
     "ename": "TypeError",
     "evalue": "'tuple' object doesn't support item deletion",
     "output_type": "error",
     "traceback": [
      "\u001b[1;31m---------------------------------------------------------------------------\u001b[0m",
      "\u001b[1;31mTypeError\u001b[0m                                 Traceback (most recent call last)",
      "Cell \u001b[1;32mIn[27], line 1\u001b[0m\n\u001b[1;32m----> 1\u001b[0m \u001b[38;5;28;01mdel\u001b[39;00m \u001b[43mmytuple\u001b[49m\u001b[43m[\u001b[49m\u001b[38;5;241;43m0\u001b[39;49m\u001b[43m]\u001b[49m     \u001b[38;5;66;03m# Tuples are immutable which means we can't Delete tuple items\u001b[39;00m\n",
      "\u001b[1;31mTypeError\u001b[0m: 'tuple' object doesn't support item deletion"
     ]
    }
   ],
   "source": [
    "del mytuple[0]     # Tuples are immutable which means we can't Delete tuple items"
   ]
  },
  {
   "cell_type": "code",
   "execution_count": 28,
   "id": "f9b464be-6559-444c-9053-ff9a49e565f6",
   "metadata": {},
   "outputs": [
    {
     "ename": "TypeError",
     "evalue": "'tuple' object does not support item assignment",
     "output_type": "error",
     "traceback": [
      "\u001b[1;31m---------------------------------------------------------------------------\u001b[0m",
      "\u001b[1;31mTypeError\u001b[0m                                 Traceback (most recent call last)",
      "Cell \u001b[1;32mIn[28], line 1\u001b[0m\n\u001b[1;32m----> 1\u001b[0m \u001b[43mmytuple\u001b[49m\u001b[43m[\u001b[49m\u001b[38;5;241;43m0\u001b[39;49m\u001b[43m]\u001b[49m \u001b[38;5;241m=\u001b[39m \u001b[38;5;241m1\u001b[39m\n",
      "\u001b[1;31mTypeError\u001b[0m: 'tuple' object does not support item assignment"
     ]
    }
   ],
   "source": [
    "mytuple[0] = 1   # Tuples are immutable which means we can't Delete tuple items"
   ]
  },
  {
   "cell_type": "code",
   "execution_count": 29,
   "id": "c82582e8-8545-4c96-861b-1e62842b4d1f",
   "metadata": {},
   "outputs": [],
   "source": [
    "del mytuple      # Deleting entire tuple object is possible"
   ]
  },
  {
   "cell_type": "markdown",
   "id": "cfbd3863-a92a-4588-8ba3-f569aef12407",
   "metadata": {},
   "source": [
    "# Loop through a Tuple"
   ]
  },
  {
   "cell_type": "code",
   "execution_count": 30,
   "id": "b080ff0e-1b8d-41db-b6ab-cf3fe1456b1e",
   "metadata": {},
   "outputs": [
    {
     "name": "stdout",
     "output_type": "stream",
     "text": [
      "('one', 'two', 'three', 'four', 'five', 'six', 'seven', 'eight')\n"
     ]
    }
   ],
   "source": [
    "mytuple = ('one','two','three','four','five','six','seven','eight')\n",
    "print(mytuple)"
   ]
  },
  {
   "cell_type": "code",
   "execution_count": 31,
   "id": "b70d4e51-432f-4a07-91d7-4d51ee4ce9f8",
   "metadata": {},
   "outputs": [
    {
     "name": "stdout",
     "output_type": "stream",
     "text": [
      "one\n",
      "two\n",
      "three\n",
      "four\n",
      "five\n",
      "six\n",
      "seven\n",
      "eight\n"
     ]
    }
   ],
   "source": [
    "for i in mytuple:\n",
    "    print(i)"
   ]
  },
  {
   "cell_type": "code",
   "execution_count": 32,
   "id": "ecca8454-3076-4dbf-b4dd-9ba4cdef4669",
   "metadata": {},
   "outputs": [
    {
     "name": "stdout",
     "output_type": "stream",
     "text": [
      "(0, 'one')\n",
      "(1, 'two')\n",
      "(2, 'three')\n",
      "(3, 'four')\n",
      "(4, 'five')\n",
      "(5, 'six')\n",
      "(6, 'seven')\n",
      "(7, 'eight')\n"
     ]
    }
   ],
   "source": [
    "for i in enumerate(mytuple):\n",
    "    print(i)"
   ]
  },
  {
   "cell_type": "markdown",
   "id": "d32e5d48-0ba5-410d-acf5-63e355e4ffcc",
   "metadata": {},
   "source": [
    "# Tuple Membership"
   ]
  },
  {
   "cell_type": "code",
   "execution_count": 33,
   "id": "505d8a9d-cda6-4fd3-8cc5-b0b3da212f3d",
   "metadata": {},
   "outputs": [
    {
     "name": "stdout",
     "output_type": "stream",
     "text": [
      "('one', 'two', 'three', 'four', 'five', 'six', 'seven', 'eight')\n"
     ]
    }
   ],
   "source": [
    "mytuple = ('one','two','three','four','five','six','seven','eight')\n",
    "print(mytuple)"
   ]
  },
  {
   "cell_type": "code",
   "execution_count": 34,
   "id": "2ebf8de7-fe7d-44e5-a6f1-2fb7cbdb468e",
   "metadata": {},
   "outputs": [
    {
     "data": {
      "text/plain": [
       "True"
      ]
     },
     "execution_count": 34,
     "metadata": {},
     "output_type": "execute_result"
    }
   ],
   "source": [
    "'one' in mytuple       # check if 'one' exists in the tuple"
   ]
  },
  {
   "cell_type": "code",
   "execution_count": 35,
   "id": "fc8dd34b-1cd7-4821-a25a-45179bf19874",
   "metadata": {},
   "outputs": [
    {
     "data": {
      "text/plain": [
       "False"
      ]
     },
     "execution_count": 35,
     "metadata": {},
     "output_type": "execute_result"
    }
   ],
   "source": [
    "'ten' in mytuple       # check if 'ten' exists in the tuple"
   ]
  },
  {
   "cell_type": "code",
   "execution_count": 37,
   "id": "3fd5881b-ac52-44b2-abfe-6dbc80bee65e",
   "metadata": {},
   "outputs": [
    {
     "name": "stdout",
     "output_type": "stream",
     "text": [
      "Three is available in the Tuple\n"
     ]
    }
   ],
   "source": [
    "if 'three' in mytuple:          # check if 'three' exist in the tuple\n",
    "    print(\"Three is available in the Tuple\")\n",
    "else:\n",
    "    print(\"Three is not available in the Tuple\")    "
   ]
  },
  {
   "cell_type": "code",
   "execution_count": 38,
   "id": "b1310f90-3a8f-4d74-892a-ab32a9a143b0",
   "metadata": {},
   "outputs": [
    {
     "name": "stdout",
     "output_type": "stream",
     "text": [
      "Eleven is not available in the Tuple\n"
     ]
    }
   ],
   "source": [
    "if 'eleven' in mytuple:          # check if 'eleven' exist in the tuple\n",
    "    print(\"Eleven is available in the Tuple\")\n",
    "else:\n",
    "    print(\"Eleven is not available in the Tuple\")  "
   ]
  },
  {
   "cell_type": "markdown",
   "id": "745ddfa5-5548-41f7-b723-831aa9916c9f",
   "metadata": {},
   "source": [
    "# Index Position"
   ]
  },
  {
   "cell_type": "code",
   "execution_count": 39,
   "id": "a34a416d-e8bb-41e1-aa07-abef30503157",
   "metadata": {},
   "outputs": [
    {
     "name": "stdout",
     "output_type": "stream",
     "text": [
      "('one', 'two', 'three', 'four', 'five', 'six', 'seven', 'eight')\n"
     ]
    }
   ],
   "source": [
    "mytuple = ('one','two','three','four','five','six','seven','eight')\n",
    "print(mytuple)"
   ]
  },
  {
   "cell_type": "code",
   "execution_count": 40,
   "id": "3b2f7cee-a774-4b9e-942e-68f73284e059",
   "metadata": {},
   "outputs": [
    {
     "data": {
      "text/plain": [
       "0"
      ]
     },
     "execution_count": 40,
     "metadata": {},
     "output_type": "execute_result"
    }
   ],
   "source": [
    "mytuple.index('one')         # Index of first element is equal to 'one'"
   ]
  },
  {
   "cell_type": "code",
   "execution_count": 41,
   "id": "d1abd020-717b-464a-8d2a-c13177a1b010",
   "metadata": {},
   "outputs": [
    {
     "data": {
      "text/plain": [
       "4"
      ]
     },
     "execution_count": 41,
     "metadata": {},
     "output_type": "execute_result"
    }
   ],
   "source": [
    "mytuple.index('five')         # Index of first element is equal to 'five'"
   ]
  },
  {
   "cell_type": "code",
   "execution_count": 42,
   "id": "1f1a700e-5c5a-4a9b-87d7-da129e46f083",
   "metadata": {},
   "outputs": [
    {
     "name": "stdout",
     "output_type": "stream",
     "text": [
      "('one', 'two', 'three', 'four', 'five', 'six', 'seven', 'eight')\n"
     ]
    }
   ],
   "source": [
    "mytuple1 = ('one','two','three','four','one','one','two','three')\n",
    "print(mytuple)"
   ]
  },
  {
   "cell_type": "code",
   "execution_count": 43,
   "id": "7d3b3df3-79d8-4130-beb8-11c5c98b709b",
   "metadata": {},
   "outputs": [
    {
     "data": {
      "text/plain": [
       "0"
      ]
     },
     "execution_count": 43,
     "metadata": {},
     "output_type": "execute_result"
    }
   ],
   "source": [
    "mytuple1.index('one')       # Index of first element is equal to 'one'"
   ]
  },
  {
   "cell_type": "markdown",
   "id": "0ea5d87d-2a36-4a81-bf9a-93f5a42c665d",
   "metadata": {},
   "source": [
    "# Sorting"
   ]
  },
  {
   "cell_type": "code",
   "execution_count": 44,
   "id": "c5feed92-3646-4ef5-b43d-ec9ce93cf7b8",
   "metadata": {},
   "outputs": [
    {
     "name": "stdout",
     "output_type": "stream",
     "text": [
      "(43, 67, 99, 12, 6, 90, 67)\n"
     ]
    }
   ],
   "source": [
    "mytuple2 = (43,67,99,12,6,90,67)\n",
    "print(mytuple2)"
   ]
  },
  {
   "cell_type": "code",
   "execution_count": 46,
   "id": "c083dbf4-adfd-4e29-a2dd-4754fb3d33b5",
   "metadata": {},
   "outputs": [
    {
     "data": {
      "text/plain": [
       "[6, 12, 43, 67, 67, 90, 99]"
      ]
     },
     "execution_count": 46,
     "metadata": {},
     "output_type": "execute_result"
    }
   ],
   "source": [
    "sorted(mytuple2)            # Returns a new sorted tuple and doesn't change original tuple"
   ]
  },
  {
   "cell_type": "code",
   "execution_count": 47,
   "id": "b39244a7-03a2-44fa-b04d-6d68cdef39ec",
   "metadata": {},
   "outputs": [
    {
     "data": {
      "text/plain": [
       "[99, 90, 67, 67, 43, 12, 6]"
      ]
     },
     "execution_count": 47,
     "metadata": {},
     "output_type": "execute_result"
    }
   ],
   "source": [
    "sorted(mytuple2, reverse=True)     # Sort in Descending Order)"
   ]
  }
 ],
 "metadata": {
  "kernelspec": {
   "display_name": "Python 3 (ipykernel)",
   "language": "python",
   "name": "python3"
  },
  "language_info": {
   "codemirror_mode": {
    "name": "ipython",
    "version": 3
   },
   "file_extension": ".py",
   "mimetype": "text/x-python",
   "name": "python",
   "nbconvert_exporter": "python",
   "pygments_lexer": "ipython3",
   "version": "3.12.4"
  }
 },
 "nbformat": 4,
 "nbformat_minor": 5
}
