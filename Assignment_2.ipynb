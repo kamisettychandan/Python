{
 "cells": [
  {
   "cell_type": "markdown",
   "id": "bb3c666a-4e21-4421-85dd-c96325c0d730",
   "metadata": {},
   "source": [
    "# Assignment 2 - Python"
   ]
  },
  {
   "cell_type": "code",
   "execution_count": 1,
   "id": "14305087-7e0b-475a-9f32-8af2ea26766e",
   "metadata": {},
   "outputs": [
    {
     "name": "stdout",
     "output_type": "stream",
     "text": [
      "7\n",
      "3\n",
      "10\n",
      "2.5\n",
      "2\n",
      "1\n",
      "25\n"
     ]
    }
   ],
   "source": [
    "# Operators\n",
    "a = 5\n",
    "b = 2\n",
    "print(a+b)    # Addition\n",
    "print(a-b)    # Subtraction\n",
    "print(a*b)    # Multiplication\n",
    "print(a/b)    # Division\n",
    "print(a//b)   # Modulus\n",
    "print(a%b)    # Percentage\n",
    "print(a**b)   # Exponential"
   ]
  },
  {
   "cell_type": "code",
   "execution_count": 5,
   "id": "fa774f24-bae2-4075-914c-264352401e4d",
   "metadata": {},
   "outputs": [
    {
     "name": "stdout",
     "output_type": "stream",
     "text": [
      "<class 'int'>\n",
      "<class 'float'>\n",
      "<class 'complex'>\n",
      "<class 'str'>\n",
      "type[2, 3, 4, 5, 'AI']\n",
      "<class 'dict'>\n",
      "<class 'set'>\n",
      "<class 'tuple'>\n",
      "<class 'bool'>\n",
      "<class 'bool'>\n"
     ]
    }
   ],
   "source": [
    "# Checking Data Types\n",
    "\n",
    "print(type(10))       # Int\n",
    "print(type(3.14))     # Float\n",
    "print(type(1+3j))     # Complex\n",
    "print(type(\"Vihari Nandan\"))    # String\n",
    "print(type[2,3,4,5,\"AI\"])  # List\n",
    "print(type({\"name\":\"Data Science\"}))  # Dictionary\n",
    "print(type({1,2,3,4,5}))           # Set\n",
    "print(type((1,2,3,4,5)))          # Tuple\n",
    "print(type(3>1))                # Bool\n",
    "print(type(3<1))                # Bool"
   ]
  },
  {
   "cell_type": "code",
   "execution_count": 6,
   "id": "0347d4b4-be3a-4dae-883e-b9479aa493aa",
   "metadata": {},
   "outputs": [
    {
     "name": "stdout",
     "output_type": "stream",
     "text": [
      "First Name is  Vihari\n",
      "First Name length is  Vihari\n",
      "Last Name is  Nandan\n",
      "Last Name length is  Nandan\n",
      "Country is  India\n",
      "City is  Tadipatri\n",
      "Age is  32\n",
      "Married:  True\n",
      "Skills are  ['Networking', 'IoT', 'DS', 'ML', 'AI']\n",
      "Personal Information:  {'first_name': 'Chandan', 'last_name': 'Kumar', 'country': 'Bangalore', 'city': 'Hyderabad'}\n"
     ]
    }
   ],
   "source": [
    "# Variables\n",
    "\n",
    "first_name = 'Vihari'\n",
    "last_name = 'Nandan'\n",
    "country = 'India'\n",
    "city = 'Tadipatri'\n",
    "age = 32\n",
    "is_married = True\n",
    "skills = ['Networking', 'IoT', 'DS', 'ML', \"AI\"]\n",
    "person_info = {\n",
    "    'first_name': 'Chandan',\n",
    "    'last_name' : 'Kumar',\n",
    "    'country' : 'Bangalore',\n",
    "    'city' : 'Hyderabad'\n",
    "}\n",
    "\n",
    "# Printing the values stored in the variables\n",
    "\n",
    "print(\"First Name is \", first_name)\n",
    "print(\"First Name length is \", first_name)\n",
    "print(\"Last Name is \", last_name)\n",
    "print(\"Last Name length is \", last_name)\n",
    "print(\"Country is \", country)\n",
    "print(\"City is \", city)\n",
    "print(\"Age is \", age)\n",
    "print(\"Married: \", is_married)\n",
    "print(\"Skills are \", skills)\n",
    "print(\"Personal Information: \", person_info) "
   ]
  },
  {
   "cell_type": "code",
   "execution_count": 7,
   "id": "635d9cf7-d73c-4435-b050-83e1b4f674a2",
   "metadata": {},
   "outputs": [
    {
     "name": "stdout",
     "output_type": "stream",
     "text": [
      "vihari nandan India 25 True\n",
      "First Name is  vihari\n",
      "Last Name is  nandan\n",
      "Country is  India\n",
      "Age is  25\n",
      "Maritial Status is True\n"
     ]
    }
   ],
   "source": [
    "# Declaring multiple variables in one line\n",
    "\n",
    "first_name, last_name, country, age, is_married = 'vihari', 'nandan', 'India', 25, True\n",
    "\n",
    "print(first_name, last_name, country, age, is_married)\n",
    "print(\"First Name is \", first_name)\n",
    "print(\"Last Name is \", last_name)\n",
    "print(\"Country is \", country)\n",
    "print(\"Age is \", age)\n",
    "print(\"Maritial Status is\", is_married)"
   ]
  },
  {
   "cell_type": "code",
   "execution_count": 8,
   "id": "a6e83cbf-afcc-4386-b68d-8178a4ffbb20",
   "metadata": {},
   "outputs": [
    {
     "name": "stdout",
     "output_type": "stream",
     "text": [
      "P\n",
      "1\n",
      "12\n",
      "I hope you are enjoying Full stack Data Science class\n"
     ]
    }
   ],
   "source": [
    "# Single Line Comment\n",
    "\n",
    "letter = 'P'  \n",
    "print(letter)\n",
    "print(len(letter))\n",
    "\n",
    "greeting = \"Hello Vihari\"\n",
    "print(len(greeting))\n",
    "\n",
    "sentence = \"I hope you are enjoying Full stack Data Science class\"\n",
    "print(sentence)"
   ]
  },
  {
   "cell_type": "code",
   "execution_count": 9,
   "id": "1f0af5c2-611c-48e3-b258-a5b56ae6572d",
   "metadata": {},
   "outputs": [
    {
     "name": "stdout",
     "output_type": "stream",
     "text": [
      "I am working as a IoT Data analytics Engineer.\n",
      "I find anything IoT Projects.\n",
      "That is why joined in Ful stack Data Science.\n",
      "I am working as a IoT Data analytics Engineer.\n",
      "I find anything IoT Projects.\n",
      "That is why joined in Ful stack Data Science.\n"
     ]
    }
   ],
   "source": [
    "# Multiline String\n",
    "\n",
    "multiline_string = '''I am working as a IoT Data analytics Engineer.\n",
    "I find anything IoT Projects.\n",
    "That is why joined in Ful stack Data Science.'''\n",
    "print(multiline_string)\n",
    "\n",
    "# Another wat of doing the same thing\n",
    "multiline_string = \"\"\"I am working as a IoT Data analytics Engineer.\n",
    "I find anything IoT Projects.\n",
    "That is why joined in Ful stack Data Science.\"\"\"\n",
    "print(multiline_string)"
   ]
  },
  {
   "cell_type": "code",
   "execution_count": 13,
   "id": "665aaee6-b45a-4305-b58c-65ef75974025",
   "metadata": {},
   "outputs": [
    {
     "name": "stdout",
     "output_type": "stream",
     "text": [
      "Vihari Nandan\n",
      "6\n",
      "6\n",
      "False\n",
      "13\n"
     ]
    }
   ],
   "source": [
    "# String Concatenation\n",
    "\n",
    "first_name = \"Vihari\"\n",
    "last_name = \"Nandan\"\n",
    "space = ' '\n",
    "full_name = first_name + space + last_name\n",
    "print(full_name)\n",
    "\n",
    "# checking length of a string using len() builtin function\n",
    "print(len(first_name))\n",
    "print(len(last_name))\n",
    "print(len(first_name) > len(last_name))\n",
    "print(len(full_name))"
   ]
  },
  {
   "cell_type": "code",
   "execution_count": 16,
   "id": "a5c26df0-97e8-436b-a732-56659f7b7d8e",
   "metadata": {},
   "outputs": [
    {
     "name": "stdout",
     "output_type": "stream",
     "text": [
      "P\n",
      "y\n",
      "t\n",
      "h\n",
      "o\n",
      "n\n"
     ]
    }
   ],
   "source": [
    "# Unpacking characters\n",
    "\n",
    "language = 'Python'\n",
    "a,b,c,d,e,f = language\n",
    "print(a)\n",
    "print(b)\n",
    "print(c)\n",
    "print(d)\n",
    "print(e)\n",
    "print(f)"
   ]
  },
  {
   "cell_type": "code",
   "execution_count": 17,
   "id": "8fd72dbb-3bde-492e-9994-0e5e91603646",
   "metadata": {},
   "outputs": [
    {
     "name": "stdout",
     "output_type": "stream",
     "text": [
      "P\n",
      "y\n",
      "n\n"
     ]
    }
   ],
   "source": [
    "# Accessing characters in strings by index\n",
    "\n",
    "language = 'Python'\n",
    "first_letter = language[0]\n",
    "print(first_letter) # P\n",
    "second_letter = language[1]\n",
    "print(second_letter) # y\n",
    "last_index = len(language) - 1\n",
    "last_letter = language[last_index]\n",
    "print(last_letter) # n"
   ]
  },
  {
   "cell_type": "code",
   "execution_count": 18,
   "id": "1f999099-35be-4e8d-8c3b-5369423ba7e7",
   "metadata": {},
   "outputs": [
    {
     "name": "stdout",
     "output_type": "stream",
     "text": [
      "n\n",
      "o\n"
     ]
    }
   ],
   "source": [
    "# If we want to start from right end we can use negative indexing. -1 is the last index\n",
    "language = 'Python'\n",
    "last_letter = language[-1]\n",
    "print(last_letter) # n\n",
    "second_last = language[-2]\n",
    "print(second_last) # o"
   ]
  },
  {
   "cell_type": "code",
   "execution_count": 19,
   "id": "a9269868-da5a-41a5-88c0-98f2a636b85f",
   "metadata": {},
   "outputs": [
    {
     "name": "stdout",
     "output_type": "stream",
     "text": [
      "hon\n",
      "hon\n",
      "hon\n"
     ]
    }
   ],
   "source": [
    "# Slicing\n",
    "\n",
    "language = 'Python'\n",
    "first_three = language[0:3] # starts at zero index and up to 3 but not include 3\n",
    "last_three = language[3:6]\n",
    "print(last_three) # hon\n",
    "# Another way\n",
    "last_three = language[-3:]\n",
    "print(last_three)   # hon\n",
    "last_three = language[3:]\n",
    "print(last_three)   # hon"
   ]
  },
  {
   "cell_type": "code",
   "execution_count": 20,
   "id": "cee9872c-8771-467b-a35d-09a54cc631fe",
   "metadata": {},
   "outputs": [
    {
     "name": "stdout",
     "output_type": "stream",
     "text": [
      "Pto\n"
     ]
    }
   ],
   "source": [
    "# Skipping character while splitting Python strings\n",
    "language = 'Python'\n",
    "pto = language[0:6:2] # \n",
    "print(pto) # pto"
   ]
  },
  {
   "cell_type": "code",
   "execution_count": 22,
   "id": "de314efc-f170-4b89-a988-ca5f2510f132",
   "metadata": {},
   "outputs": [
    {
     "name": "stdout",
     "output_type": "stream",
     "text": [
      "Thirty days of python\n",
      "3\n",
      "1\n",
      "2\n",
      "True\n",
      "False\n",
      "thirty  days    of      python\n",
      "thirty    days      of        python\n",
      "5\n",
      "0\n",
      "I am Asabeneh Yetayeh. I am a teacher. I live in Finland.\n",
      "The area of circle with 10 is 3.14\n",
      "5\n",
      "0\n",
      "True\n",
      "True\n",
      "False\n",
      "False\n",
      "False\n",
      "False\n",
      "5\n",
      "0\n",
      "False\n",
      "True\n",
      "False\n",
      "False\n",
      "True\n",
      "True\n",
      "False\n",
      "False\n",
      "True\n",
      "True\n",
      "False\n",
      "HTML#, CSS#, JavaScript#, React\n",
      " thirty days of python \n",
      "thirty days of coding\n",
      "['thirty', 'days', 'of', 'python']\n",
      "Thirty Days Of Python\n",
      "THIRTY DAYS OF PYTHON\n",
      "tHIRTY dAYS oF pYTHON\n",
      "True\n",
      "False\n"
     ]
    }
   ],
   "source": [
    "# String Methods\n",
    "# capitalize(): Converts the first character the string to Capital Letter\n",
    "\n",
    "challenge = 'thirty days of python'\n",
    "print(challenge.capitalize()) # 'Thirty days of python'\n",
    "\n",
    "# count(): returns occurrences of substring in string, count(substring, start=.., end=..)\n",
    "\n",
    "challenge = 'thirty days of python'\n",
    "print(challenge.count('y')) # 3\n",
    "print(challenge.count('y', 7, 14)) # 1\n",
    "print(challenge.count('th')) # 2`\n",
    "\n",
    "# endswith(): Checks if a string ends with a specified ending\n",
    "\n",
    "challenge = 'thirty days of python'\n",
    "print(challenge.endswith('on'))   # True\n",
    "print(challenge.endswith('tion')) # False\n",
    "\n",
    "# expandtabs(): Replaces tab character with spaces, default tab size is 8. It takes tab size argument\n",
    "\n",
    "challenge = 'thirty\\tdays\\tof\\tpython'\n",
    "print(challenge.expandtabs())   # 'thirty  days    of      python'\n",
    "print(challenge.expandtabs(10)) # 'thirty    days      of        python'\n",
    "\n",
    "# find(): Returns the index of first occurrence of substring\n",
    "\n",
    "challenge = 'thirty days of python'\n",
    "print(challenge.find('y'))  # 5\n",
    "print(challenge.find('th')) # 0\n",
    "\n",
    "# format()\tformats string into nicer output    \n",
    "first_name = 'Asabeneh'\n",
    "last_name = 'Yetayeh'\n",
    "job = 'teacher'\n",
    "country = 'Finland'\n",
    "sentence = 'I am {} {}. I am a {}. I live in {}.'.format(first_name, last_name, job, country)\n",
    "print(sentence) # I am Asabeneh Yetayeh. I am a teacher. I live in Finland.\n",
    "\n",
    "radius = 10\n",
    "pi = 3.14\n",
    "area = pi # radius ## 2\n",
    "result = 'The area of circle with {} is {}'.format(str(radius), str(area))\n",
    "print(result) # The area of circle with 10 is 314.0\n",
    "\n",
    "# index(): Returns the index of substring\n",
    "challenge = 'thirty days of python'\n",
    "print(challenge.find('y'))  # 5\n",
    "print(challenge.find('th')) # 0\n",
    "\n",
    "# isalnum(): Checks alphanumeric character\n",
    "\n",
    "challenge = 'ThirtyDaysPython'\n",
    "print(challenge.isalnum()) # True\n",
    "\n",
    "challenge = '30DaysPython'\n",
    "print(challenge.isalnum()) # True\n",
    "\n",
    "challenge = 'thirty days of python'\n",
    "print(challenge.isalnum()) # False\n",
    "\n",
    "challenge = 'thirty days of python 2019'\n",
    "print(challenge.isalnum()) # False\n",
    "\n",
    "# isalpha(): Checks if all characters are alphabets\n",
    "\n",
    "challenge = 'thirty days of python'\n",
    "print(challenge.isalpha()) # True\n",
    "num = '123'\n",
    "print(num.isalpha())      # False\n",
    "\n",
    "# isdecimal(): Checks Decimal Characters\n",
    "\n",
    "challenge = 'thirty days of python'\n",
    "print(challenge.find('y'))  # 5\n",
    "print(challenge.find('th')) # 0\n",
    "\n",
    "# isdigit(): Checks Digit Characters\n",
    "\n",
    "challenge = 'Thirty'\n",
    "print(challenge.isdigit()) # False\n",
    "challenge = '30'\n",
    "#print(challenge.digit())   # True\n",
    "\n",
    "# isdecimal():Checks decimal characters\n",
    "\n",
    "num = '10'\n",
    "print(num.isdecimal()) # True\n",
    "num = '10.5'\n",
    "print(num.isdecimal()) # False\n",
    "\n",
    "\n",
    "# isidentifier():Checks for valid identifier means it check if a string is a valid variable name\n",
    "\n",
    "challenge = '30DaysOfPython'\n",
    "print(challenge.isidentifier()) # False, because it starts with a number\n",
    "challenge = 'thirty_days_of_python'\n",
    "print(challenge.isidentifier()) # True\n",
    "\n",
    "\n",
    "# islower():Checks if all alphabets in a string are lowercase\n",
    "\n",
    "challenge = 'thirty days of python'\n",
    "print(challenge.islower()) # True\n",
    "challenge = 'Thirty days of python'\n",
    "print(challenge.islower()) # False\n",
    "\n",
    "# isupper(): returns if all characters are uppercase characters\n",
    "\n",
    "challenge = 'thirty days of python'\n",
    "print(challenge.isupper()) #  False\n",
    "challenge = 'THIRTY DAYS OF PYTHON'\n",
    "print(challenge.isupper()) # True\n",
    "\n",
    "\n",
    "# isnumeric():Checks numeric characters\n",
    "\n",
    "num = '10'\n",
    "print(num.isnumeric())      # True\n",
    "print('ten'.isnumeric())    # False\n",
    "\n",
    "# join(): Returns a concatenated string\n",
    "\n",
    "web_tech = ['HTML', 'CSS', 'JavaScript', 'React']\n",
    "result = '#, '.join(web_tech)\n",
    "print(result) # 'HTML# CSS# JavaScript# React'\n",
    "\n",
    "# strip(): Removes both leading and trailing characters\n",
    "\n",
    "challenge = ' thirty days of python '\n",
    "print(challenge.strip('y')) # 5\n",
    "\n",
    "# replace(): Replaces substring inside\n",
    "\n",
    "challenge = 'thirty days of python'\n",
    "print(challenge.replace('python', 'coding')) # 'thirty days of coding'\n",
    "\n",
    "# split():Splits String from Left\n",
    "\n",
    "challenge = 'thirty days of python'\n",
    "print(challenge.split()) # ['thirty', 'days', 'of', 'python']\n",
    "\n",
    "# title(): Returns a Title Cased String\n",
    "\n",
    "challenge = 'thirty days of python'\n",
    "print(challenge.title()) # Thirty Days Of Python\n",
    "\n",
    "# swapcase(): Checks if String Starts with the Specified String\n",
    "  \n",
    "challenge = 'thirty days of python'\n",
    "print(challenge.swapcase())   # THIRTY DAYS OF PYTHON\n",
    "challenge = 'Thirty Days Of Python'\n",
    "print(challenge.swapcase())  # tHIRTY dAYS oF pYTHON\n",
    "\n",
    "# startswith(): Checks if String Starts with the Specified String\n",
    "\n",
    "challenge = 'thirty days of python'\n",
    "print(challenge.startswith('thirty')) # True\n",
    "challenge = '30 days of python'\n",
    "print(challenge.startswith('thirty')) # False"
   ]
  },
  {
   "cell_type": "code",
   "execution_count": null,
   "id": "eaf50fdd-50c6-4294-a5aa-6f5f9d21d8be",
   "metadata": {},
   "outputs": [],
   "source": []
  }
 ],
 "metadata": {
  "kernelspec": {
   "display_name": "Python 3 (ipykernel)",
   "language": "python",
   "name": "python3"
  },
  "language_info": {
   "codemirror_mode": {
    "name": "ipython",
    "version": 3
   },
   "file_extension": ".py",
   "mimetype": "text/x-python",
   "name": "python",
   "nbconvert_exporter": "python",
   "pygments_lexer": "ipython3",
   "version": "3.12.4"
  }
 },
 "nbformat": 4,
 "nbformat_minor": 5
}
