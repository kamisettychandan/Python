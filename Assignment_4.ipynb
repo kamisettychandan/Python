{
 "cells": [
  {
   "cell_type": "markdown",
   "id": "cdda3174-fdee-4fee-8916-e692d433e678",
   "metadata": {},
   "source": [
    "# Assignment 4 - Python"
   ]
  },
  {
   "cell_type": "code",
   "execution_count": 5,
   "id": "cdf47a8a-c2e5-4076-9d2a-13873bf3082c",
   "metadata": {},
   "outputs": [],
   "source": [
    "# Prints is use of Answer"
   ]
  },
  {
   "cell_type": "code",
   "execution_count": 6,
   "id": "67e3ccea-0820-403f-a84d-91b0df118235",
   "metadata": {},
   "outputs": [
    {
     "data": {
      "text/plain": [
       "20"
      ]
     },
     "execution_count": 6,
     "metadata": {},
     "output_type": "execute_result"
    }
   ],
   "source": [
    "a = 10\n",
    "b = 20\n",
    "a\n",
    "b"
   ]
  },
  {
   "cell_type": "code",
   "execution_count": 9,
   "id": "5708425f-714f-4704-8651-53a692597f4f",
   "metadata": {},
   "outputs": [
    {
     "name": "stdout",
     "output_type": "stream",
     "text": [
      "Value of a is 10\n",
      "Value of b is 20\n"
     ]
    }
   ],
   "source": [
    "a = 10\n",
    "b = 20\n",
    "print(\"Value of a is\", a)\n",
    "print(\"Value of b is\", b)"
   ]
  },
  {
   "cell_type": "code",
   "execution_count": 10,
   "id": "f0985d5e-e0be-42c9-8ba7-e8e670e6e7ea",
   "metadata": {},
   "outputs": [
    {
     "name": "stdout",
     "output_type": "stream",
     "text": [
      "10\n",
      "10 20\n",
      "Vihari\n",
      "10 20 Vihari\n"
     ]
    }
   ],
   "source": [
    "print(10)\n",
    "print(10,20)\n",
    "print('Vihari')\n",
    "print(10,20,'Vihari')"
   ]
  },
  {
   "cell_type": "code",
   "execution_count": 11,
   "id": "7677660d-5e30-4a27-a78f-c0756136e966",
   "metadata": {},
   "outputs": [
    {
     "name": "stdout",
     "output_type": "stream",
     "text": [
      "Result of num3 is  60\n"
     ]
    }
   ],
   "source": [
    "num1 = 25\n",
    "num2 = 35\n",
    "num3 = num1 + num2\n",
    "print(\"Result of num3 is \", num3)"
   ]
  },
  {
   "cell_type": "markdown",
   "id": "bc0110b4-455f-4343-839e-5f6aaa0cf32f",
   "metadata": {},
   "source": [
    "# Print result with String"
   ]
  },
  {
   "cell_type": "code",
   "execution_count": 13,
   "id": "c6bfe707-ed3e-46cb-915d-d5f3992acc90",
   "metadata": {},
   "outputs": [
    {
     "name": "stdout",
     "output_type": "stream",
     "text": [
      "The Addition of 20 and 30 is 50\n"
     ]
    }
   ],
   "source": [
    "num1 = 20\n",
    "num2 = 30\n",
    "num3 = num1 + num2\n",
    "print(\"The Addition of\", num1, 'and', num2, \"is\", num3) "
   ]
  },
  {
   "cell_type": "code",
   "execution_count": 15,
   "id": "266214c3-37f9-430d-8a2b-3be1237523b4",
   "metadata": {},
   "outputs": [
    {
     "name": "stdout",
     "output_type": "stream",
     "text": [
      "Hello, my name is Vihari and I am 3 year old from Hyderabad\n"
     ]
    }
   ],
   "source": [
    "name = 'Vihari'\n",
    "age = 3\n",
    "city = 'Hyderabad'\n",
    "print(\"Hello, my name is\", name, 'and', \"I am\", age, \"year old from\", city)"
   ]
  },
  {
   "cell_type": "markdown",
   "id": "3f5c7f84-c1e5-4139-aa8b-4d1b4041d05f",
   "metadata": {},
   "source": [
    "# Print Format Method"
   ]
  },
  {
   "cell_type": "code",
   "execution_count": 18,
   "id": "cd0afbd0-647f-4c18-a1b7-6904fec51262",
   "metadata": {},
   "outputs": [
    {
     "name": "stdout",
     "output_type": "stream",
     "text": [
      "The addition of 20 and 30 is 50\n"
     ]
    }
   ],
   "source": [
    "num1 = 20\n",
    "num2 = 30\n",
    "num3 = num1 + num2\n",
    "print('The addition of {} and {} is {}'.format(num1,num2,num3))"
   ]
  },
  {
   "cell_type": "code",
   "execution_count": 20,
   "id": "219b2db6-acb9-4a7e-8cdb-dcf0a04f3580",
   "metadata": {},
   "outputs": [
    {
     "name": "stdout",
     "output_type": "stream",
     "text": [
      "Hello my name is Vihari and I am 3 year old from Bangalore\n"
     ]
    }
   ],
   "source": [
    "name = 'Vihari'\n",
    "age = 3\n",
    "city = 'Bangalore'\n",
    "print('Hello my name is {} and I am {} year old from {}'.format(name,age,city))"
   ]
  },
  {
   "cell_type": "code",
   "execution_count": 21,
   "id": "02352fa2-4b55-447a-89ca-378338e61ae5",
   "metadata": {},
   "outputs": [
    {
     "name": "stdout",
     "output_type": "stream",
     "text": [
      "Average of 100, 200, 333 is 211.0\n"
     ]
    }
   ],
   "source": [
    "num1 = 100\n",
    "num2 = 200\n",
    "num3 = 333\n",
    "avg = (num1+num2+num3)/3\n",
    "print('Average of {}, {}, {} is {}'.format(num1,num2,num3,avg)) "
   ]
  },
  {
   "cell_type": "markdown",
   "id": "23c0bb98-0019-447d-bcd4-da280320b75e",
   "metadata": {},
   "source": [
    "# End Statement\n"
   ]
  },
  {
   "cell_type": "code",
   "execution_count": 23,
   "id": "3296f477-c971-433a-aeb0-067be3de0b7e",
   "metadata": {},
   "outputs": [
    {
     "name": "stdout",
     "output_type": "stream",
     "text": [
      "Vihari Nandan\n"
     ]
    }
   ],
   "source": [
    "# We will use end statement that joint line from end of one string to starting of other string\n",
    "\n",
    "print(\"Vihari\", end=\" \")\n",
    "print(\"Nandan\")"
   ]
  },
  {
   "cell_type": "markdown",
   "id": "7e1467e0-cf13-44f3-8968-30a60e4bd927",
   "metadata": {},
   "source": [
    "# Separator"
   ]
  },
  {
   "cell_type": "code",
   "execution_count": 24,
   "id": "41552694-b4a1-44ca-bcf1-46194d701325",
   "metadata": {},
   "outputs": [],
   "source": [
    "# One print statement onle we use\n",
    "# Inside one print statement we have multiple values\n",
    "# We want to separate these multiple values with anything"
   ]
  },
  {
   "cell_type": "code",
   "execution_count": 25,
   "id": "f5354e32-9677-44f9-88d1-1d314edec1e2",
   "metadata": {},
   "outputs": [
    {
     "name": "stdout",
     "output_type": "stream",
     "text": [
      "Hello---->How are you---->Bro\n"
     ]
    }
   ],
   "source": [
    "print('Hello', 'How are you', 'Bro', sep='---->') "
   ]
  },
  {
   "cell_type": "code",
   "execution_count": 28,
   "id": "aa660cae-be8c-44d8-a155-777d545694d8",
   "metadata": {},
   "outputs": [
    {
     "name": "stdout",
     "output_type": "stream",
     "text": [
      "Hello Vihari & Chandan & How are you\n"
     ]
    }
   ],
   "source": [
    "print('Hello Vihari ', ' Chandan ', ' How are you',sep='&')"
   ]
  },
  {
   "cell_type": "code",
   "execution_count": 29,
   "id": "e6b463d2-f20e-4419-8750-7486baa04404",
   "metadata": {},
   "outputs": [
    {
     "name": "stdout",
     "output_type": "stream",
     "text": [
      "Hello Vihari @ Chandan @ How are you\n"
     ]
    }
   ],
   "source": [
    "print('Hello Vihari ', ' Chandan ', ' How are you',sep='@')"
   ]
  },
  {
   "cell_type": "code",
   "execution_count": 30,
   "id": "92d99c5c-c09d-480a-a433-40eb43651db9",
   "metadata": {},
   "outputs": [
    {
     "name": "stdout",
     "output_type": "stream",
     "text": [
      "Hello Vihari   Chandan   How are you\n"
     ]
    }
   ],
   "source": [
    "print('Hello Vihari ', ' Chandan ', ' How are you',sep=' ')"
   ]
  },
  {
   "cell_type": "code",
   "execution_count": 32,
   "id": "6581fe44-13af-4fc9-9b5c-e402b616ca6c",
   "metadata": {},
   "outputs": [
    {
     "name": "stdout",
     "output_type": "stream",
     "text": [
      "1 2 3.\n"
     ]
    }
   ],
   "source": [
    "print(1,2,end=\" \")\n",
    "print(3,\".\",sep='')"
   ]
  },
  {
   "cell_type": "markdown",
   "id": "cbe2f878-1b18-47e6-9488-ccb91c67ffe7",
   "metadata": {},
   "source": [
    "# Operators"
   ]
  },
  {
   "cell_type": "code",
   "execution_count": 33,
   "id": "4f0a3da3-3f33-4fc2-9cad-5f4e98a46803",
   "metadata": {},
   "outputs": [
    {
     "name": "stdout",
     "output_type": "stream",
     "text": [
      "Addition:  3\n",
      "Subtraction:  1\n",
      "Multiplication:  6\n",
      "Division:  2.0\n",
      "Division:  3.0\n",
      "Division:  3.5\n",
      "Division without the remainder:  3\n",
      "Modulus:  1\n",
      "Division without the remainder:  2\n",
      "Exponential:  9\n"
     ]
    }
   ],
   "source": [
    "# Arithmetic Operators\n",
    "# Integers\n",
    "\n",
    "print('Addition: ', 1 + 2)\n",
    "print('Subtraction: ', 2 - 1)\n",
    "print('Multiplication: ', 2 * 3)\n",
    "print ('Division: ', 4 / 2)                         # Division in python gives floating number\n",
    "print('Division: ', 6 / 2)\n",
    "print('Division: ', 7 / 2)\n",
    "print('Division without the remainder: ', 7 // 2)   # gives without the floating number or without the remaining\n",
    "print('Modulus: ', 3 % 2)                           # Gives the remainder\n",
    "print ('Division without the remainder: ', 7 // 3)\n",
    "print('Exponential: ', 3 ** 2)                     # it means 3 * 3"
   ]
  },
  {
   "cell_type": "code",
   "execution_count": 34,
   "id": "eeed2459-7de1-4962-94b2-d125ab8ba516",
   "metadata": {},
   "outputs": [
    {
     "name": "stdout",
     "output_type": "stream",
     "text": [
      "Floating Number,PI 3.14\n",
      "Floating Number, gravity 9.81\n"
     ]
    }
   ],
   "source": [
    "# Floating numbers\n",
    "print('Floating Number,PI', 3.14)\n",
    "print('Floating Number, gravity', 9.81)"
   ]
  },
  {
   "cell_type": "code",
   "execution_count": 35,
   "id": "ccf39922-1da0-4213-97be-91f39b0d59d5",
   "metadata": {},
   "outputs": [
    {
     "name": "stdout",
     "output_type": "stream",
     "text": [
      "Complex number:  (1+1j)\n",
      "Multiplying complex number:  (2+0j)\n"
     ]
    }
   ],
   "source": [
    "# Complex numbers\n",
    "print('Complex number: ', 1 + 1j)\n",
    "print('Multiplying complex number: ',(1 + 1j) * (1-1j))"
   ]
  },
  {
   "cell_type": "code",
   "execution_count": 36,
   "id": "83809a7d-645d-4fc2-b6a6-0de70d899829",
   "metadata": {},
   "outputs": [],
   "source": [
    "# Declaring the variable at the top first\n",
    "a = 3 # a is a variable name and 3 is an integer data type\n",
    "b = 2 # b is a variable name and 3 is an integer data type"
   ]
  },
  {
   "cell_type": "code",
   "execution_count": 37,
   "id": "ca202642-ff73-479e-82b9-c2528a51fbc8",
   "metadata": {},
   "outputs": [],
   "source": [
    "# Arithmetic operations and assigning the result to a variable\n",
    "total = a + b\n",
    "diff = a - b\n",
    "product = a * b\n",
    "division = a / b\n",
    "remainder = a % b\n",
    "floor_division = a // b\n",
    "exponential = a ** b"
   ]
  },
  {
   "cell_type": "code",
   "execution_count": 38,
   "id": "801d8e40-0261-40c6-9f40-f728e20eaf44",
   "metadata": {},
   "outputs": [
    {
     "name": "stdout",
     "output_type": "stream",
     "text": [
      "5\n",
      "a + b =  5\n",
      "a - b =  1\n",
      "a * b =  6\n",
      "a / b =  1.5\n",
      "a % b =  1\n",
      "a // b =  1\n",
      "a ** b =  9\n"
     ]
    }
   ],
   "source": [
    "# I should have used sum instead of total but sum is a built-in function try to avoid overriding builtin functions\n",
    "print(total) # if you don't label your print with some string, you never know from where is  the result is coming\n",
    "print('a + b = ', total)\n",
    "print('a - b = ', diff)\n",
    "print('a * b = ', product)\n",
    "print('a / b = ', division)\n",
    "print('a % b = ', remainder)\n",
    "print('a // b = ', floor_division)\n",
    "print('a ** b = ', exponential)"
   ]
  },
  {
   "cell_type": "code",
   "execution_count": 39,
   "id": "728d336f-932b-4ceb-968d-0906f76a3d36",
   "metadata": {},
   "outputs": [],
   "source": [
    "# Declaring values and organizing them together\n",
    "num_one = 3\n",
    "num_two = 4"
   ]
  },
  {
   "cell_type": "code",
   "execution_count": 40,
   "id": "c2e08715-0086-4503-98db-d2f994a4f137",
   "metadata": {},
   "outputs": [],
   "source": [
    "# Arithmetic operations\n",
    "total = num_one + num_two\n",
    "diff = num_two - num_one\n",
    "product = num_one * num_two\n",
    "div = num_two / num_two\n",
    "remainder = num_two % num_one"
   ]
  },
  {
   "cell_type": "code",
   "execution_count": 41,
   "id": "854fc7f9-40b2-4ea3-aeb9-efcb80ee31e7",
   "metadata": {},
   "outputs": [
    {
     "name": "stdout",
     "output_type": "stream",
     "text": [
      "total:  7\n",
      "difference:  1\n",
      "product:  12\n",
      "division:  1.0\n",
      "remainder:  1\n"
     ]
    }
   ],
   "source": [
    "# Printing values with label\n",
    "print('total: ', total)\n",
    "print('difference: ', diff)\n",
    "print('product: ', product)\n",
    "print('division: ', div)\n",
    "print('remainder: ', remainder)"
   ]
  },
  {
   "cell_type": "code",
   "execution_count": 42,
   "id": "e977ac9e-b35a-40c2-901d-3a50af4b7c5f",
   "metadata": {},
   "outputs": [
    {
     "name": "stdout",
     "output_type": "stream",
     "text": [
      "Area of a circle: 314.0\n"
     ]
    }
   ],
   "source": [
    "# Calculating area of a circle\n",
    "radius = 10                                 # radius of a circle\n",
    "area_of_circle = 3.14 * radius ** 2         # two * sign means exponent or power\n",
    "print('Area of a circle:', area_of_circle)"
   ]
  },
  {
   "cell_type": "code",
   "execution_count": 43,
   "id": "0eaabfb0-97e9-4290-8b06-d83f753bddab",
   "metadata": {},
   "outputs": [
    {
     "name": "stdout",
     "output_type": "stream",
     "text": [
      "Area of rectangle: 200\n"
     ]
    }
   ],
   "source": [
    "# Calculating area of a rectangle\n",
    "length = 10\n",
    "width = 20\n",
    "area_of_rectangle = length * width\n",
    "print('Area of rectangle:', area_of_rectangle)"
   ]
  },
  {
   "cell_type": "code",
   "execution_count": 44,
   "id": "e9104a1a-2e3f-4ffc-ba62-176d9a25e5be",
   "metadata": {},
   "outputs": [
    {
     "name": "stdout",
     "output_type": "stream",
     "text": [
      "735.75 N\n"
     ]
    }
   ],
   "source": [
    "# Calculating a weight of an object\n",
    "mass = 75\n",
    "gravity = 9.81\n",
    "weight = mass * gravity\n",
    "print(weight, 'N')"
   ]
  },
  {
   "cell_type": "code",
   "execution_count": 45,
   "id": "7ecf7532-658d-4a31-829a-6f2b767a6c1e",
   "metadata": {},
   "outputs": [
    {
     "name": "stdout",
     "output_type": "stream",
     "text": [
      "True\n",
      "True\n",
      "False\n",
      "True\n",
      "True\n",
      "False\n",
      "True\n"
     ]
    }
   ],
   "source": [
    "print(3 > 2)     # True, because 3 is greater than 2\n",
    "print(3 >= 2)    # True, because 3 is greater than 2\n",
    "print(3 < 2)     # False,  because 3 is greater than 2\n",
    "print(2 < 3)     # True, because 2 is less than 3\n",
    "print(2 <= 3)    # True, because 2 is less than 3\n",
    "print(3 == 2)    # False, because 3 is not equal to 2\n",
    "print(3 != 2)    # True, because 3 is not equal to 2"
   ]
  },
  {
   "cell_type": "code",
   "execution_count": 46,
   "id": "21ffca47-dbc0-493a-80b2-3713c128992b",
   "metadata": {},
   "outputs": [
    {
     "name": "stdout",
     "output_type": "stream",
     "text": [
      "False\n",
      "True\n",
      "True\n",
      "False\n",
      "True\n",
      "True\n",
      "False\n"
     ]
    }
   ],
   "source": [
    "print(len('mango') == len('avocado'))  # False\n",
    "print(len('mango') != len('avocado'))  # True\n",
    "print(len('mango') < len('avocado'))   # True\n",
    "print(len('milk') != len('meat'))      # False\n",
    "print(len('milk') == len('meat'))      # True\n",
    "print(len('tomato') == len('potato'))  # True\n",
    "print(len('python') > len('dragon'))   # False"
   ]
  },
  {
   "cell_type": "code",
   "execution_count": 47,
   "id": "fb7a3f39-3f9f-40e9-bd4c-a532bf1cdc71",
   "metadata": {},
   "outputs": [
    {
     "name": "stdout",
     "output_type": "stream",
     "text": [
      "True == True:  True\n",
      "True == False:  False\n",
      "False == False: True\n",
      "True and True:  True\n",
      "True or False: True\n"
     ]
    }
   ],
   "source": [
    "# Boolean comparison\n",
    "print('True == True: ', True == True)\n",
    "print('True == False: ', True == False)\n",
    "print('False == False:', False == False)\n",
    "print('True and True: ', True and True)\n",
    "print('True or False:', True or False)"
   ]
  },
  {
   "cell_type": "code",
   "execution_count": 48,
   "id": "99042f07-73f5-465c-84f8-b721a24da4b8",
   "metadata": {},
   "outputs": [
    {
     "name": "stdout",
     "output_type": "stream",
     "text": [
      "1 is 1 True\n",
      "1 is not 2 True\n",
      "A in Asabeneh True\n",
      "B in Asabeneh False\n",
      "True\n",
      "a in an: True\n",
      "4 is 2 ** 2: True\n"
     ]
    },
    {
     "name": "stderr",
     "output_type": "stream",
     "text": [
      "<>:2: SyntaxWarning: \"is\" with 'int' literal. Did you mean \"==\"?\n",
      "<>:3: SyntaxWarning: \"is not\" with 'int' literal. Did you mean \"!=\"?\n",
      "<>:8: SyntaxWarning: \"is\" with 'int' literal. Did you mean \"==\"?\n",
      "<>:2: SyntaxWarning: \"is\" with 'int' literal. Did you mean \"==\"?\n",
      "<>:3: SyntaxWarning: \"is not\" with 'int' literal. Did you mean \"!=\"?\n",
      "<>:8: SyntaxWarning: \"is\" with 'int' literal. Did you mean \"==\"?\n",
      "C:\\Users\\Windows10 Pro\\AppData\\Local\\Temp\\ipykernel_11728\\4207222253.py:2: SyntaxWarning: \"is\" with 'int' literal. Did you mean \"==\"?\n",
      "  print('1 is 1', 1 is 1)                   # True - because the data values are the same\n",
      "C:\\Users\\Windows10 Pro\\AppData\\Local\\Temp\\ipykernel_11728\\4207222253.py:3: SyntaxWarning: \"is not\" with 'int' literal. Did you mean \"!=\"?\n",
      "  print('1 is not 2', 1 is not 2)           # True - because 1 is not 2\n",
      "C:\\Users\\Windows10 Pro\\AppData\\Local\\Temp\\ipykernel_11728\\4207222253.py:8: SyntaxWarning: \"is\" with 'int' literal. Did you mean \"==\"?\n",
      "  print('4 is 2 ** 2:', 4 is 2 ** 2)   # True\n"
     ]
    }
   ],
   "source": [
    "# Another way comparison \n",
    "print('1 is 1', 1 is 1)                   # True - because the data values are the same\n",
    "print('1 is not 2', 1 is not 2)           # True - because 1 is not 2\n",
    "print('A in Asabeneh', 'A' in 'Asabeneh') # True - A found in the string\n",
    "print('B in Asabeneh', 'B' in 'Asabeneh') # False -there is no uppercase B\n",
    "print('coding' in 'coding for all') # True - because coding for all has the word coding\n",
    "print('a in an:', 'a' in 'an')      # True\n",
    "print('4 is 2 ** 2:', 4 is 2 ** 2)   # True"
   ]
  },
  {
   "cell_type": "code",
   "execution_count": 49,
   "id": "d44471f4-d60d-4518-8e9a-e01896e1f051",
   "metadata": {},
   "outputs": [
    {
     "name": "stdout",
     "output_type": "stream",
     "text": [
      "True\n",
      "False\n",
      "False\n",
      "True\n",
      "True\n",
      "False\n",
      "False\n",
      "False\n",
      "True\n",
      "True\n",
      "False\n"
     ]
    }
   ],
   "source": [
    "print(3 > 2 and 4 > 3) # True - because both statements are true\n",
    "print(3 > 2 and 4 < 3) # False - because the second statement is false\n",
    "print(3 < 2 and 4 < 3) # False - because both statements are false\n",
    "print(3 > 2 or 4 > 3)  # True - because both statements are true\n",
    "print(3 > 2 or 4 < 3)  # True - because one of the statement is true\n",
    "print(3 < 2 or 4 < 3)  # False - because both statements are false\n",
    "print(not 3 > 2)     # False - because 3 > 2 is true, then not True gives False\n",
    "print(not True)      # False - Negation, the not operator turns true to false\n",
    "print(not False)     # True\n",
    "print(not not True)  # True\n",
    "print(not not False) # False"
   ]
  },
  {
   "cell_type": "code",
   "execution_count": null,
   "id": "e9a0db28-cdfd-48da-8c8c-776a4254fed0",
   "metadata": {},
   "outputs": [],
   "source": []
  }
 ],
 "metadata": {
  "kernelspec": {
   "display_name": "Python 3 (ipykernel)",
   "language": "python",
   "name": "python3"
  },
  "language_info": {
   "codemirror_mode": {
    "name": "ipython",
    "version": 3
   },
   "file_extension": ".py",
   "mimetype": "text/x-python",
   "name": "python",
   "nbconvert_exporter": "python",
   "pygments_lexer": "ipython3",
   "version": "3.12.4"
  }
 },
 "nbformat": 4,
 "nbformat_minor": 5
}
