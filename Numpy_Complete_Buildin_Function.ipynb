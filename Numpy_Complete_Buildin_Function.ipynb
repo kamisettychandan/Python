{
 "cells": [
  {
   "cell_type": "markdown",
   "id": "a515f615-9bff-4ea3-9f81-3a993379bd40",
   "metadata": {},
   "source": [
    "# Numpy complete Buildin Functions 05th May 2025"
   ]
  },
  {
   "cell_type": "markdown",
   "id": "e7331362-12ff-46ba-9846-9d6b1a851318",
   "metadata": {},
   "source": [
    "# 1. Array Creation Functions"
   ]
  },
  {
   "cell_type": "code",
   "execution_count": 1,
   "id": "0bb3ea5a-82c9-438f-9216-1d7b36b404d9",
   "metadata": {},
   "outputs": [],
   "source": [
    "import numpy as np"
   ]
  },
  {
   "cell_type": "code",
   "execution_count": 2,
   "id": "4511f354-9ec8-4c6f-9ee7-8fca5ebda0a7",
   "metadata": {},
   "outputs": [
    {
     "name": "stdout",
     "output_type": "stream",
     "text": [
      "Array a: [1 2 3]\n"
     ]
    }
   ],
   "source": [
    "# Create an array from a list\n",
    "a = np.array([1,2,3])\n",
    "print(\"Array a:\", a)"
   ]
  },
  {
   "cell_type": "code",
   "execution_count": 3,
   "id": "dca69ef5-ae7d-4252-abb8-edfe4d9104f9",
   "metadata": {},
   "outputs": [
    {
     "name": "stdout",
     "output_type": "stream",
     "text": [
      "Array b: [0 2 4 6 8]\n"
     ]
    }
   ],
   "source": [
    "# Create an array with evenly spaced values\n",
    "b = np.arange(0, 10, 2)  # Values from 0 to 10 with step 2\n",
    "print(\"Array b:\", b)"
   ]
  },
  {
   "cell_type": "code",
   "execution_count": 4,
   "id": "6cbdfb65-4148-4c85-986f-94ea5b879593",
   "metadata": {},
   "outputs": [
    {
     "name": "stdout",
     "output_type": "stream",
     "text": [
      "Array c: [0.   0.25 0.5  0.75 1.  ]\n"
     ]
    }
   ],
   "source": [
    "# Create an array with linearly spaced values\n",
    "c = np.linspace(0,1,5)   # 5 values evenly spaced between 0 and 1\n",
    "print(\"Array c:\", c)"
   ]
  },
  {
   "cell_type": "code",
   "execution_count": 5,
   "id": "89018699-f248-459f-b656-797db76288fc",
   "metadata": {},
   "outputs": [
    {
     "name": "stdout",
     "output_type": "stream",
     "text": [
      "Array d:\n",
      " [[0. 0. 0.]\n",
      " [0. 0. 0.]]\n"
     ]
    }
   ],
   "source": [
    "# Create an array filled with Zeros\n",
    "d = np.zeros((2,3))  # 2*3 array of Zeros\n",
    "print(\"Array d:\\n\", d)"
   ]
  },
  {
   "cell_type": "code",
   "execution_count": 6,
   "id": "5bed2a42-7a06-4683-8475-bf539bddec73",
   "metadata": {},
   "outputs": [
    {
     "name": "stdout",
     "output_type": "stream",
     "text": [
      "Array e:\n",
      " [[1. 1.]\n",
      " [1. 1.]\n",
      " [1. 1.]]\n"
     ]
    }
   ],
   "source": [
    "# Create an array filled with Ones\n",
    "e = np.ones((3,2))   # 3*2 array of ones\n",
    "print(\"Array e:\\n\",e)"
   ]
  },
  {
   "cell_type": "code",
   "execution_count": 7,
   "id": "17b29ecb-c65f-4cb8-8e56-00bb2a75889a",
   "metadata": {},
   "outputs": [
    {
     "name": "stdout",
     "output_type": "stream",
     "text": [
      "Identity Matrix f:\n",
      " [[1. 0. 0. 0.]\n",
      " [0. 1. 0. 0.]\n",
      " [0. 0. 1. 0.]\n",
      " [0. 0. 0. 1.]]\n"
     ]
    }
   ],
   "source": [
    "# Create an identity matrix\n",
    "f = np.eye(4)  # 4*4 identity matrix\n",
    "print(\"Identity Matrix f:\\n\",f)"
   ]
  },
  {
   "cell_type": "markdown",
   "id": "3ea78888-a7ba-4877-8232-d796f90a287b",
   "metadata": {},
   "source": [
    "# 2. Array Manipulation Functions"
   ]
  },
  {
   "cell_type": "code",
   "execution_count": 8,
   "id": "ea65e5c3-2930-4e47-8046-8a3cdc3a46d8",
   "metadata": {},
   "outputs": [
    {
     "name": "stdout",
     "output_type": "stream",
     "text": [
      "Reshaped array: [[1 2 3]]\n"
     ]
    }
   ],
   "source": [
    "# Reshape an array\n",
    "a1 = np.array([1, 2, 3])\n",
    "reshaped = np.reshape(a1, (1, 3))  # Reshape to 1x3\n",
    "print(\"Reshaped array:\", reshaped)"
   ]
  },
  {
   "cell_type": "code",
   "execution_count": 9,
   "id": "04928547-d967-42d0-acae-6a116cd8a16a",
   "metadata": {},
   "outputs": [
    {
     "name": "stdout",
     "output_type": "stream",
     "text": [
      "Flattened array: [1 2 3 4]\n"
     ]
    }
   ],
   "source": [
    "# Flatten an array\n",
    "f1 = np.array([[1, 2], [3, 4]])\n",
    "flattened = np.ravel(f1)  # Flatten to 1D array\n",
    "print(\"Flattened array:\", flattened)"
   ]
  },
  {
   "cell_type": "code",
   "execution_count": 10,
   "id": "6b800490-69c5-4f3e-a826-bbf59af3c40a",
   "metadata": {},
   "outputs": [
    {
     "name": "stdout",
     "output_type": "stream",
     "text": [
      "Transposed array:\n",
      " [[1 3]\n",
      " [2 4]]\n"
     ]
    }
   ],
   "source": [
    "# Transpose an array\n",
    "e1 = np.array([[1, 2], [3, 4]])\n",
    "transposed = np.transpose(e1)  # Transpose the array\n",
    "print(\"Transposed array:\\n\", transposed)"
   ]
  },
  {
   "cell_type": "code",
   "execution_count": 11,
   "id": "4b5b56ff-1171-45db-b833-d3b8e2729490",
   "metadata": {},
   "outputs": [
    {
     "name": "stdout",
     "output_type": "stream",
     "text": [
      "Stacked arrays:\n",
      " [[1 2]\n",
      " [3 4]]\n"
     ]
    }
   ],
   "source": [
    "# Stack arrays vertically\n",
    "a2 = np.array([1, 2])\n",
    "b2 = np.array([3, 4])\n",
    "stacked = np.vstack([a2, b2])  # Stack a and b vertically\n",
    "print(\"Stacked arrays:\\n\", stacked)"
   ]
  },
  {
   "cell_type": "markdown",
   "id": "0c5d3822-8aa3-49fc-b509-d56ec5b17ace",
   "metadata": {},
   "source": [
    "# 3. Mathematical Functions"
   ]
  },
  {
   "cell_type": "code",
   "execution_count": 12,
   "id": "2c09c582-f03a-43b0-bb02-1b10f0f3f30d",
   "metadata": {},
   "outputs": [
    {
     "name": "stdout",
     "output_type": "stream",
     "text": [
      "Added 2 to g: [3 4 5 6]\n"
     ]
    }
   ],
   "source": [
    "# Add two arrays\n",
    "g = np.array([1, 2, 3, 4])\n",
    "added = np.add(g, 2)  # Add 2 to each element\n",
    "print(\"Added 2 to g:\", added)"
   ]
  },
  {
   "cell_type": "code",
   "execution_count": 13,
   "id": "8a6af195-5f07-4b8e-9022-a74f6083cd46",
   "metadata": {},
   "outputs": [
    {
     "name": "stdout",
     "output_type": "stream",
     "text": [
      "Squared g: [ 1  4  9 16]\n"
     ]
    }
   ],
   "source": [
    "# Square each element\n",
    "squared = np.power(g, 2)  # Square each element\n",
    "print(\"Squared g:\", squared)"
   ]
  },
  {
   "cell_type": "code",
   "execution_count": 14,
   "id": "8d7aeee3-7e50-4fbd-99fa-95a853ead4c7",
   "metadata": {},
   "outputs": [
    {
     "name": "stdout",
     "output_type": "stream",
     "text": [
      "Square root of g: [1.         1.41421356 1.73205081 2.        ]\n"
     ]
    }
   ],
   "source": [
    "# Square root of each element\n",
    "sqrt_val = np.sqrt(g)  # Square root of each element\n",
    "print(\"Square root of g:\", sqrt_val)"
   ]
  },
  {
   "cell_type": "code",
   "execution_count": 15,
   "id": "3428cb90-22e0-445b-abf1-3fa536230bc0",
   "metadata": {},
   "outputs": [
    {
     "name": "stdout",
     "output_type": "stream",
     "text": [
      "[1 2 3]\n",
      "[1 2 3 4]\n"
     ]
    }
   ],
   "source": [
    "print(a1)\n",
    "print(g)"
   ]
  },
  {
   "cell_type": "code",
   "execution_count": 16,
   "id": "a0cad7f4-4225-4a3a-a3bd-273200117b06",
   "metadata": {},
   "outputs": [
    {
     "ename": "ValueError",
     "evalue": "shapes (3,) and (4,) not aligned: 3 (dim 0) != 4 (dim 0)",
     "output_type": "error",
     "traceback": [
      "\u001b[1;31m---------------------------------------------------------------------------\u001b[0m",
      "\u001b[1;31mValueError\u001b[0m                                Traceback (most recent call last)",
      "Cell \u001b[1;32mIn[16], line 3\u001b[0m\n\u001b[0;32m      1\u001b[0m \u001b[38;5;66;03m# Dot product of two arrays\u001b[39;00m\n\u001b[0;32m      2\u001b[0m a2 \u001b[38;5;241m=\u001b[39m np\u001b[38;5;241m.\u001b[39marray([\u001b[38;5;241m1\u001b[39m, \u001b[38;5;241m2\u001b[39m, \u001b[38;5;241m3\u001b[39m])\n\u001b[1;32m----> 3\u001b[0m dot_product \u001b[38;5;241m=\u001b[39m \u001b[43mnp\u001b[49m\u001b[38;5;241;43m.\u001b[39;49m\u001b[43mdot\u001b[49m\u001b[43m(\u001b[49m\u001b[43ma2\u001b[49m\u001b[43m,\u001b[49m\u001b[43m \u001b[49m\u001b[43mg\u001b[49m\u001b[43m)\u001b[49m  \u001b[38;5;66;03m# Dot product of a and g\u001b[39;00m\n\u001b[0;32m      4\u001b[0m \u001b[38;5;28mprint\u001b[39m(\u001b[38;5;124m\"\u001b[39m\u001b[38;5;124mDot product of a and g:\u001b[39m\u001b[38;5;124m\"\u001b[39m, dot_product)\n",
      "\u001b[1;31mValueError\u001b[0m: shapes (3,) and (4,) not aligned: 3 (dim 0) != 4 (dim 0)"
     ]
    }
   ],
   "source": [
    "# Dot product of two arrays\n",
    "a2 = np.array([1, 2, 3])\n",
    "dot_product = np.dot(a2, g)  # Dot product of a and g\n",
    "print(\"Dot product of a and g:\", dot_product)"
   ]
  },
  {
   "cell_type": "code",
   "execution_count": 17,
   "id": "6f861266-bd2b-4159-8966-0b57e7100fdb",
   "metadata": {},
   "outputs": [
    {
     "name": "stdout",
     "output_type": "stream",
     "text": [
      "[1 2 3]\n",
      "[1 2 3]\n"
     ]
    }
   ],
   "source": [
    "print(a)\n",
    "print(a1)"
   ]
  },
  {
   "cell_type": "code",
   "execution_count": 18,
   "id": "bf314846-2a0a-438e-b48a-0079030d1ece",
   "metadata": {},
   "outputs": [
    {
     "name": "stdout",
     "output_type": "stream",
     "text": [
      "Dot product of a1 and a: 14\n"
     ]
    }
   ],
   "source": [
    "a3 = np.array([1, 2, 3])\n",
    "dot_product = np.dot(a1, a)  # Dot product of a and g\n",
    "print(\"Dot product of a1 and a:\", dot_product)"
   ]
  },
  {
   "cell_type": "markdown",
   "id": "25a15de2-5771-4615-a40b-41efd27ed67c",
   "metadata": {},
   "source": [
    "# 4. Statistical Functions"
   ]
  },
  {
   "cell_type": "code",
   "execution_count": 19,
   "id": "d19de09e-53a1-4fbc-9cb4-efdd20942b3b",
   "metadata": {},
   "outputs": [
    {
     "name": "stdout",
     "output_type": "stream",
     "text": [
      "Mean of s: 2.5\n"
     ]
    }
   ],
   "source": [
    "s = np.array([1, 2, 3, 4])\n",
    "mean = np.mean(s)\n",
    "print(\"Mean of s:\", mean)"
   ]
  },
  {
   "cell_type": "code",
   "execution_count": 20,
   "id": "6733bf23-fc14-49c7-adcf-a01e0e7d43c7",
   "metadata": {},
   "outputs": [
    {
     "name": "stdout",
     "output_type": "stream",
     "text": [
      "Standard deviation of s: 1.118033988749895\n"
     ]
    }
   ],
   "source": [
    "# Standard deviation of an array\n",
    "std_dev = np.std(s)\n",
    "print(\"Standard deviation of s:\", std_dev)"
   ]
  },
  {
   "cell_type": "code",
   "execution_count": 21,
   "id": "1f3e9299-8cd7-42b5-8f95-08a65e51fb4f",
   "metadata": {},
   "outputs": [
    {
     "name": "stdout",
     "output_type": "stream",
     "text": [
      "Min of s: 1\n"
     ]
    }
   ],
   "source": [
    "# Minimum element of an array\n",
    "minimum = np.min(s)\n",
    "print(\"Min of s:\", minimum)"
   ]
  },
  {
   "cell_type": "code",
   "execution_count": 22,
   "id": "8059df5b-9ec2-44f8-a0cc-8fb9ed1d63e3",
   "metadata": {},
   "outputs": [
    {
     "name": "stdout",
     "output_type": "stream",
     "text": [
      "Max of s: 4\n"
     ]
    }
   ],
   "source": [
    "# Maximum element of an array\n",
    "maximum = np.max(s)\n",
    "print(\"Max of s:\", maximum)"
   ]
  },
  {
   "cell_type": "markdown",
   "id": "fd846cbb-8dc0-4783-b4fd-ae6faa84ef9d",
   "metadata": {},
   "source": [
    "# 5. Linear Algebra Functions"
   ]
  },
  {
   "cell_type": "code",
   "execution_count": 23,
   "id": "07ab64bf-28da-4710-a789-b20a8443ed80",
   "metadata": {},
   "outputs": [],
   "source": [
    "# Create a matrix\n",
    "matrix = np.array([[1, 2], [3, 4]])"
   ]
  },
  {
   "cell_type": "code",
   "execution_count": 24,
   "id": "3cd77a3f-c5d6-4177-a252-79e5e8f47094",
   "metadata": {},
   "outputs": [
    {
     "name": "stdout",
     "output_type": "stream",
     "text": [
      "Determinant of matrix: -2.0000000000000004\n"
     ]
    }
   ],
   "source": [
    "# Determinant of a matrix\n",
    "determinant = np.linalg.det(matrix)\n",
    "print(\"Determinant of matrix:\", determinant)"
   ]
  },
  {
   "cell_type": "code",
   "execution_count": 25,
   "id": "4bc3c51c-ee88-4d5e-ae7c-8ef833d99c6a",
   "metadata": {},
   "outputs": [
    {
     "name": "stdout",
     "output_type": "stream",
     "text": [
      "Inverse of matrix:\n",
      " [[-2.   1. ]\n",
      " [ 1.5 -0.5]]\n"
     ]
    }
   ],
   "source": [
    "# Inverse of a matrix\n",
    "inverse = np.linalg.inv(matrix)\n",
    "print(\"Inverse of matrix:\\n\", inverse)"
   ]
  },
  {
   "cell_type": "markdown",
   "id": "f967ab1d-6eb7-49c7-a14a-32f6795a5f5e",
   "metadata": {},
   "source": [
    "# 6. Random Sampling Functions"
   ]
  },
  {
   "cell_type": "code",
   "execution_count": 26,
   "id": "380e910e-165f-4181-819c-d6e8335fe4f3",
   "metadata": {},
   "outputs": [
    {
     "name": "stdout",
     "output_type": "stream",
     "text": [
      "Random values: [0.54649783 0.3134285  0.56987551]\n"
     ]
    }
   ],
   "source": [
    "# Generate random values between 0 and 1\n",
    "random_vals = np.random.rand(3)  # Array of 3 random values between 0 and 1\n",
    "print(\"Random values:\", random_vals)"
   ]
  },
  {
   "cell_type": "code",
   "execution_count": 27,
   "id": "d641008b-a26a-4456-b8bb-7d47a086f761",
   "metadata": {},
   "outputs": [
    {
     "name": "stdout",
     "output_type": "stream",
     "text": [
      "Random values: [0.5488135  0.71518937 0.60276338]\n"
     ]
    }
   ],
   "source": [
    "# Set seed for reproducibility\n",
    "np.random.seed(0)\n",
    "\n",
    "# Generate random values between 0 and 1\n",
    "random_vals = np.random.rand(3)  # Array of 3 random values between 0 and 1\n",
    "print(\"Random values:\", random_vals)"
   ]
  },
  {
   "cell_type": "code",
   "execution_count": 28,
   "id": "5d12f823-6d29-4a0a-a262-ddab31dbfacd",
   "metadata": {},
   "outputs": [
    {
     "name": "stdout",
     "output_type": "stream",
     "text": [
      "Random integers: [3 7 9 3 5]\n"
     ]
    }
   ],
   "source": [
    "# Generate random integers\n",
    "rand_ints = np.random.randint(0, 10, size=5)  # Random integers between 0 and 10\n",
    "print(\"Random integers:\", rand_ints)"
   ]
  },
  {
   "cell_type": "code",
   "execution_count": 29,
   "id": "9909c92a-6f32-40fa-9eee-cc11af9508cf",
   "metadata": {},
   "outputs": [
    {
     "name": "stdout",
     "output_type": "stream",
     "text": [
      "Random integers: [5 0 3 3 7]\n"
     ]
    }
   ],
   "source": [
    "# Set seed for reproducibility\n",
    "np.random.seed(0)\n",
    "\n",
    "# Generate random integers\n",
    "rand_ints = np.random.randint(0, 10, size=5)  # Random integers between 0 and 10\n",
    "print(\"Random integers:\", rand_ints)"
   ]
  },
  {
   "cell_type": "markdown",
   "id": "8ee75e9e-92a4-4c70-9c68-18e8e99fba42",
   "metadata": {},
   "source": [
    "# 7. Boolean & Logical Functions"
   ]
  },
  {
   "cell_type": "code",
   "execution_count": 30,
   "id": "727f8ccc-5398-414e-994d-907252b609eb",
   "metadata": {},
   "outputs": [
    {
     "name": "stdout",
     "output_type": "stream",
     "text": [
      "All elements True: False\n"
     ]
    }
   ],
   "source": [
    "# Check if all elements are True\n",
    "# all\n",
    "logical_test = np.array([True, False, True])\n",
    "all_true = np.all(logical_test)  # Check if all are True\n",
    "print(\"All elements True:\", all_true)"
   ]
  },
  {
   "cell_type": "code",
   "execution_count": 31,
   "id": "36a28164-b95f-4077-b163-9ffafa11438a",
   "metadata": {},
   "outputs": [
    {
     "name": "stdout",
     "output_type": "stream",
     "text": [
      "All elements True: False\n"
     ]
    }
   ],
   "source": [
    "# Check if all elements are True\n",
    "logical_test = np.array([True, False, True])\n",
    "all_true = np.all(logical_test)  # Check if all are True\n",
    "print(\"All elements True:\", all_true)"
   ]
  },
  {
   "cell_type": "code",
   "execution_count": 32,
   "id": "59982fb4-b96c-4ac9-ab1e-b1ed1e009215",
   "metadata": {},
   "outputs": [
    {
     "name": "stdout",
     "output_type": "stream",
     "text": [
      "All elements True: False\n"
     ]
    }
   ],
   "source": [
    "# Check if all elements are True\n",
    "logical_test = np.array([False, False, False])\n",
    "all_true = np.all(logical_test)  # Check if all are True\n",
    "print(\"All elements True:\", all_true)"
   ]
  },
  {
   "cell_type": "code",
   "execution_count": 33,
   "id": "307b3d13-d9d4-4075-b85c-22fa9b94f6de",
   "metadata": {},
   "outputs": [
    {
     "name": "stdout",
     "output_type": "stream",
     "text": [
      "Any elements True: False\n"
     ]
    }
   ],
   "source": [
    "# Check if any elements are True\n",
    "# any\n",
    "any_true = np.any(logical_test)  # Check if any are True\n",
    "print(\"Any elements True:\", any_true)"
   ]
  },
  {
   "cell_type": "markdown",
   "id": "15b555f9-4fc5-4056-bf5f-fd0c0599be34",
   "metadata": {},
   "source": [
    "# 8. Set Operations"
   ]
  },
  {
   "cell_type": "code",
   "execution_count": 34,
   "id": "ab814227-c7c7-4144-ad9b-de0776f3f67f",
   "metadata": {},
   "outputs": [
    {
     "name": "stdout",
     "output_type": "stream",
     "text": [
      "Intersection of a and b: [3 4]\n"
     ]
    }
   ],
   "source": [
    "# Intersection of two arrays\n",
    "set_a = np.array([1, 2, 3, 4])\n",
    "set_b = np.array([3, 4, 5, 6])\n",
    "intersection = np.intersect1d(set_a, set_b)\n",
    "print(\"Intersection of a and b:\", intersection)"
   ]
  },
  {
   "cell_type": "code",
   "execution_count": 35,
   "id": "2ed4bcf7-8960-4045-8e89-6de42ea7eaa0",
   "metadata": {},
   "outputs": [
    {
     "name": "stdout",
     "output_type": "stream",
     "text": [
      "Union of a and b: [1 2 3 4 5 6]\n"
     ]
    }
   ],
   "source": [
    "# Union of two arrays\n",
    "union = np.union1d(set_a, set_b)\n",
    "print(\"Union of a and b:\", union)"
   ]
  },
  {
   "cell_type": "markdown",
   "id": "67570b91-c09e-4008-b31c-8111b9a800e9",
   "metadata": {},
   "source": [
    "# 9. Array Attribute Functions"
   ]
  },
  {
   "cell_type": "code",
   "execution_count": 36,
   "id": "95d1131d-64da-4f6d-812d-c5a944232160",
   "metadata": {},
   "outputs": [
    {
     "name": "stdout",
     "output_type": "stream",
     "text": [
      "Shape of a: (3,)\n",
      "Size of a: 3\n",
      "Number of dimensions of a: 1\n",
      "Data type of a: int32\n"
     ]
    }
   ],
   "source": [
    "# Array attributes\n",
    "a = np.array([1, 2, 3])\n",
    "shape = a.shape  # Shape of the array\n",
    "size = a.size    # Number of elements\n",
    "dimensions = a.ndim  # Number of dimensions\n",
    "dtype = a.dtype   # Data type of the array\n",
    "\n",
    "print(\"Shape of a:\", shape)\n",
    "print(\"Size of a:\", size)\n",
    "print(\"Number of dimensions of a:\", dimensions)\n",
    "print(\"Data type of a:\", dtype)\n"
   ]
  },
  {
   "cell_type": "markdown",
   "id": "11ca641f-d265-41ab-bdf3-6ddad49e1e1d",
   "metadata": {},
   "source": [
    "# 10. Other Functions"
   ]
  },
  {
   "cell_type": "code",
   "execution_count": 37,
   "id": "efa5f8ec-8db3-4e0a-8a2c-0d338705a72b",
   "metadata": {},
   "outputs": [
    {
     "name": "stdout",
     "output_type": "stream",
     "text": [
      "Copied array: [1 2 3]\n"
     ]
    }
   ],
   "source": [
    "# Create a copy of an array\n",
    "a = np.array([1, 2, 3])\n",
    "copied_array = np.copy(a)  # Create a copy of array a\n",
    "print(\"Copied array:\", copied_array)"
   ]
  },
  {
   "cell_type": "code",
   "execution_count": 38,
   "id": "114237d4-f689-41f2-a91e-ec81187eda77",
   "metadata": {},
   "outputs": [
    {
     "name": "stdout",
     "output_type": "stream",
     "text": [
      "Size of a in bytes: 12\n"
     ]
    }
   ],
   "source": [
    "# Size in bytes of an array\n",
    "array_size_in_bytes = a.nbytes  # Size in bytes\n",
    "print(\"Size of a in bytes:\", array_size_in_bytes)"
   ]
  },
  {
   "cell_type": "code",
   "execution_count": 39,
   "id": "e4a57d40-e181-4e4b-9395-f294b83ef614",
   "metadata": {},
   "outputs": [
    {
     "name": "stdout",
     "output_type": "stream",
     "text": [
      "Do a and copied_array share memory? False\n"
     ]
    }
   ],
   "source": [
    "# Check if two arrays share memory\n",
    "shared = np.shares_memory(a, copied_array)  # Check if arrays share memory\n",
    "print(\"Do a and copied_array share memory?\", shared)"
   ]
  },
  {
   "cell_type": "code",
   "execution_count": null,
   "id": "95d0e679-e83d-464e-a972-f77e3f27252f",
   "metadata": {},
   "outputs": [],
   "source": []
  }
 ],
 "metadata": {
  "kernelspec": {
   "display_name": "Python 3 (ipykernel)",
   "language": "python",
   "name": "python3"
  },
  "language_info": {
   "codemirror_mode": {
    "name": "ipython",
    "version": 3
   },
   "file_extension": ".py",
   "mimetype": "text/x-python",
   "name": "python",
   "nbconvert_exporter": "python",
   "pygments_lexer": "ipython3",
   "version": "3.12.4"
  }
 },
 "nbformat": 4,
 "nbformat_minor": 5
}
