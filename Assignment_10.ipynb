{
 "cells": [
  {
   "cell_type": "markdown",
   "id": "284a8107-b51b-4ce5-8bbb-f4d4a118961c",
   "metadata": {},
   "source": [
    "# Assignment 10 - Python"
   ]
  },
  {
   "cell_type": "markdown",
   "id": "d2f717aa-039c-4c02-a477-b65b134de220",
   "metadata": {},
   "source": [
    "# Print() Function"
   ]
  },
  {
   "cell_type": "code",
   "execution_count": 1,
   "id": "c91e18f5-d963-4022-a92a-bb1f6f7a1850",
   "metadata": {},
   "outputs": [
    {
     "data": {
      "text/plain": [
       "20"
      ]
     },
     "execution_count": 1,
     "metadata": {},
     "output_type": "execute_result"
    }
   ],
   "source": [
    "a=10 \n",
    "b=20\n",
    "a \n",
    "b"
   ]
  },
  {
   "cell_type": "code",
   "execution_count": 2,
   "id": "1282fcaf-5595-4bb2-922d-bb8c75844c71",
   "metadata": {},
   "outputs": [
    {
     "name": "stdout",
     "output_type": "stream",
     "text": [
      "10\n",
      "20\n"
     ]
    }
   ],
   "source": [
    "a=10\n",
    "b=20\n",
    "print(a) \n",
    "print(b)"
   ]
  },
  {
   "cell_type": "code",
   "execution_count": 3,
   "id": "46e07bac-6d86-4062-a578-85e075067d72",
   "metadata": {},
   "outputs": [
    {
     "name": "stdout",
     "output_type": "stream",
     "text": [
      "10\n",
      "10 20\n",
      "python\n",
      "10 20 python\n"
     ]
    }
   ],
   "source": [
    "print(10)\n",
    "print(10,20)\n",
    "print('python')\n",
    "print(10,20,'python')"
   ]
  },
  {
   "cell_type": "code",
   "execution_count": 4,
   "id": "d03fbd40-af95-4e0a-a34d-e91687772397",
   "metadata": {},
   "outputs": [
    {
     "name": "stdout",
     "output_type": "stream",
     "text": [
      "50\n"
     ]
    }
   ],
   "source": [
    "num1=20 \n",
    "num2=30\n",
    "add=num1+num2 \n",
    "print(add)"
   ]
  },
  {
   "cell_type": "markdown",
   "id": "0ba60424-ee30-4352-a86f-10bf95ed8edc",
   "metadata": {},
   "source": [
    "# print result with string"
   ]
  },
  {
   "cell_type": "markdown",
   "id": "a7c1c89f-6edb-4d17-bb5f-55e41a0807b1",
   "metadata": {},
   "source": [
    "num1=20 \n",
    "num2=30\n",
    "add=num1+num2\n",
    "print('The addition of',num1,'and',num2,'is=',add)"
   ]
  },
  {
   "cell_type": "code",
   "execution_count": 7,
   "id": "8527c81b-4a43-4a25-a794-06ba5925e1b5",
   "metadata": {},
   "outputs": [
    {
     "name": "stdout",
     "output_type": "stream",
     "text": [
      "My name is Python and i am 20 years old form hyd\n"
     ]
    }
   ],
   "source": [
    "name='Python' \n",
    "age=20\n",
    "city='hyd'\n",
    "#hellow my name is python and i am 10 year old from hydrabad\n",
    "\n",
    "print('My name is',name,'and i am',age,'years old form',city)"
   ]
  },
  {
   "cell_type": "markdown",
   "id": "03637af9-4827-42f1-8c3a-412a191858ce",
   "metadata": {},
   "source": [
    "# print Format method"
   ]
  },
  {
   "cell_type": "code",
   "execution_count": 8,
   "id": "0df9569c-8c8e-411b-8297-7e90845b0a93",
   "metadata": {},
   "outputs": [
    {
     "name": "stdout",
     "output_type": "stream",
     "text": [
      "The addition of 20 and 30 is= 50\n"
     ]
    }
   ],
   "source": [
    "num1=20\n",
    "num2=30\n",
    "add=num1+num2\n",
    "print('The addition of {} and {} is= {}'.format(num1,num2,add))"
   ]
  },
  {
   "cell_type": "raw",
   "id": "0dc5cbe2-3756-43f4-9ec3-a92e1c5b02be",
   "metadata": {},
   "source": [
    "first deside how the print statement should be \n",
    "like:- The addition of 20 and 30 is = 50\n",
    "then replace the variable position with curly brtacesm { }\n",
    "then appply .format(val1,val2,....val-n methodm"
   ]
  },
  {
   "cell_type": "code",
   "execution_count": 9,
   "id": "e279e490-ef3c-43d1-a2e8-17e5fe086953",
   "metadata": {},
   "outputs": [
    {
     "name": "stdout",
     "output_type": "stream",
     "text": [
      "hello my name is Python, and i am 20 years old from hyd \n"
     ]
    }
   ],
   "source": [
    "name='Python' \n",
    "age=20\n",
    "city='hyd'\n",
    "#hellow my name is python and i am 10 year old from hydrabad\n",
    "\n",
    "print('hello my name is {}, and i am {} years old from {} '.format(name,age,city))"
   ]
  },
  {
   "cell_type": "code",
   "execution_count": 10,
   "id": "7c50e28e-29c2-48c4-b199-e57ac6e9f893",
   "metadata": {},
   "outputs": [
    {
     "name": "stdout",
     "output_type": "stream",
     "text": [
      "The avrage of 100, 25, and 333 is= 152.66666666666666 or 152.67\n"
     ]
    }
   ],
   "source": [
    "num1=100 \n",
    "num2=25 \n",
    "num3=333\n",
    "avg=(num1+num2+num3)/3 # or we can use avg=round(num1+num2+num3)/3,2)\n",
    "avg1=round((num1+num2+num3)/3,2)\n",
    "# The avrage of num1,num2,num3 is = avg\n",
    "print('The avrage of {}, {}, and {} is= {} or {}'.format(num1,num2,num3, avg,avg1)) # here we can use round(avg,2) also"
   ]
  },
  {
   "cell_type": "code",
   "execution_count": 11,
   "id": "e48a8b9e-bb85-4a10-b6e1-d57981fd556e",
   "metadata": {},
   "outputs": [
    {
     "data": {
      "text/plain": [
       "152.67"
      ]
     },
     "execution_count": 11,
     "metadata": {},
     "output_type": "execute_result"
    }
   ],
   "source": [
    "round(avg,2) # round of till 2 digite after decimal"
   ]
  },
  {
   "cell_type": "raw",
   "id": "8a260d49-6dbe-4530-a591-31cee6bc461f",
   "metadata": {},
   "source": [
    "More short format meythod(f string method)\n",
    "variable should be in curly braces\n",
    "and write everything inside quots ''\n",
    "at starting simpaly add f"
   ]
  },
  {
   "cell_type": "code",
   "execution_count": 12,
   "id": "88403609-4643-45f9-90b2-1510f1cdd4d0",
   "metadata": {},
   "outputs": [
    {
     "name": "stdout",
     "output_type": "stream",
     "text": [
      "The addition of 20 and 30 is= 50\n"
     ]
    }
   ],
   "source": [
    "num1=20 \n",
    "num2=30\n",
    "add=num1+num2\n",
    "print(f'The addition of {num1} and {num2} is= {add}') # alwase prefer this"
   ]
  },
  {
   "cell_type": "raw",
   "id": "7eb1bd53-8ad6-4aef-8787-cf3a161dc521",
   "metadata": {},
   "source": [
    "name='Python' \n",
    "age=20\n",
    "city='hyd'\n",
    "#hellow my name is python and i am 10 year old from hydrabad\n",
    "\n",
    "print(f'hello my name is {name}, and i am {age} year old, from {city}.')"
   ]
  },
  {
   "cell_type": "code",
   "execution_count": 15,
   "id": "25525581-c2f4-4aea-be4c-566555bb517a",
   "metadata": {},
   "outputs": [
    {
     "name": "stdout",
     "output_type": "stream",
     "text": [
      "The avrage of 100, 25 and 333 is = 152.67\n"
     ]
    }
   ],
   "source": [
    "num1=100 \n",
    "num2=25\n",
    "num3=333\n",
    "avg=round((num1+num2+num3)/3,2) # or we can use avg=round(num1+num2+num3)/3,2) # The avrage of num1,num2,num3 is = avg\n",
    "\n",
    "print(f'The avrage of {num1}, {num2} and {num3} is = {avg}')"
   ]
  },
  {
   "cell_type": "code",
   "execution_count": 17,
   "id": "3acffc96-04f1-4431-addf-819da9238a01",
   "metadata": {},
   "outputs": [
    {
     "name": "stdout",
     "output_type": "stream",
     "text": [
      "The addition of 10 and 20 is= 30\n",
      "The addition of 10 and 20 is= 30\n",
      "The addition of 10 and 20 is= 30\n"
     ]
    }
   ],
   "source": [
    "# lete combine all\n",
    "num1=10 \n",
    "num2=20\n",
    "add = num1+ num2\n",
    "print('The addition of',num1,'and',num2,'is=',add)\n",
    "print('The addition of {} and {} is= {}'.format(num1,num2,add)) \n",
    "print(f'The addition of {num1} and {num2} is= {add}')"
   ]
  },
  {
   "cell_type": "markdown",
   "id": "b0c16385-9ad2-44c0-8f0c-5598d7927e7f",
   "metadata": {},
   "source": [
    "# end statement"
   ]
  },
  {
   "cell_type": "code",
   "execution_count": 18,
   "id": "1a90d91c-d533-4185-981a-17474b1430ef",
   "metadata": {},
   "outputs": [
    {
     "name": "stdout",
     "output_type": "stream",
     "text": [
      "hello\n",
      "good moorning\n"
     ]
    }
   ],
   "source": [
    "print('hello') # 1st statement\n",
    "print('good moorning') # 2nd statement)\n",
    "# i want print like:- hellow good morning"
   ]
  },
  {
   "cell_type": "raw",
   "id": "427720e4-8232-4213-9596-fa4c05c05ba1",
   "metadata": {},
   "source": [
    "Here we will use end statement that joint line from end of one string to starting of other string"
   ]
  },
  {
   "cell_type": "code",
   "execution_count": 19,
   "id": "3292f53c-a594-497a-88c3-f9fc4251d7f2",
   "metadata": {},
   "outputs": [
    {
     "name": "stdout",
     "output_type": "stream",
     "text": [
      "hello world good day\n"
     ]
    }
   ],
   "source": [
    "print('hello', end=' ') # 1st statement\n",
    "print('world good day') # 2nd statement"
   ]
  },
  {
   "cell_type": "markdown",
   "id": "071e7790-2eeb-4305-b2d9-f2e35930e57a",
   "metadata": {},
   "source": [
    "# seprator\n",
    "\n",
    "- here one print statement only we use\r",
    "- \n",
    "insisde one print statement we have multipal value s - \r\n",
    "we want to seperate these multipal values with anything"
   ]
  },
  {
   "cell_type": "code",
   "execution_count": 20,
   "id": "2b272595-bb29-4e41-b809-b5a10bbcb14e",
   "metadata": {},
   "outputs": [
    {
     "name": "stdout",
     "output_type": "stream",
     "text": [
      "hello--->hai--->how are you\n"
     ]
    }
   ],
   "source": [
    "print('hello','hai','how are you',sep='--->')"
   ]
  },
  {
   "cell_type": "code",
   "execution_count": 21,
   "id": "6cf27f4b-da8e-4eac-beb9-9f2ce0e36444",
   "metadata": {},
   "outputs": [
    {
     "name": "stdout",
     "output_type": "stream",
     "text": [
      "hello&hai&how are you\n"
     ]
    }
   ],
   "source": [
    "print('hello','hai','how are you',sep='&')"
   ]
  },
  {
   "cell_type": "code",
   "execution_count": 22,
   "id": "83415d16-3cd1-4a06-915f-6bf8584e4bc1",
   "metadata": {},
   "outputs": [
    {
     "name": "stdout",
     "output_type": "stream",
     "text": [
      "hello@hai@how are you\n"
     ]
    }
   ],
   "source": [
    "print('hello','hai','how are you',sep='@')"
   ]
  },
  {
   "cell_type": "code",
   "execution_count": 23,
   "id": "5a87eddd-44b8-4462-b569-fa1c07581a68",
   "metadata": {},
   "outputs": [
    {
     "name": "stdout",
     "output_type": "stream",
     "text": [
      "hello hai how are you\n"
     ]
    }
   ],
   "source": [
    "print('hello','hai','how are you',sep=' ')"
   ]
  },
  {
   "cell_type": "code",
   "execution_count": 24,
   "id": "e2cc4810-84e7-4b19-a445-b0b1e0c1ee05",
   "metadata": {},
   "outputs": [
    {
     "name": "stdout",
     "output_type": "stream",
     "text": [
      "3 .\n"
     ]
    }
   ],
   "source": [
    "print(3,'.') # . is far from 3 so here we will use sep method"
   ]
  },
  {
   "cell_type": "code",
   "execution_count": 25,
   "id": "ef9f3eed-e920-4949-a93c-f1e710fa9932",
   "metadata": {},
   "outputs": [
    {
     "name": "stdout",
     "output_type": "stream",
     "text": [
      "3.\n"
     ]
    }
   ],
   "source": [
    "print(3,'.',sep='') # see now space setteld(also use to remove space B/W words)"
   ]
  },
  {
   "cell_type": "code",
   "execution_count": 26,
   "id": "0523e98e-3f64-480a-812b-e1e8d18a7050",
   "metadata": {},
   "outputs": [
    {
     "name": "stdout",
     "output_type": "stream",
     "text": [
      "1 2 3.\n"
     ]
    }
   ],
   "source": [
    "print(1,2,end=' ') \n",
    "print(3,'.',sep='') # will print 1 2 3."
   ]
  },
  {
   "cell_type": "markdown",
   "id": "eb986993-2a47-497d-b7c5-8f4ce4cd7ca8",
   "metadata": {},
   "source": [
    "# String() Function"
   ]
  },
  {
   "cell_type": "markdown",
   "id": "bd285805-929f-4f5a-9464-b852d427fdce",
   "metadata": {},
   "source": [
    "## Escape characters\n",
    "- An escape character is created by typing a backslash `\n",
    "\\ \r\n",
    "followed by the character youwant to insert."
   ]
  },
  {
   "cell_type": "code",
   "execution_count": 27,
   "id": "d5eaf957-4723-4fdd-b841-0d3f024606d9",
   "metadata": {},
   "outputs": [
    {
     "name": "stdout",
     "output_type": "stream",
     "text": [
      "Hello there!\n",
      "How are you?\n",
      "I'm doing fine.\n"
     ]
    }
   ],
   "source": [
    "print(\"Hello there!\\nHow are you?\\nI\\'m doing fine.\")"
   ]
  },
  {
   "cell_type": "markdown",
   "id": "e3191f54-238d-4123-b5cd-076eca0e6fe6",
   "metadata": {},
   "source": [
    "## Raw strings\n",
    "- A raw string entirely ignores all escape characters and prints any backslash that appearsin the string\n",
    "- Raw strings are mostly used for \n",
    "regular expressio \r\n",
    "definition."
   ]
  },
  {
   "cell_type": "code",
   "execution_count": 28,
   "id": "367e88d2-0b93-4850-a05f-ee6954795a51",
   "metadata": {},
   "outputs": [
    {
     "name": "stdout",
     "output_type": "stream",
     "text": [
      "Hello there!\\nHow are you?\\nI\\'m doing fine.\n"
     ]
    }
   ],
   "source": [
    "print(r\"Hello there!\\nHow are you?\\nI\\'m doing fine.\")"
   ]
  },
  {
   "cell_type": "markdown",
   "id": "9a361756-8287-461f-b4fe-f2759b2cb211",
   "metadata": {},
   "source": [
    "## Multiline Strings"
   ]
  },
  {
   "cell_type": "code",
   "execution_count": 29,
   "id": "679a81fd-7a62-401a-8e55-6f91d0310240",
   "metadata": {},
   "outputs": [
    {
     "ename": "SyntaxError",
     "evalue": "invalid syntax. Perhaps you forgot a comma? (2374452204.py, line 2)",
     "output_type": "error",
     "traceback": [
      "\u001b[1;36m  Cell \u001b[1;32mIn[29], line 2\u001b[1;36m\u001b[0m\n\u001b[1;33m    ...\"\"\"Dear Alice,\u001b[0m\n\u001b[1;37m    ^\u001b[0m\n\u001b[1;31mSyntaxError\u001b[0m\u001b[1;31m:\u001b[0m invalid syntax. Perhaps you forgot a comma?\n"
     ]
    }
   ],
   "source": [
    "print(\n",
    "...\"\"\"Dear Alice,\n",
    "...\n",
    "... Eve's cat has been arrested for catnapping,\n",
    "... cat burglary, and extortion.\n",
    "...\n",
    "... Sincerely,\n",
    "... Bob\"\"\"\n",
    "...)"
   ]
  },
  {
   "cell_type": "markdown",
   "id": "7c65c076-95ba-4960-b865-6fec155cd5ba",
   "metadata": {},
   "source": [
    "# Indexing and Slicing strings"
   ]
  },
  {
   "cell_type": "markdown",
   "id": "0b967be9-e06e-4f4d-9998-b794b6e7922f",
   "metadata": {},
   "source": [
    "## Indexing"
   ]
  },
  {
   "cell_type": "code",
   "execution_count": 31,
   "id": "c0eebe49-fd1d-4c6e-ad44-9a98e2657155",
   "metadata": {},
   "outputs": [
    {
     "name": "stdout",
     "output_type": "stream",
     "text": [
      "H\n"
     ]
    }
   ],
   "source": [
    "spam = 'Hello world!'\n",
    "print(spam[0])"
   ]
  },
  {
   "cell_type": "code",
   "execution_count": 32,
   "id": "d2fd6bb1-efb2-4d80-bd4e-e3b28df9f809",
   "metadata": {},
   "outputs": [
    {
     "data": {
      "text/plain": [
       "'o'"
      ]
     },
     "execution_count": 32,
     "metadata": {},
     "output_type": "execute_result"
    }
   ],
   "source": [
    "spam[4]"
   ]
  },
  {
   "cell_type": "code",
   "execution_count": 33,
   "id": "86ae851d-0251-42b1-82b6-cebaaf01aa19",
   "metadata": {},
   "outputs": [
    {
     "data": {
      "text/plain": [
       "'!'"
      ]
     },
     "execution_count": 33,
     "metadata": {},
     "output_type": "execute_result"
    }
   ],
   "source": [
    "spam[-1]"
   ]
  },
  {
   "cell_type": "markdown",
   "id": "bc93e579-bc47-4963-8aa2-fb0ccf2ef811",
   "metadata": {},
   "source": [
    "## Slicing"
   ]
  },
  {
   "cell_type": "code",
   "execution_count": 34,
   "id": "065c808f-f4c6-4355-b691-d2a523bef7de",
   "metadata": {},
   "outputs": [
    {
     "data": {
      "text/plain": [
       "'Hello'"
      ]
     },
     "execution_count": 34,
     "metadata": {},
     "output_type": "execute_result"
    }
   ],
   "source": [
    "spam = 'Hello world!'\n",
    "spam[0:5]"
   ]
  },
  {
   "cell_type": "code",
   "execution_count": 35,
   "id": "b416d2b4-da05-43ba-9d2b-861ab2c238d0",
   "metadata": {},
   "outputs": [
    {
     "data": {
      "text/plain": [
       "'Hello'"
      ]
     },
     "execution_count": 35,
     "metadata": {},
     "output_type": "execute_result"
    }
   ],
   "source": [
    "spam[:5]"
   ]
  },
  {
   "cell_type": "code",
   "execution_count": 36,
   "id": "62221f6c-39a8-445c-9ce4-b1be3ad0ff06",
   "metadata": {},
   "outputs": [
    {
     "data": {
      "text/plain": [
       "'world'"
      ]
     },
     "execution_count": 36,
     "metadata": {},
     "output_type": "execute_result"
    }
   ],
   "source": [
    "spam[6:-1]"
   ]
  },
  {
   "cell_type": "code",
   "execution_count": 37,
   "id": "71859e80-4368-411a-8f05-cf6f06e70ab3",
   "metadata": {},
   "outputs": [
    {
     "data": {
      "text/plain": [
       "'Hello world'"
      ]
     },
     "execution_count": 37,
     "metadata": {},
     "output_type": "execute_result"
    }
   ],
   "source": [
    "spam[:-1]"
   ]
  },
  {
   "cell_type": "code",
   "execution_count": 38,
   "id": "e492b467-d1b8-4c08-b453-4d3c379f23b6",
   "metadata": {},
   "outputs": [
    {
     "data": {
      "text/plain": [
       "'!dlrow olleH'"
      ]
     },
     "execution_count": 38,
     "metadata": {},
     "output_type": "execute_result"
    }
   ],
   "source": [
    "spam[::-1]"
   ]
  },
  {
   "cell_type": "code",
   "execution_count": 41,
   "id": "54b1898c-5aac-4be4-8aa3-4d782a3e11c1",
   "metadata": {},
   "outputs": [
    {
     "data": {
      "text/plain": [
       "'Hello'"
      ]
     },
     "execution_count": 41,
     "metadata": {},
     "output_type": "execute_result"
    }
   ],
   "source": [
    "fizz = spam[0:5]\n",
    "fizz"
   ]
  },
  {
   "cell_type": "markdown",
   "id": "a6027a74-b864-451d-8d66-eab495d82105",
   "metadata": {},
   "source": [
    "## The in and not in operators"
   ]
  },
  {
   "cell_type": "code",
   "execution_count": 43,
   "id": "2c772dd8-71d4-4286-a8a4-4fef0b3f7ed7",
   "metadata": {},
   "outputs": [
    {
     "data": {
      "text/plain": [
       "True"
      ]
     },
     "execution_count": 43,
     "metadata": {},
     "output_type": "execute_result"
    }
   ],
   "source": [
    "'Hello' in 'Hello World'"
   ]
  },
  {
   "cell_type": "code",
   "execution_count": 44,
   "id": "fd539a5d-5391-4cfe-ac7d-fc03eef5877e",
   "metadata": {},
   "outputs": [
    {
     "data": {
      "text/plain": [
       "False"
      ]
     },
     "execution_count": 44,
     "metadata": {},
     "output_type": "execute_result"
    }
   ],
   "source": [
    "'HELLO' in 'Hello World'"
   ]
  },
  {
   "cell_type": "markdown",
   "id": "baab97fb-8cd3-476f-ad83-ffa52e16edea",
   "metadata": {},
   "source": [
    "## upper(), lower() and title()"
   ]
  },
  {
   "cell_type": "code",
   "execution_count": 45,
   "id": "415e4d33-959e-405e-a7af-705060f93382",
   "metadata": {},
   "outputs": [
    {
     "data": {
      "text/plain": [
       "'HELLO WORLD!'"
      ]
     },
     "execution_count": 45,
     "metadata": {},
     "output_type": "execute_result"
    }
   ],
   "source": [
    "greet = 'Hello world!'\n",
    "greet.upper()"
   ]
  },
  {
   "cell_type": "code",
   "execution_count": 46,
   "id": "37608d62-af0a-4acd-914c-9edd17f4f3d0",
   "metadata": {},
   "outputs": [
    {
     "data": {
      "text/plain": [
       "'hello world!'"
      ]
     },
     "execution_count": 46,
     "metadata": {},
     "output_type": "execute_result"
    }
   ],
   "source": [
    "greet.lower()"
   ]
  },
  {
   "cell_type": "code",
   "execution_count": 47,
   "id": "85eda4e9-5299-4325-ae6b-9dfd482fab85",
   "metadata": {},
   "outputs": [
    {
     "data": {
      "text/plain": [
       "'Hello World!'"
      ]
     },
     "execution_count": 47,
     "metadata": {},
     "output_type": "execute_result"
    }
   ],
   "source": [
    "greet.title()"
   ]
  },
  {
   "cell_type": "markdown",
   "id": "b1464800-f845-48af-80c8-57de8daa400c",
   "metadata": {},
   "source": [
    "## isupper() and islower() methods\n",
    "-Returns `True` or ` False` after evaluating if a string is in upper or lower case:"
   ]
  },
  {
   "cell_type": "code",
   "execution_count": 49,
   "id": "0cd52357-5210-4761-b00a-534f2e2ac2a3",
   "metadata": {},
   "outputs": [
    {
     "data": {
      "text/plain": [
       "False"
      ]
     },
     "execution_count": 49,
     "metadata": {},
     "output_type": "execute_result"
    }
   ],
   "source": [
    "spam = 'Hello world!'\n",
    "spam.islower()"
   ]
  },
  {
   "cell_type": "code",
   "execution_count": 50,
   "id": "f85762f5-5ab2-43ec-88ee-271586d2dd69",
   "metadata": {},
   "outputs": [
    {
     "data": {
      "text/plain": [
       "False"
      ]
     },
     "execution_count": 50,
     "metadata": {},
     "output_type": "execute_result"
    }
   ],
   "source": [
    "spam.isupper()"
   ]
  },
  {
   "cell_type": "code",
   "execution_count": 51,
   "id": "b88f6bb4-f5d3-49a4-9a20-aa9a0e52dcb0",
   "metadata": {},
   "outputs": [
    {
     "data": {
      "text/plain": [
       "True"
      ]
     },
     "execution_count": 51,
     "metadata": {},
     "output_type": "execute_result"
    }
   ],
   "source": [
    "'HELLO'.isupper()"
   ]
  },
  {
   "cell_type": "code",
   "execution_count": 52,
   "id": "227c152d-5dc4-4266-9f3b-2b07f7872083",
   "metadata": {},
   "outputs": [
    {
     "data": {
      "text/plain": [
       "True"
      ]
     },
     "execution_count": 52,
     "metadata": {},
     "output_type": "execute_result"
    }
   ],
   "source": [
    "'abc12345'.islower()"
   ]
  },
  {
   "cell_type": "markdown",
   "id": "0927e26f-5baf-4c12-a27b-ed2d0fe46b76",
   "metadata": {},
   "source": [
    "## startswith() and endswith()"
   ]
  },
  {
   "cell_type": "code",
   "execution_count": 53,
   "id": "9a9ce8db-2e63-4c2b-bc78-11bcff63fc3d",
   "metadata": {},
   "outputs": [
    {
     "data": {
      "text/plain": [
       "True"
      ]
     },
     "execution_count": 53,
     "metadata": {},
     "output_type": "execute_result"
    }
   ],
   "source": [
    "'Hello world!'.startswith('Hello')"
   ]
  },
  {
   "cell_type": "code",
   "execution_count": 54,
   "id": "af265506-ee69-4e85-9039-7542b2820375",
   "metadata": {},
   "outputs": [
    {
     "data": {
      "text/plain": [
       "False"
      ]
     },
     "execution_count": 54,
     "metadata": {},
     "output_type": "execute_result"
    }
   ],
   "source": [
    "'Hello world!'.endswith('world')"
   ]
  },
  {
   "cell_type": "code",
   "execution_count": 55,
   "id": "f3cabe8a-e65f-4a7b-af94-6b87acdc9c15",
   "metadata": {},
   "outputs": [
    {
     "data": {
      "text/plain": [
       "False"
      ]
     },
     "execution_count": 55,
     "metadata": {},
     "output_type": "execute_result"
    }
   ],
   "source": [
    "'abc123'.startswith('abcdef')"
   ]
  },
  {
   "cell_type": "code",
   "execution_count": 56,
   "id": "531f05e4-80e3-4161-af99-e19e1e8bff3a",
   "metadata": {},
   "outputs": [
    {
     "data": {
      "text/plain": [
       "False"
      ]
     },
     "execution_count": 56,
     "metadata": {},
     "output_type": "execute_result"
    }
   ],
   "source": [
    "'abc123'.endswith('12')"
   ]
  },
  {
   "cell_type": "markdown",
   "id": "be4e0ede-dc2b-4b7f-8e0a-efb5eb8da11b",
   "metadata": {},
   "source": [
    "# join() and split()"
   ]
  },
  {
   "cell_type": "markdown",
   "id": "461575fa-46f4-437e-98c6-a3ccdc292b2c",
   "metadata": {},
   "source": [
    "## join()\n",
    "- The 'join()' method takes all the items in an iterable, like a list, dictionary, tuple or set and joins them into a string. "
   ]
  },
  {
   "cell_type": "code",
   "execution_count": 57,
   "id": "f7db1307-aed4-43b0-8fd8-1c0b0fe4b16c",
   "metadata": {},
   "outputs": [
    {
     "data": {
      "text/plain": [
       "'MynameisSimon'"
      ]
     },
     "execution_count": 57,
     "metadata": {},
     "output_type": "execute_result"
    }
   ],
   "source": [
    "''.join(['My','name','is','Simon'])"
   ]
  },
  {
   "cell_type": "code",
   "execution_count": 58,
   "id": "bd9f3f8e-ab29-482c-b427-9bba09bc9f3a",
   "metadata": {},
   "outputs": [
    {
     "data": {
      "text/plain": [
       "'My,name,is,Simon'"
      ]
     },
     "execution_count": 58,
     "metadata": {},
     "output_type": "execute_result"
    }
   ],
   "source": [
    "','.join(['My','name','is','Simon'])"
   ]
  },
  {
   "cell_type": "code",
   "execution_count": 59,
   "id": "dd843d80-009a-4e62-ace8-d0b114d0d436",
   "metadata": {},
   "outputs": [
    {
     "data": {
      "text/plain": [
       "'MyABCnameABCisABCSimon'"
      ]
     },
     "execution_count": 59,
     "metadata": {},
     "output_type": "execute_result"
    }
   ],
   "source": [
    "'ABC'.join(['My','name','is','Simon'])"
   ]
  },
  {
   "cell_type": "markdown",
   "id": "f3e00312-6b59-4029-9645-e7c664eb6cf3",
   "metadata": {},
   "source": [
    "## split()\n",
    "- The 'split()' method splits 'string' into a 'list'.\n",
    "- By default, it will use whitespace to separate the items, but you can also set another character of choice:"
   ]
  },
  {
   "cell_type": "code",
   "execution_count": 60,
   "id": "785a2e27-6a73-4c16-9122-7da35a3e6ef7",
   "metadata": {},
   "outputs": [
    {
     "data": {
      "text/plain": [
       "['My', 'name', 'is', 'Simon']"
      ]
     },
     "execution_count": 60,
     "metadata": {},
     "output_type": "execute_result"
    }
   ],
   "source": [
    "'My name is Simon'.split()"
   ]
  },
  {
   "cell_type": "code",
   "execution_count": 61,
   "id": "707e91b8-9a45-4089-86e7-eb010af2d7c8",
   "metadata": {},
   "outputs": [
    {
     "data": {
      "text/plain": [
       "['My', 'name', 'is', 'Simon']"
      ]
     },
     "execution_count": 61,
     "metadata": {},
     "output_type": "execute_result"
    }
   ],
   "source": [
    "'MyABCnameABCisABCSimon'.split('ABC')"
   ]
  },
  {
   "cell_type": "code",
   "execution_count": 63,
   "id": "4601137e-9180-49cf-a625-c8f21218507a",
   "metadata": {},
   "outputs": [
    {
     "data": {
      "text/plain": [
       "['My na', 'e is Si', 'on']"
      ]
     },
     "execution_count": 63,
     "metadata": {},
     "output_type": "execute_result"
    }
   ],
   "source": [
    "'My name is Simon'.split('m')"
   ]
  },
  {
   "cell_type": "code",
   "execution_count": 64,
   "id": "2ad28e2b-7478-4b85-8932-72b8ff86b895",
   "metadata": {},
   "outputs": [
    {
     "data": {
      "text/plain": [
       "['My', 'name', 'is', 'Simon']"
      ]
     },
     "execution_count": 64,
     "metadata": {},
     "output_type": "execute_result"
    }
   ],
   "source": [
    "'My name is Simon'.split()"
   ]
  },
  {
   "cell_type": "code",
   "execution_count": 66,
   "id": "4ba9090b-eaf9-41a0-8842-0a7c9a6d5859",
   "metadata": {},
   "outputs": [
    {
     "data": {
      "text/plain": [
       "['My', 'name', 'is', 'Simon']"
      ]
     },
     "execution_count": 66,
     "metadata": {},
     "output_type": "execute_result"
    }
   ],
   "source": [
    "'My name is Simon'.split(' ')"
   ]
  },
  {
   "cell_type": "markdown",
   "id": "fa4d7f90-8c45-4586-9c00-1ba7c8ed4473",
   "metadata": {},
   "source": [
    "## Justifying text with rjust(), ljust() and center()"
   ]
  },
  {
   "cell_type": "code",
   "execution_count": 67,
   "id": "ddf80b5c-b41f-492b-86d6-f9613d564808",
   "metadata": {},
   "outputs": [
    {
     "data": {
      "text/plain": [
       "'     Hello'"
      ]
     },
     "execution_count": 67,
     "metadata": {},
     "output_type": "execute_result"
    }
   ],
   "source": [
    "'Hello'.rjust(10)"
   ]
  },
  {
   "cell_type": "code",
   "execution_count": 68,
   "id": "562b4bb3-fd56-4794-9a7b-75bab63391f0",
   "metadata": {},
   "outputs": [
    {
     "data": {
      "text/plain": [
       "'               Hello'"
      ]
     },
     "execution_count": 68,
     "metadata": {},
     "output_type": "execute_result"
    }
   ],
   "source": [
    "'Hello'.rjust(20)"
   ]
  },
  {
   "cell_type": "code",
   "execution_count": 70,
   "id": "c870ef3c-08a9-44d3-ad4d-3cbfc0c633d8",
   "metadata": {},
   "outputs": [
    {
     "data": {
      "text/plain": [
       "'         Hello World'"
      ]
     },
     "execution_count": 70,
     "metadata": {},
     "output_type": "execute_result"
    }
   ],
   "source": [
    "'Hello World'.rjust(20)"
   ]
  },
  {
   "cell_type": "code",
   "execution_count": 71,
   "id": "7800d63a-294e-49c6-b790-e823e72450cf",
   "metadata": {},
   "outputs": [
    {
     "data": {
      "text/plain": [
       "'Hello     '"
      ]
     },
     "execution_count": 71,
     "metadata": {},
     "output_type": "execute_result"
    }
   ],
   "source": [
    "'Hello'.ljust(10)"
   ]
  },
  {
   "cell_type": "code",
   "execution_count": 72,
   "id": "56dd74b1-4d55-41ca-9f10-946d52a23dba",
   "metadata": {},
   "outputs": [
    {
     "data": {
      "text/plain": [
       "'       Hello        '"
      ]
     },
     "execution_count": 72,
     "metadata": {},
     "output_type": "execute_result"
    }
   ],
   "source": [
    "'Hello'.center(20)"
   ]
  },
  {
   "cell_type": "code",
   "execution_count": 73,
   "id": "4632973d-ad4e-4e92-8f36-9d1173724f1e",
   "metadata": {},
   "outputs": [
    {
     "data": {
      "text/plain": [
       "'***************Hello'"
      ]
     },
     "execution_count": 73,
     "metadata": {},
     "output_type": "execute_result"
    }
   ],
   "source": [
    "'Hello'.rjust(20, '*')"
   ]
  },
  {
   "cell_type": "code",
   "execution_count": 74,
   "id": "d26dcdc5-7e71-4264-8fa1-0c5bbedfea2a",
   "metadata": {},
   "outputs": [
    {
     "data": {
      "text/plain": [
       "'Hello---------------'"
      ]
     },
     "execution_count": 74,
     "metadata": {},
     "output_type": "execute_result"
    }
   ],
   "source": [
    "'Hello'.ljust(20, '-')"
   ]
  },
  {
   "cell_type": "code",
   "execution_count": 75,
   "id": "cf0a6e4d-66ea-4d5c-9203-c5775a6b41b6",
   "metadata": {},
   "outputs": [
    {
     "data": {
      "text/plain": [
       "'=======Hello========'"
      ]
     },
     "execution_count": 75,
     "metadata": {},
     "output_type": "execute_result"
    }
   ],
   "source": [
    "'Hello'.center(20, \"=\")"
   ]
  },
  {
   "cell_type": "markdown",
   "id": "3f5532cd-0f0f-4496-b413-c9def9de079c",
   "metadata": {},
   "source": [
    "## Removing whitespace with strip(), rstrip(), and lstrip()"
   ]
  },
  {
   "cell_type": "code",
   "execution_count": 76,
   "id": "81235cc8-3989-4415-a317-f985e1d5e709",
   "metadata": {},
   "outputs": [
    {
     "data": {
      "text/plain": [
       "'Hello World'"
      ]
     },
     "execution_count": 76,
     "metadata": {},
     "output_type": "execute_result"
    }
   ],
   "source": [
    "spam = ' Hello World '\n",
    "spam.strip()"
   ]
  },
  {
   "cell_type": "code",
   "execution_count": 77,
   "id": "d1c6b3c7-c86b-4a08-a27e-7cc9cc683147",
   "metadata": {},
   "outputs": [
    {
     "data": {
      "text/plain": [
       "'Hello World '"
      ]
     },
     "execution_count": 77,
     "metadata": {},
     "output_type": "execute_result"
    }
   ],
   "source": [
    "spam.lstrip()"
   ]
  },
  {
   "cell_type": "code",
   "execution_count": 79,
   "id": "be62996d-4ad4-4183-a1ca-ec2f33b1df9b",
   "metadata": {},
   "outputs": [
    {
     "data": {
      "text/plain": [
       "' Hello World'"
      ]
     },
     "execution_count": 79,
     "metadata": {},
     "output_type": "execute_result"
    }
   ],
   "source": [
    "spam.rstrip()"
   ]
  },
  {
   "cell_type": "code",
   "execution_count": 80,
   "id": "6e9acbe3-55e7-45d9-9bd9-9a4d8053012c",
   "metadata": {},
   "outputs": [
    {
     "data": {
      "text/plain": [
       "'BaconSpamEggs'"
      ]
     },
     "execution_count": 80,
     "metadata": {},
     "output_type": "execute_result"
    }
   ],
   "source": [
    "spam = 'SpamSpamBaconSpamEggsSpamSpam'\n",
    "spam.strip('ampS')"
   ]
  },
  {
   "cell_type": "markdown",
   "id": "85e39d31-4123-4ec4-a6a9-6d6ebbc5bdda",
   "metadata": {},
   "source": [
    "## The Count Method\n",
    "- Counts the number of occurance of a given charater or subtracting in the string it is applied to. can be optionally provided start and end index"
   ]
  },
  {
   "cell_type": "code",
   "execution_count": 81,
   "id": "624698af-bf47-443a-bb5a-f1e045a83b2c",
   "metadata": {},
   "outputs": [
    {
     "data": {
      "text/plain": [
       "3"
      ]
     },
     "execution_count": 81,
     "metadata": {},
     "output_type": "execute_result"
    }
   ],
   "source": [
    "sentence  = 'one sheep two sheep three sheep four'\n",
    "sentence.count('sheep')"
   ]
  },
  {
   "cell_type": "code",
   "execution_count": 82,
   "id": "835c69c5-93e3-4e03-b784-f3d4c1748cd3",
   "metadata": {},
   "outputs": [
    {
     "data": {
      "text/plain": [
       "9"
      ]
     },
     "execution_count": 82,
     "metadata": {},
     "output_type": "execute_result"
    }
   ],
   "source": [
    "sentence.count('e')"
   ]
  },
  {
   "cell_type": "code",
   "execution_count": 83,
   "id": "848c55a8-b61b-427a-8c0d-5fe899648752",
   "metadata": {},
   "outputs": [
    {
     "data": {
      "text/plain": [
       "8"
      ]
     },
     "execution_count": 83,
     "metadata": {},
     "output_type": "execute_result"
    }
   ],
   "source": [
    "sentence.count('e',6)"
   ]
  },
  {
   "cell_type": "markdown",
   "id": "5bf5f6a7-ddb7-47e5-b507-10c3eae5ab63",
   "metadata": {},
   "source": [
    "### Replace Method\n",
    "- Replace all occurances of a given substring with another substring.\n",
    "- Can be optionally provided a third argument to limit the number of replacements. Returns a new string"
   ]
  },
  {
   "cell_type": "code",
   "execution_count": 84,
   "id": "df3ee4d4-531f-4972-9947-5dc6a6aa4771",
   "metadata": {},
   "outputs": [
    {
     "data": {
      "text/plain": [
       "'Hello, planet!'"
      ]
     },
     "execution_count": 84,
     "metadata": {},
     "output_type": "execute_result"
    }
   ],
   "source": [
    "text = \"Hello, world!\"\n",
    ">>> text.replace(\"world\", \"planet\")"
   ]
  },
  {
   "cell_type": "code",
   "execution_count": 85,
   "id": "55528cf3-5fab-4b74-98f7-536057c9edb7",
   "metadata": {},
   "outputs": [
    {
     "data": {
      "text/plain": [
       "'orange, banana, cherry, apple'"
      ]
     },
     "execution_count": 85,
     "metadata": {},
     "output_type": "execute_result"
    }
   ],
   "source": [
    "fruits = \"apple, banana, cherry, apple\"\n",
    "fruits.replace(\"apple\", \"orange\", 1)"
   ]
  },
  {
   "cell_type": "code",
   "execution_count": 86,
   "id": "d4554d27-7676-4848-8035-d71a8421ce1c",
   "metadata": {},
   "outputs": [
    {
     "data": {
      "text/plain": [
       "'I like oranges, Apples are my favorite fruit'"
      ]
     },
     "execution_count": 86,
     "metadata": {},
     "output_type": "execute_result"
    }
   ],
   "source": [
    "sentence = \"I like apples, Apples are my favorite fruit\"\n",
    "sentence.replace(\"apples\", \"oranges\")"
   ]
  }
 ],
 "metadata": {
  "kernelspec": {
   "display_name": "Python 3 (ipykernel)",
   "language": "python",
   "name": "python3"
  },
  "language_info": {
   "codemirror_mode": {
    "name": "ipython",
    "version": 3
   },
   "file_extension": ".py",
   "mimetype": "text/x-python",
   "name": "python",
   "nbconvert_exporter": "python",
   "pygments_lexer": "ipython3",
   "version": "3.12.4"
  }
 },
 "nbformat": 4,
 "nbformat_minor": 5
}
