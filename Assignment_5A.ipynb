{
 "cells": [
  {
   "cell_type": "markdown",
   "id": "feee0b81-c44b-4f3f-84cc-aeca541fed5e",
   "metadata": {},
   "source": [
    "# Assignment 5A - Python"
   ]
  },
  {
   "cell_type": "markdown",
   "id": "477a0072-13bc-41c8-9661-0baf4cce546f",
   "metadata": {},
   "source": [
    "# List Data Type"
   ]
  },
  {
   "cell_type": "code",
   "execution_count": 2,
   "id": "2f609d72-21d0-4683-97f9-d41faf46b776",
   "metadata": {},
   "outputs": [
    {
     "data": {
      "text/plain": [
       "[]"
      ]
     },
     "execution_count": 2,
     "metadata": {},
     "output_type": "execute_result"
    }
   ],
   "source": [
    "l = []\n",
    "l"
   ]
  },
  {
   "cell_type": "code",
   "execution_count": 3,
   "id": "e2520302-b7cf-4765-a215-7c037da66c24",
   "metadata": {},
   "outputs": [
    {
     "data": {
      "text/plain": [
       "list"
      ]
     },
     "execution_count": 3,
     "metadata": {},
     "output_type": "execute_result"
    }
   ],
   "source": [
    "type(l)"
   ]
  },
  {
   "cell_type": "code",
   "execution_count": 4,
   "id": "d000b634-5823-4436-b822-9e9efc26339b",
   "metadata": {},
   "outputs": [
    {
     "name": "stdout",
     "output_type": "stream",
     "text": [
      "[10]\n"
     ]
    }
   ],
   "source": [
    "l.append(10)\n",
    "print(l)"
   ]
  },
  {
   "cell_type": "code",
   "execution_count": 5,
   "id": "4c0f543b-a299-47d0-a7a9-812d82072887",
   "metadata": {},
   "outputs": [
    {
     "name": "stdout",
     "output_type": "stream",
     "text": [
      "None\n",
      "None\n",
      "None\n",
      "[10, 20, 30, 40]\n"
     ]
    }
   ],
   "source": [
    "print(l.append(20))\n",
    "print(l.append(30))\n",
    "print(l.append(40))\n",
    "print(l)"
   ]
  },
  {
   "cell_type": "code",
   "execution_count": 6,
   "id": "967d9dcc-b523-4f0b-bb37-e94c4e41429b",
   "metadata": {},
   "outputs": [
    {
     "ename": "TypeError",
     "evalue": "list.append() takes exactly one argument (3 given)",
     "output_type": "error",
     "traceback": [
      "\u001b[1;31m---------------------------------------------------------------------------\u001b[0m",
      "\u001b[1;31mTypeError\u001b[0m                                 Traceback (most recent call last)",
      "Cell \u001b[1;32mIn[6], line 1\u001b[0m\n\u001b[1;32m----> 1\u001b[0m \u001b[43ml\u001b[49m\u001b[38;5;241;43m.\u001b[39;49m\u001b[43mappend\u001b[49m\u001b[43m(\u001b[49m\u001b[38;5;241;43m70\u001b[39;49m\u001b[43m,\u001b[49m\u001b[38;5;241;43m80\u001b[39;49m\u001b[43m,\u001b[49m\u001b[38;5;241;43m90\u001b[39;49m\u001b[43m)\u001b[49m\n",
      "\u001b[1;31mTypeError\u001b[0m: list.append() takes exactly one argument (3 given)"
     ]
    }
   ],
   "source": [
    "l.append(70,80,90)"
   ]
  },
  {
   "cell_type": "code",
   "execution_count": 7,
   "id": "c9d23d8f-1885-487f-aff1-987221546dc9",
   "metadata": {},
   "outputs": [
    {
     "name": "stdout",
     "output_type": "stream",
     "text": [
      "[10, 20, 30, 40, 78]\n",
      "5\n"
     ]
    }
   ],
   "source": [
    "l.append(78)\n",
    "print(l)\n",
    "print(len(l))"
   ]
  },
  {
   "cell_type": "code",
   "execution_count": 8,
   "id": "37c25408-101e-41ef-97cd-20f63b723849",
   "metadata": {},
   "outputs": [
    {
     "name": "stdout",
     "output_type": "stream",
     "text": [
      "[10, 20, 30, 40, 78]\n"
     ]
    }
   ],
   "source": [
    "l1 = l.copy()\n",
    "print(l1)"
   ]
  },
  {
   "cell_type": "code",
   "execution_count": 9,
   "id": "7348abbf-3ff6-47dd-8a03-39a320c3cec0",
   "metadata": {},
   "outputs": [
    {
     "name": "stdout",
     "output_type": "stream",
     "text": [
      "[10, 20, 30, 40, 78]\n",
      "[10, 20, 30, 40, 78, 2.3, 'vihari', (1+2j), [1, 2, 3]]\n",
      "5\n",
      "9\n"
     ]
    }
   ],
   "source": [
    "l1.append(2.3)\n",
    "l1.append('vihari')\n",
    "l1.append(1+2j)\n",
    "l1.append([1,2,3])\n",
    "\n",
    "print(l)\n",
    "print(l1)\n",
    "print(len(l))\n",
    "print(len(l1))"
   ]
  },
  {
   "cell_type": "code",
   "execution_count": 10,
   "id": "f3430f25-bc13-4f45-9880-ecb75f5c6d1a",
   "metadata": {},
   "outputs": [
    {
     "data": {
      "text/plain": [
       "False"
      ]
     },
     "execution_count": 10,
     "metadata": {},
     "output_type": "execute_result"
    }
   ],
   "source": [
    "l == l1"
   ]
  },
  {
   "cell_type": "code",
   "execution_count": 11,
   "id": "dac88600-89f0-4833-8c57-ccc96539efe7",
   "metadata": {},
   "outputs": [
    {
     "name": "stdout",
     "output_type": "stream",
     "text": [
      "[10, 20, 30, 40, 78]\n"
     ]
    },
    {
     "data": {
      "text/plain": [
       "True"
      ]
     },
     "execution_count": 11,
     "metadata": {},
     "output_type": "execute_result"
    }
   ],
   "source": [
    "l2 = l.copy()\n",
    "print(l2)\n",
    "l == l2"
   ]
  },
  {
   "cell_type": "code",
   "execution_count": 12,
   "id": "89f91f44-995b-4172-a903-3ea90289d394",
   "metadata": {},
   "outputs": [
    {
     "name": "stdout",
     "output_type": "stream",
     "text": [
      "[10, 20, 30, 40, 78]\n",
      "[10, 20, 30, 40, 78, 2.3, 'vihari', (1+2j), [1, 2, 3]]\n",
      "[10, 20, 30, 40, 78]\n"
     ]
    }
   ],
   "source": [
    "print(l)\n",
    "print(l1)\n",
    "print(l2)"
   ]
  },
  {
   "cell_type": "code",
   "execution_count": 13,
   "id": "9697db64-b8e9-472c-a815-34f81ab9e4fc",
   "metadata": {},
   "outputs": [
    {
     "name": "stdout",
     "output_type": "stream",
     "text": [
      "[10, 20, 30, 40, 78]\n",
      "10\n",
      "[100, 20, 30, 40, 78]\n"
     ]
    }
   ],
   "source": [
    "print(l[:])\n",
    "print(l[0])\n",
    "l[0] = 100\n",
    "print(l)"
   ]
  },
  {
   "cell_type": "code",
   "execution_count": 14,
   "id": "71578974-f7ce-4d20-9864-c1a022737cf1",
   "metadata": {},
   "outputs": [
    {
     "name": "stdout",
     "output_type": "stream",
     "text": [
      "[100, 20, 30, 40, 200]\n"
     ]
    }
   ],
   "source": [
    "l[-1] = 200\n",
    "print(l)"
   ]
  },
  {
   "cell_type": "code",
   "execution_count": 15,
   "id": "9169aaf5-23f6-4f23-9d31-64b2d120363d",
   "metadata": {},
   "outputs": [
    {
     "data": {
      "text/plain": [
       "[40, 200]"
      ]
     },
     "execution_count": 15,
     "metadata": {},
     "output_type": "execute_result"
    }
   ],
   "source": [
    "l[3:]"
   ]
  },
  {
   "cell_type": "code",
   "execution_count": 16,
   "id": "1ac948a4-1194-4c49-94de-53141ec6753c",
   "metadata": {},
   "outputs": [
    {
     "data": {
      "text/plain": [
       "[]"
      ]
     },
     "execution_count": 16,
     "metadata": {},
     "output_type": "execute_result"
    }
   ],
   "source": [
    "l[10:]"
   ]
  },
  {
   "cell_type": "code",
   "execution_count": 17,
   "id": "9c5f105f-3ffd-433c-9dba-fb8a09955095",
   "metadata": {},
   "outputs": [
    {
     "data": {
      "text/plain": [
       "[100, 20, 30, 40, 200]"
      ]
     },
     "execution_count": 17,
     "metadata": {},
     "output_type": "execute_result"
    }
   ],
   "source": [
    "l[:10]"
   ]
  },
  {
   "cell_type": "code",
   "execution_count": 18,
   "id": "02448240-0a55-4a40-ad2d-02d52db41471",
   "metadata": {},
   "outputs": [
    {
     "name": "stdout",
     "output_type": "stream",
     "text": [
      "[]\n"
     ]
    }
   ],
   "source": [
    "l2.clear()\n",
    "print(l2)"
   ]
  },
  {
   "cell_type": "code",
   "execution_count": 19,
   "id": "09576cc1-ec1b-4513-8f87-d94980a1fcf4",
   "metadata": {},
   "outputs": [
    {
     "ename": "NameError",
     "evalue": "name 'l1' is not defined",
     "output_type": "error",
     "traceback": [
      "\u001b[1;31m---------------------------------------------------------------------------\u001b[0m",
      "\u001b[1;31mNameError\u001b[0m                                 Traceback (most recent call last)",
      "Cell \u001b[1;32mIn[19], line 2\u001b[0m\n\u001b[0;32m      1\u001b[0m \u001b[38;5;28;01mdel\u001b[39;00m l1\n\u001b[1;32m----> 2\u001b[0m \u001b[38;5;28mprint\u001b[39m(\u001b[43ml1\u001b[49m)\n",
      "\u001b[1;31mNameError\u001b[0m: name 'l1' is not defined"
     ]
    }
   ],
   "source": [
    "del l1\n",
    "print(l1)"
   ]
  },
  {
   "cell_type": "code",
   "execution_count": 23,
   "id": "85a9d020-eab3-447b-b7bc-722e7ef2993f",
   "metadata": {},
   "outputs": [
    {
     "data": {
      "text/plain": [
       "[10]"
      ]
     },
     "execution_count": 23,
     "metadata": {},
     "output_type": "execute_result"
    }
   ],
   "source": [
    "l1 = [10, 20, 30, 40, 'IoT']\n",
    "l1[0:12:5]"
   ]
  },
  {
   "cell_type": "code",
   "execution_count": 22,
   "id": "c58cb16b-e72d-4374-a8f2-ee6566df1010",
   "metadata": {},
   "outputs": [
    {
     "data": {
      "text/plain": [
       "[10, 40]"
      ]
     },
     "execution_count": 22,
     "metadata": {},
     "output_type": "execute_result"
    }
   ],
   "source": [
    "l1[0:11:3]"
   ]
  },
  {
   "cell_type": "code",
   "execution_count": 24,
   "id": "6813f139-b896-4ab3-93a9-72c93eec45c6",
   "metadata": {},
   "outputs": [
    {
     "data": {
      "text/plain": [
       "4"
      ]
     },
     "execution_count": 24,
     "metadata": {},
     "output_type": "execute_result"
    }
   ],
   "source": [
    "l1.index('IoT')"
   ]
  }
 ],
 "metadata": {
  "kernelspec": {
   "display_name": "Python 3 (ipykernel)",
   "language": "python",
   "name": "python3"
  },
  "language_info": {
   "codemirror_mode": {
    "name": "ipython",
    "version": 3
   },
   "file_extension": ".py",
   "mimetype": "text/x-python",
   "name": "python",
   "nbconvert_exporter": "python",
   "pygments_lexer": "ipython3",
   "version": "3.12.4"
  }
 },
 "nbformat": 4,
 "nbformat_minor": 5
}
