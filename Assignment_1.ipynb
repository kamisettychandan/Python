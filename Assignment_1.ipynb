{
 "cells": [
  {
   "cell_type": "markdown",
   "id": "3ada486b-de72-4fd7-97ea-f26389ca5d15",
   "metadata": {},
   "source": [
    "# Assignment 1 - Python"
   ]
  },
  {
   "cell_type": "code",
   "execution_count": 1,
   "id": "7fce584d-146b-40e1-abde-e49e5e591564",
   "metadata": {},
   "outputs": [
    {
     "name": "stdout",
     "output_type": "stream",
     "text": [
      "35\n"
     ]
    }
   ],
   "source": [
    "# Integer Variable\n",
    "\n",
    "age = 35          # 'age' is a variable & it stores an integer value is 35\n",
    "print(age)"
   ]
  },
  {
   "cell_type": "code",
   "execution_count": 2,
   "id": "d5846fe0-3579-4af9-b17f-bf0ad4988118",
   "metadata": {},
   "outputs": [
    {
     "data": {
      "text/plain": [
       "'Chandan'"
      ]
     },
     "execution_count": 2,
     "metadata": {},
     "output_type": "execute_result"
    }
   ],
   "source": [
    "# String Variable\n",
    "\n",
    "name = 'Chandan'       # 'name' is a variable & storing a string is 'Chandan'\n",
    "name"
   ]
  },
  {
   "cell_type": "code",
   "execution_count": 3,
   "id": "2a685b69-8442-4601-85a4-867d584fe55e",
   "metadata": {},
   "outputs": [
    {
     "name": "stdout",
     "output_type": "stream",
     "text": [
      "35.85\n"
     ]
    }
   ],
   "source": [
    "# Float Variable\n",
    "\n",
    "cost = 35.85          # 'cost' is a variable & storing a cost is 'floating value'\n",
    "print(cost)"
   ]
  },
  {
   "cell_type": "code",
   "execution_count": 4,
   "id": "0bf95f09-48bb-436e-bbab-c86c49dd661b",
   "metadata": {},
   "outputs": [
    {
     "name": "stdout",
     "output_type": "stream",
     "text": [
      "True\n"
     ]
    }
   ],
   "source": [
    "# Boolean Variable\n",
    "\n",
    "is_active = True           # 'is_active' is a variable & storing a Boolean Value'\n",
    "print(is_active)"
   ]
  },
  {
   "cell_type": "code",
   "execution_count": 5,
   "id": "b74a4fa9-257a-4433-b0b4-21cfb49b6d4a",
   "metadata": {},
   "outputs": [
    {
     "name": "stdout",
     "output_type": "stream",
     "text": [
      "35\n"
     ]
    }
   ],
   "source": [
    "# Storing and Print a value\n",
    "\n",
    "# Storing the value 35 in a variable called 'x'\n",
    "x = 35\n",
    "\n",
    "# Printing the value of 'x'\n",
    "print(x)"
   ]
  },
  {
   "cell_type": "code",
   "execution_count": 6,
   "id": "e1baf205-2d6c-44e9-a859-0141ce61f880",
   "metadata": {},
   "outputs": [
    {
     "name": "stdout",
     "output_type": "stream",
     "text": [
      "120\n"
     ]
    }
   ],
   "source": [
    "# Using Variables in Expressions\n",
    "\n",
    "# Assigning values to variables\n",
    "a = 35\n",
    "b = 85\n",
    "# adding two variables and storing the result in 'result'\n",
    "result = a+b\n",
    "\n",
    "# printing the result\n",
    "print(result)"
   ]
  },
  {
   "cell_type": "code",
   "execution_count": 10,
   "id": "0ffcbc98-ffb4-408b-9b46-da0347a28028",
   "metadata": {},
   "outputs": [
    {
     "name": "stdout",
     "output_type": "stream",
     "text": [
      "Initial value is  50\n",
      "Secondary value is  100\n"
     ]
    }
   ],
   "source": [
    "# Changing the value of Variable\n",
    "\n",
    "# Initial Value\n",
    "score = 50\n",
    "print(\"Initial value is \",score)\n",
    "\n",
    "# Changing the value of 'score'\n",
    "score = 100\n",
    "print(\"Secondary value is \",score)"
   ]
  },
  {
   "cell_type": "code",
   "execution_count": 11,
   "id": "940d86b9-c8ff-4dc7-8af2-1e2c09aa991f",
   "metadata": {},
   "outputs": [
    {
     "name": "stdout",
     "output_type": "stream",
     "text": [
      "Vihari Nandan\n"
     ]
    }
   ],
   "source": [
    "# Concatenating Strings\n",
    "\n",
    "# Assigning values to variables\n",
    "first_name = 'Vihari'\n",
    "last_name = 'Nandan'\n",
    "\n",
    "# Concatenating strings and storing in a New variable\n",
    "full_name = first_name + \" \" + last_name\n",
    "print(full_name)"
   ]
  },
  {
   "cell_type": "code",
   "execution_count": 12,
   "id": "62f8046c-96d6-4ccb-ad61-2ea359fd01cf",
   "metadata": {},
   "outputs": [
    {
     "name": "stdout",
     "output_type": "stream",
     "text": [
      "50\n"
     ]
    }
   ],
   "source": [
    "# Using Variables in a Calculation\n",
    "\n",
    "# Assiging values to variables\n",
    "length = 10\n",
    "width = 5\n",
    "\n",
    "# Calculating the area of a rectangle\n",
    "area = length * width\n",
    "print(area)"
   ]
  },
  {
   "cell_type": "code",
   "execution_count": 13,
   "id": "e6d7149f-fa77-4eea-9fcc-e68488bfb477",
   "metadata": {},
   "outputs": [
    {
     "name": "stdout",
     "output_type": "stream",
     "text": [
      "10\n",
      "20\n"
     ]
    }
   ],
   "source": [
    "# Reassigning Values to Variables\n",
    "\n",
    "# Python allows to reassign a variable to a new value at any time\n",
    "\n",
    "x = 10        # Initial value of x\n",
    "print(x)\n",
    "\n",
    "x = 20        # Reassigning the value of x\n",
    "print(x)"
   ]
  }
 ],
 "metadata": {
  "kernelspec": {
   "display_name": "Python 3 (ipykernel)",
   "language": "python",
   "name": "python3"
  },
  "language_info": {
   "codemirror_mode": {
    "name": "ipython",
    "version": 3
   },
   "file_extension": ".py",
   "mimetype": "text/x-python",
   "name": "python",
   "nbconvert_exporter": "python",
   "pygments_lexer": "ipython3",
   "version": "3.12.4"
  }
 },
 "nbformat": 4,
 "nbformat_minor": 5
}
