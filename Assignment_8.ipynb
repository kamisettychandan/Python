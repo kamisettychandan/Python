{
 "cells": [
  {
   "cell_type": "markdown",
   "id": "84382730-69b4-487a-bcd2-4a5e1a4be502",
   "metadata": {},
   "source": [
    "# Assignment 8 - Python"
   ]
  },
  {
   "cell_type": "markdown",
   "id": "f092236b-1124-46f6-ac61-ccefac83e3bd",
   "metadata": {},
   "source": [
    "# Dictionary"
   ]
  },
  {
   "cell_type": "raw",
   "id": "42d96195-731a-4f6d-af0a-8874fe0fb6b8",
   "metadata": {},
   "source": [
    "Dictionary\n",
    "Dictionary is a mutable data type in Python.\n",
    "A python dictionary is a collection of key and value pairs separated by a colon (:) & enclosed in curly braces {}.\n",
    "Keys must be unique in a dictionary, duplicate values are allowed."
   ]
  },
  {
   "cell_type": "code",
   "execution_count": 1,
   "id": "c21c71b9-df1c-4fa7-b4ba-0b92366ca007",
   "metadata": {},
   "outputs": [
    {
     "data": {
      "text/plain": [
       "{}"
      ]
     },
     "execution_count": 1,
     "metadata": {},
     "output_type": "execute_result"
    }
   ],
   "source": [
    "mydict = dict() # empty dictionary\n",
    "mydict"
   ]
  },
  {
   "cell_type": "code",
   "execution_count": 2,
   "id": "e98373ee-7b8b-4034-8912-f7182c650b69",
   "metadata": {},
   "outputs": [
    {
     "data": {
      "text/plain": [
       "{}"
      ]
     },
     "execution_count": 2,
     "metadata": {},
     "output_type": "execute_result"
    }
   ],
   "source": [
    "mydict = {} # empty dictionary\n",
    "mydict"
   ]
  },
  {
   "cell_type": "code",
   "execution_count": 3,
   "id": "2fd7cb7f-875f-4de0-99c6-79bfcca03e4a",
   "metadata": {},
   "outputs": [
    {
     "data": {
      "text/plain": [
       "{1: 'one', 2: 'two', 3: 'three'}"
      ]
     },
     "execution_count": 3,
     "metadata": {},
     "output_type": "execute_result"
    }
   ],
   "source": [
    "mydict = {1:'one' , 2:'two' , 3:'three'} # dictionary with integer keys\n",
    "mydict"
   ]
  },
  {
   "cell_type": "code",
   "execution_count": 4,
   "id": "b6bda9ef-a5a9-4ecd-82a0-ee92790a2e97",
   "metadata": {},
   "outputs": [
    {
     "data": {
      "text/plain": [
       "{1: 'one', 2: 'two', 3: 'three'}"
      ]
     },
     "execution_count": 4,
     "metadata": {},
     "output_type": "execute_result"
    }
   ],
   "source": [
    "mydict = dict({1:'one' , 2:'two' , 3:'three'}) # Create dictionary using dict()\n",
    "mydict"
   ]
  },
  {
   "cell_type": "code",
   "execution_count": 5,
   "id": "8bd53112-16ba-48c0-a982-5fddbac88550",
   "metadata": {},
   "outputs": [
    {
     "data": {
      "text/plain": [
       "{'A': 'one', 'B': 'two', 'C': 'three'}"
      ]
     },
     "execution_count": 5,
     "metadata": {},
     "output_type": "execute_result"
    }
   ],
   "source": [
    "mydict = {'A':'one' , 'B':'two' , 'C':'three'} # dictionary with character keys\n",
    "mydict"
   ]
  },
  {
   "cell_type": "code",
   "execution_count": 6,
   "id": "8c0acf75-abb0-455f-a56f-07ecd9bde47e",
   "metadata": {},
   "outputs": [
    {
     "data": {
      "text/plain": [
       "{1: 'one', 'A': 'two', 3: 'three'}"
      ]
     },
     "execution_count": 6,
     "metadata": {},
     "output_type": "execute_result"
    }
   ],
   "source": [
    "mydict = {1:'one' , 'A':'two' , 3:'three'} # dictionary with mixed keys\n",
    "mydict"
   ]
  },
  {
   "cell_type": "code",
   "execution_count": 7,
   "id": "7e4f9859-9a92-4045-9475-bfff71d616fd",
   "metadata": {},
   "outputs": [
    {
     "data": {
      "text/plain": [
       "dict_keys([1, 'A', 3])"
      ]
     },
     "execution_count": 7,
     "metadata": {},
     "output_type": "execute_result"
    }
   ],
   "source": [
    "mydict.keys() # Return Dictionary Keys using keys() method"
   ]
  },
  {
   "cell_type": "code",
   "execution_count": 8,
   "id": "08597e9c-fc27-4493-a2b7-b41a0e75b366",
   "metadata": {},
   "outputs": [
    {
     "data": {
      "text/plain": [
       "dict_values(['one', 'two', 'three'])"
      ]
     },
     "execution_count": 8,
     "metadata": {},
     "output_type": "execute_result"
    }
   ],
   "source": [
    "mydict.values() # Return Dictionary Values using values() method"
   ]
  },
  {
   "cell_type": "code",
   "execution_count": 9,
   "id": "d0b0d81f-6c1d-4199-8b49-6dd8570c0f7d",
   "metadata": {},
   "outputs": [
    {
     "data": {
      "text/plain": [
       "dict_items([(1, 'one'), ('A', 'two'), (3, 'three')])"
      ]
     },
     "execution_count": 9,
     "metadata": {},
     "output_type": "execute_result"
    }
   ],
   "source": [
    "mydict.items() # Access each key-value pair within a dictionary"
   ]
  },
  {
   "cell_type": "code",
   "execution_count": 10,
   "id": "92debb5b-272f-44d0-9c9d-74de3a1c3c64",
   "metadata": {},
   "outputs": [
    {
     "data": {
      "text/plain": [
       "{1: 'one', 2: 'two', 'A': ['asif', 'john', 'Maria']}"
      ]
     },
     "execution_count": 10,
     "metadata": {},
     "output_type": "execute_result"
    }
   ],
   "source": [
    "mydict = {1:'one' , 2:'two' , 'A':['asif' , 'john' , 'Maria']} # dictionary with\n",
    "mydict"
   ]
  },
  {
   "cell_type": "code",
   "execution_count": 13,
   "id": "0ae95f16-9046-45f0-85c5-fc91502600af",
   "metadata": {},
   "outputs": [
    {
     "data": {
      "text/plain": [
       "{1: 'one', 2: 'two', 'A': ['asif', 'john', 'Maria'], 'B': ('Bat', 'ca')}"
      ]
     },
     "execution_count": 13,
     "metadata": {},
     "output_type": "execute_result"
    }
   ],
   "source": [
    "mydict = {1:'one' , 2:'two' , 'A':['asif' , 'john' , 'Maria'], 'B':('Bat' , 'ca')}\n",
    "mydict"
   ]
  },
  {
   "cell_type": "code",
   "execution_count": 14,
   "id": "0b274356-0223-4a1a-b443-6d652e1fa8e5",
   "metadata": {},
   "outputs": [
    {
     "data": {
      "text/plain": [
       "{1: 'one', 2: 'two', 'A': {'Name': 'asif', 'Age': 20}, 'B': ('Bat', 'ca')}"
      ]
     },
     "execution_count": 14,
     "metadata": {},
     "output_type": "execute_result"
    }
   ],
   "source": [
    "mydict = {1:'one' , 2:'two' , 'A':{'Name':'asif' , 'Age' :20}, 'B':('Bat' , 'ca')}\n",
    "mydict"
   ]
  },
  {
   "cell_type": "code",
   "execution_count": 15,
   "id": "47c0008f-e9ed-4d6e-b683-0c17505e1535",
   "metadata": {},
   "outputs": [
    {
     "data": {
      "text/plain": [
       "{'a': None, 'b': None, 'c': None, 'd': None}"
      ]
     },
     "execution_count": 15,
     "metadata": {},
     "output_type": "execute_result"
    }
   ],
   "source": [
    "keys = {'a' , 'b' , 'c' , 'd'}\n",
    "mydict3 = dict.fromkeys(keys) # Create a dictionary from a sequence of keys\n",
    "mydict3"
   ]
  },
  {
   "cell_type": "code",
   "execution_count": 17,
   "id": "4d9d0171-246d-4d6e-a453-dbf29dd7c055",
   "metadata": {},
   "outputs": [
    {
     "data": {
      "text/plain": [
       "{'a': 10, 'b': 10, 'c': 10, 'd': 10}"
      ]
     },
     "execution_count": 17,
     "metadata": {},
     "output_type": "execute_result"
    }
   ],
   "source": [
    "keys = {'a' , 'b' , 'c' , 'd'} \n",
    "value = 10\n",
    "mydict3 = dict.fromkeys(keys , value) # Create a dictionary from a sequence of\n",
    "mydict3"
   ]
  },
  {
   "cell_type": "code",
   "execution_count": 18,
   "id": "52712c25-df5e-4471-b9f7-3554fd954221",
   "metadata": {},
   "outputs": [
    {
     "data": {
      "text/plain": [
       "{'a': [10, 20, 30], 'b': [10, 20, 30], 'c': [10, 20, 30], 'd': [10, 20, 30]}"
      ]
     },
     "execution_count": 18,
     "metadata": {},
     "output_type": "execute_result"
    }
   ],
   "source": [
    "keys = {'a' , 'b' , 'c' , 'd'}\n",
    "value = [10,20,30]\n",
    "mydict3 = dict.fromkeys(keys , value) # Create a dictionary from a sequence of\n",
    "mydict3"
   ]
  },
  {
   "cell_type": "code",
   "execution_count": 19,
   "id": "e46dff92-5b97-443d-98d1-f0723fba3960",
   "metadata": {},
   "outputs": [
    {
     "data": {
      "text/plain": [
       "{'a': [10, 20, 30, 40],\n",
       " 'b': [10, 20, 30, 40],\n",
       " 'c': [10, 20, 30, 40],\n",
       " 'd': [10, 20, 30, 40]}"
      ]
     },
     "execution_count": 19,
     "metadata": {},
     "output_type": "execute_result"
    }
   ],
   "source": [
    "value.append(40) \n",
    "mydict3"
   ]
  },
  {
   "cell_type": "markdown",
   "id": "540b0ac6-d952-40e1-a977-faa6ce586bfa",
   "metadata": {},
   "source": [
    "# Accessing Items"
   ]
  },
  {
   "cell_type": "code",
   "execution_count": 20,
   "id": "d568eabf-82f7-4acf-95c5-87878896f748",
   "metadata": {},
   "outputs": [
    {
     "data": {
      "text/plain": [
       "{1: 'one', 2: 'two', 3: 'three', 4: 'four'}"
      ]
     },
     "execution_count": 20,
     "metadata": {},
     "output_type": "execute_result"
    }
   ],
   "source": [
    "mydict = {1:'one' , 2:'two' , 3:'three' , 4:'four'}\n",
    "mydict"
   ]
  },
  {
   "cell_type": "code",
   "execution_count": 21,
   "id": "1a118356-72d1-4eac-ab65-055106b91645",
   "metadata": {},
   "outputs": [
    {
     "data": {
      "text/plain": [
       "'one'"
      ]
     },
     "execution_count": 21,
     "metadata": {},
     "output_type": "execute_result"
    }
   ],
   "source": [
    "mydict[1] # Access item using key"
   ]
  },
  {
   "cell_type": "code",
   "execution_count": 22,
   "id": "3f9f5bcc-5a5e-489e-8360-9d5c219fb6ab",
   "metadata": {},
   "outputs": [
    {
     "data": {
      "text/plain": [
       "'one'"
      ]
     },
     "execution_count": 22,
     "metadata": {},
     "output_type": "execute_result"
    }
   ],
   "source": [
    "mydict.get(1) # Access item using get() method"
   ]
  },
  {
   "cell_type": "code",
   "execution_count": 23,
   "id": "0f6ef0c9-1a97-45ae-a50e-08871fecab3c",
   "metadata": {},
   "outputs": [
    {
     "data": {
      "text/plain": [
       "{'Name': 'Asif', 'ID': 74123, 'DOB': 1991, 'job': 'Analyst'}"
      ]
     },
     "execution_count": 23,
     "metadata": {},
     "output_type": "execute_result"
    }
   ],
   "source": [
    "mydict1 = {'Name':'Asif' , 'ID': 74123 , 'DOB': 1991 , 'job' :'Analyst'} \n",
    "mydict1"
   ]
  },
  {
   "cell_type": "code",
   "execution_count": 24,
   "id": "174fcc6d-4c9c-432d-8b6b-4bce02056f54",
   "metadata": {},
   "outputs": [
    {
     "data": {
      "text/plain": [
       "'Asif'"
      ]
     },
     "execution_count": 24,
     "metadata": {},
     "output_type": "execute_result"
    }
   ],
   "source": [
    "mydict1['Name'] # Access item using key"
   ]
  },
  {
   "cell_type": "code",
   "execution_count": 25,
   "id": "94791533-1053-4e2f-97ba-965029c9ac76",
   "metadata": {},
   "outputs": [
    {
     "data": {
      "text/plain": [
       "'Analyst'"
      ]
     },
     "execution_count": 25,
     "metadata": {},
     "output_type": "execute_result"
    }
   ],
   "source": [
    "mydict1.get('job') # Access item using get() method"
   ]
  },
  {
   "cell_type": "markdown",
   "id": "02f649ae-23b5-478a-b593-5a483a7c87ce",
   "metadata": {},
   "source": [
    "# Add, Remove & Change Items"
   ]
  },
  {
   "cell_type": "code",
   "execution_count": 26,
   "id": "f7389af9-b6a6-4cb7-9b60-4ed349b2bd97",
   "metadata": {},
   "outputs": [
    {
     "data": {
      "text/plain": [
       "{'Name': 'Asif', 'ID': 12345, 'DOB': 1991, 'Address': 'Hilsinki'}"
      ]
     },
     "execution_count": 26,
     "metadata": {},
     "output_type": "execute_result"
    }
   ],
   "source": [
    "mydict1 = {'Name':'Asif' , 'ID': 12345 , 'DOB': 1991 , 'Address' : 'Hilsinki'} \n",
    "mydict1"
   ]
  },
  {
   "cell_type": "code",
   "execution_count": 27,
   "id": "49f81485-d8e9-478f-9af3-543c8c19d6ec",
   "metadata": {},
   "outputs": [
    {
     "data": {
      "text/plain": [
       "{'Name': 'Asif', 'ID': 12345, 'DOB': 1992, 'Address': 'Delhi'}"
      ]
     },
     "execution_count": 27,
     "metadata": {},
     "output_type": "execute_result"
    }
   ],
   "source": [
    "mydict1['DOB'] = 1992 # Changing Dictionary Items\n",
    "mydict1['Address'] = 'Delhi'\n",
    "mydict1"
   ]
  },
  {
   "cell_type": "code",
   "execution_count": 28,
   "id": "b3b90e7a-212e-4bc3-b854-ae3376b8e8f8",
   "metadata": {},
   "outputs": [
    {
     "data": {
      "text/plain": [
       "{'Name': 'Asif', 'ID': 12345, 'DOB': 1995, 'Address': 'Delhi'}"
      ]
     },
     "execution_count": 28,
     "metadata": {},
     "output_type": "execute_result"
    }
   ],
   "source": [
    "dict1 = {'DOB':1995}\n",
    "mydict1.update(dict1) \n",
    "mydict1"
   ]
  },
  {
   "cell_type": "code",
   "execution_count": 29,
   "id": "e78931af-e710-4f7e-ac8d-bf315936da0f",
   "metadata": {},
   "outputs": [
    {
     "data": {
      "text/plain": [
       "{'Name': 'Asif',\n",
       " 'ID': 12345,\n",
       " 'DOB': 1995,\n",
       " 'Address': 'Delhi',\n",
       " 'Job': 'Analyst'}"
      ]
     },
     "execution_count": 29,
     "metadata": {},
     "output_type": "execute_result"
    }
   ],
   "source": [
    "mydict1['Job'] = 'Analyst' # Adding items in the dictionary\n",
    "mydict1"
   ]
  },
  {
   "cell_type": "code",
   "execution_count": 30,
   "id": "b654c6ef-01b5-419f-8864-c0e66fb2cc33",
   "metadata": {},
   "outputs": [
    {
     "data": {
      "text/plain": [
       "{'Name': 'Asif', 'ID': 12345, 'DOB': 1995, 'Address': 'Delhi'}"
      ]
     },
     "execution_count": 30,
     "metadata": {},
     "output_type": "execute_result"
    }
   ],
   "source": [
    "mydict1.pop('Job') # Removing items in the dictionary using Pop method\n",
    "mydict1"
   ]
  },
  {
   "cell_type": "code",
   "execution_count": 31,
   "id": "4800b021-5bbb-4740-90fc-21b7eb141af6",
   "metadata": {},
   "outputs": [
    {
     "data": {
      "text/plain": [
       "('Address', 'Delhi')"
      ]
     },
     "execution_count": 31,
     "metadata": {},
     "output_type": "execute_result"
    }
   ],
   "source": [
    "mydict1.popitem() # A random item is removed"
   ]
  },
  {
   "cell_type": "code",
   "execution_count": 32,
   "id": "bf55c385-312d-4438-89c8-d6ee0465de80",
   "metadata": {},
   "outputs": [
    {
     "data": {
      "text/plain": [
       "{'Name': 'Asif', 'ID': 12345, 'DOB': 1995}"
      ]
     },
     "execution_count": 32,
     "metadata": {},
     "output_type": "execute_result"
    }
   ],
   "source": [
    "mydict1"
   ]
  },
  {
   "cell_type": "code",
   "execution_count": 33,
   "id": "876d314e-9181-4d8f-b4a3-f29d35bea5c6",
   "metadata": {},
   "outputs": [
    {
     "data": {
      "text/plain": [
       "{'Name': 'Asif', 'DOB': 1995}"
      ]
     },
     "execution_count": 33,
     "metadata": {},
     "output_type": "execute_result"
    }
   ],
   "source": [
    "del[mydict1['ID']] # Removing item using del method\n",
    "mydict1"
   ]
  },
  {
   "cell_type": "code",
   "execution_count": 34,
   "id": "e8d46cfb-8d96-4476-9c69-1f853976a62e",
   "metadata": {},
   "outputs": [
    {
     "data": {
      "text/plain": [
       "{}"
      ]
     },
     "execution_count": 34,
     "metadata": {},
     "output_type": "execute_result"
    }
   ],
   "source": [
    "mydict1.clear() # Delete all items of the dictionary using clear method\n",
    "mydict1"
   ]
  },
  {
   "cell_type": "code",
   "execution_count": 35,
   "id": "ad0d48ce-d27d-4385-b5ac-2758437db192",
   "metadata": {},
   "outputs": [
    {
     "ename": "NameError",
     "evalue": "name 'mydict1' is not defined",
     "output_type": "error",
     "traceback": [
      "\u001b[1;31m---------------------------------------------------------------------------\u001b[0m",
      "\u001b[1;31mNameError\u001b[0m                                 Traceback (most recent call last)",
      "Cell \u001b[1;32mIn[35], line 2\u001b[0m\n\u001b[0;32m      1\u001b[0m \u001b[38;5;28;01mdel\u001b[39;00m mydict1 \u001b[38;5;66;03m# Delete the dictionary object\u001b[39;00m\n\u001b[1;32m----> 2\u001b[0m \u001b[43mmydict1\u001b[49m\n",
      "\u001b[1;31mNameError\u001b[0m: name 'mydict1' is not defined"
     ]
    }
   ],
   "source": [
    "del mydict1 # Delete the dictionary object\n",
    "mydict1"
   ]
  },
  {
   "cell_type": "markdown",
   "id": "9b3387ec-8a96-4b6b-af9e-7228d5fae074",
   "metadata": {},
   "source": [
    "# Copy Dictionary"
   ]
  },
  {
   "cell_type": "code",
   "execution_count": 36,
   "id": "8e9b842f-bf61-4ed7-86e9-62f0c0ccdb1b",
   "metadata": {},
   "outputs": [
    {
     "data": {
      "text/plain": [
       "{'Name': 'Asif', 'ID': 12345, 'DOB': 1991, 'Address': 'Hilsinki'}"
      ]
     },
     "execution_count": 36,
     "metadata": {},
     "output_type": "execute_result"
    }
   ],
   "source": [
    "mydict = {'Name':'Asif' , 'ID': 12345 , 'DOB': 1991 , 'Address' : 'Hilsinki'}\n",
    "mydict"
   ]
  },
  {
   "cell_type": "code",
   "execution_count": 37,
   "id": "bfe6d1e4-148c-47dc-ab09-3b8c9e430b79",
   "metadata": {},
   "outputs": [],
   "source": [
    "mydict1 = mydict # Create a new reference \"mydict1\""
   ]
  },
  {
   "cell_type": "code",
   "execution_count": 38,
   "id": "74a372b7-e8a8-48fd-9703-514c5400019d",
   "metadata": {},
   "outputs": [
    {
     "data": {
      "text/plain": [
       "(2196057901888, 2196057901888)"
      ]
     },
     "execution_count": 38,
     "metadata": {},
     "output_type": "execute_result"
    }
   ],
   "source": [
    "id(mydict) , id(mydict1) # The address of both mydict & mydict1 will be the same"
   ]
  },
  {
   "cell_type": "code",
   "execution_count": 39,
   "id": "e4bba084-07b0-44c8-a930-f04dd33ae292",
   "metadata": {},
   "outputs": [],
   "source": [
    "mydict2 = mydict.copy() # Create a copy of the dictionary"
   ]
  },
  {
   "cell_type": "code",
   "execution_count": 40,
   "id": "56d4eb09-0fbc-4157-a074-9b02710c11b6",
   "metadata": {},
   "outputs": [
    {
     "data": {
      "text/plain": [
       "2196057946752"
      ]
     },
     "execution_count": 40,
     "metadata": {},
     "output_type": "execute_result"
    }
   ],
   "source": [
    "id(mydict2) # The address of mydict2 will be different from mydict because mydic"
   ]
  },
  {
   "cell_type": "code",
   "execution_count": 41,
   "id": "29580ab5-c5a1-40ac-8fb2-a27fa2cb8154",
   "metadata": {},
   "outputs": [],
   "source": [
    "mydict['Address'] = 'Mumbai'"
   ]
  },
  {
   "cell_type": "code",
   "execution_count": 42,
   "id": "3ebeed1c-0afe-49aa-b801-9867b6e8c3b4",
   "metadata": {},
   "outputs": [
    {
     "data": {
      "text/plain": [
       "{'Name': 'Asif', 'ID': 12345, 'DOB': 1991, 'Address': 'Mumbai'}"
      ]
     },
     "execution_count": 42,
     "metadata": {},
     "output_type": "execute_result"
    }
   ],
   "source": [
    "mydict"
   ]
  },
  {
   "cell_type": "code",
   "execution_count": 43,
   "id": "c0ec9ad0-7b8b-4652-8d1f-0cac05acba1a",
   "metadata": {},
   "outputs": [
    {
     "data": {
      "text/plain": [
       "{'Name': 'Asif', 'ID': 12345, 'DOB': 1991, 'Address': 'Mumbai'}"
      ]
     },
     "execution_count": 43,
     "metadata": {},
     "output_type": "execute_result"
    }
   ],
   "source": [
    "mydict1 # mydict1 will be also impacted as it is pointing to the same dictionary"
   ]
  },
  {
   "cell_type": "code",
   "execution_count": 44,
   "id": "56cefd3d-ed11-460c-a3f4-898987354e3a",
   "metadata": {},
   "outputs": [
    {
     "data": {
      "text/plain": [
       "{'Name': 'Asif', 'ID': 12345, 'DOB': 1991, 'Address': 'Hilsinki'}"
      ]
     },
     "execution_count": 44,
     "metadata": {},
     "output_type": "execute_result"
    }
   ],
   "source": [
    "mydict2 # Copy of list won't be impacted due to the changes made in the original"
   ]
  },
  {
   "cell_type": "markdown",
   "id": "97babf22-4da3-4fea-ae1b-14ce9d3bc373",
   "metadata": {},
   "source": [
    "# Loop through a Dictionary"
   ]
  },
  {
   "cell_type": "code",
   "execution_count": 45,
   "id": "14615f2d-4d7b-42ab-90f5-9833315e9925",
   "metadata": {},
   "outputs": [
    {
     "data": {
      "text/plain": [
       "{'Name': 'Asif', 'ID': 12345, 'DOB': 1991, 'Address': 'Hilsinki'}"
      ]
     },
     "execution_count": 45,
     "metadata": {},
     "output_type": "execute_result"
    }
   ],
   "source": [
    "mydict1 = {'Name':'Asif' , 'ID': 12345 , 'DOB': 1991 , 'Address' : 'Hilsinki'}\n",
    "mydict1"
   ]
  },
  {
   "cell_type": "code",
   "execution_count": 46,
   "id": "0303a17c-7f88-45bb-a5ee-c8572e18f8a4",
   "metadata": {},
   "outputs": [
    {
     "name": "stdout",
     "output_type": "stream",
     "text": [
      "Name : Asif\n",
      "ID : 12345\n",
      "DOB : 1991\n",
      "Address : Hilsinki\n"
     ]
    }
   ],
   "source": [
    "for i in mydict1:\n",
    "      print(i , ':' , mydict1[i]) # Key & value pair"
   ]
  },
  {
   "cell_type": "code",
   "execution_count": 47,
   "id": "7979dbbd-df76-4807-8cdd-510eb6bcbef9",
   "metadata": {},
   "outputs": [
    {
     "name": "stdout",
     "output_type": "stream",
     "text": [
      "Asif\n",
      "12345\n",
      "1991\n",
      "Hilsinki\n"
     ]
    }
   ],
   "source": [
    "for i in mydict1:\n",
    "      print(mydict1[i]) # Dictionary items"
   ]
  },
  {
   "cell_type": "markdown",
   "id": "3857a5fe-7d2b-4060-b12f-da6b279c1d53",
   "metadata": {},
   "source": [
    "# Dictionary Membership"
   ]
  },
  {
   "cell_type": "code",
   "execution_count": 48,
   "id": "432fc91e-a410-4c3a-a581-df7f8b78cad1",
   "metadata": {},
   "outputs": [
    {
     "data": {
      "text/plain": [
       "{'Name': 'Asif', 'ID': 12345, 'DOB': 1991, 'Job': 'Analyst'}"
      ]
     },
     "execution_count": 48,
     "metadata": {},
     "output_type": "execute_result"
    }
   ],
   "source": [
    "mydict1 = {'Name':'Asif' , 'ID': 12345 , 'DOB': 1991 , 'Job': 'Analyst'} \n",
    "mydict1"
   ]
  },
  {
   "cell_type": "code",
   "execution_count": 49,
   "id": "ab205c5e-3795-4a85-b691-66429ae5aa3e",
   "metadata": {},
   "outputs": [
    {
     "data": {
      "text/plain": [
       "True"
      ]
     },
     "execution_count": 49,
     "metadata": {},
     "output_type": "execute_result"
    }
   ],
   "source": [
    "'Name' in mydict1 # Test if a key is in a dictionary or not."
   ]
  },
  {
   "cell_type": "code",
   "execution_count": 50,
   "id": "ef78f500-b323-40d3-9004-03aabc6071b3",
   "metadata": {},
   "outputs": [
    {
     "data": {
      "text/plain": [
       "False"
      ]
     },
     "execution_count": 50,
     "metadata": {},
     "output_type": "execute_result"
    }
   ],
   "source": [
    "'Asif' in mydict1 # Membership test can be only done for keys."
   ]
  },
  {
   "cell_type": "code",
   "execution_count": 51,
   "id": "0bbd002b-ea54-4b43-94bc-84ab5743ee47",
   "metadata": {},
   "outputs": [
    {
     "data": {
      "text/plain": [
       "True"
      ]
     },
     "execution_count": 51,
     "metadata": {},
     "output_type": "execute_result"
    }
   ],
   "source": [
    "'ID' in mydict1"
   ]
  },
  {
   "cell_type": "code",
   "execution_count": 52,
   "id": "4d9937bf-e4b7-4138-a56f-1557806f15e2",
   "metadata": {},
   "outputs": [
    {
     "data": {
      "text/plain": [
       "False"
      ]
     },
     "execution_count": 52,
     "metadata": {},
     "output_type": "execute_result"
    }
   ],
   "source": [
    "'Address' in mydict1"
   ]
  },
  {
   "cell_type": "markdown",
   "id": "bcaed248-0436-4e01-a85a-8fd474b4361c",
   "metadata": {},
   "source": [
    "# All / Any"
   ]
  },
  {
   "cell_type": "raw",
   "id": "bcbf90ee-0135-4eb5-b56a-df9cdf4652b3",
   "metadata": {},
   "source": [
    "The all() method returns:\n",
    "    True - If all all keys of the dictionary are true\n",
    "    False - If any key of the dictionary is false\n",
    "The any() function returns True if any key of the dictionary is True. If not, any() returns False."
   ]
  },
  {
   "cell_type": "code",
   "execution_count": 53,
   "id": "31d5820c-f819-40af-be12-6404955bb391",
   "metadata": {},
   "outputs": [
    {
     "data": {
      "text/plain": [
       "{'Name': 'Asif', 'ID': 12345, 'DOB': 1991, 'Job': 'Analyst'}"
      ]
     },
     "execution_count": 53,
     "metadata": {},
     "output_type": "execute_result"
    }
   ],
   "source": [
    "mydict1 = {'Name':'Asif' , 'ID': 12345 , 'DOB': 1991 , 'Job': 'Analyst'} \n",
    "mydict1"
   ]
  },
  {
   "cell_type": "code",
   "execution_count": 54,
   "id": "ff7e39b7-4f81-4e0a-a3c3-4e7feb6625ae",
   "metadata": {},
   "outputs": [
    {
     "data": {
      "text/plain": [
       "True"
      ]
     },
     "execution_count": 54,
     "metadata": {},
     "output_type": "execute_result"
    }
   ],
   "source": [
    "all(mydict1) # Will Return false as one value is false (Value 0)"
   ]
  }
 ],
 "metadata": {
  "kernelspec": {
   "display_name": "Python 3 (ipykernel)",
   "language": "python",
   "name": "python3"
  },
  "language_info": {
   "codemirror_mode": {
    "name": "ipython",
    "version": 3
   },
   "file_extension": ".py",
   "mimetype": "text/x-python",
   "name": "python",
   "nbconvert_exporter": "python",
   "pygments_lexer": "ipython3",
   "version": "3.12.4"
  }
 },
 "nbformat": 4,
 "nbformat_minor": 5
}
