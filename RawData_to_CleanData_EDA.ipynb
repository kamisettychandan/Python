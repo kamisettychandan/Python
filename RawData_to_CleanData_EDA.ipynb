{
 "cells": [
  {
   "cell_type": "markdown",
   "id": "9535c6ab-113f-482b-87a7-6f1d882893bf",
   "metadata": {},
   "source": [
    "# 20th May 2025"
   ]
  },
  {
   "cell_type": "code",
   "execution_count": 1,
   "id": "8946eeff-30cf-45bb-99a9-67ab6f044878",
   "metadata": {},
   "outputs": [],
   "source": [
    "import pandas as pd"
   ]
  },
  {
   "cell_type": "code",
   "execution_count": 2,
   "id": "1cc9b604-2ef0-478c-b3f6-d5d9bb0f6105",
   "metadata": {},
   "outputs": [
    {
     "data": {
      "text/plain": [
       "'2.1.2'"
      ]
     },
     "execution_count": 2,
     "metadata": {},
     "output_type": "execute_result"
    }
   ],
   "source": [
    "pd.__version__"
   ]
  },
  {
   "cell_type": "code",
   "execution_count": 3,
   "id": "7871cba6-8393-475b-bc87-d946ad0fb46f",
   "metadata": {},
   "outputs": [
    {
     "name": "stdout",
     "output_type": "stream",
     "text": [
      "Defaulting to user installation because normal site-packages is not writeable\n",
      "Requirement already satisfied: openpyxl in c:\\users\\windows10 pro\\appdata\\roaming\\python\\python312\\site-packages (3.1.5)\n",
      "Requirement already satisfied: et-xmlfile in c:\\programdata\\anaconda3\\lib\\site-packages (from openpyxl) (1.1.0)\n",
      "Note: you may need to restart the kernel to use updated packages.\n"
     ]
    }
   ],
   "source": [
    "pip install --upgrade openpyxl"
   ]
  },
  {
   "cell_type": "code",
   "execution_count": 4,
   "id": "56d43b7d-e494-46c2-bab0-5a617008f281",
   "metadata": {},
   "outputs": [],
   "source": [
    "emp = pd.read_excel(r\"C:\\Users\\Windows10 Pro\\Downloads\\DataScience_AI\\2025\\May2025\\20May2025\\Rawdata.xlsx\")"
   ]
  },
  {
   "cell_type": "code",
   "execution_count": 5,
   "id": "7e7dbb67-5e5b-4f53-9aad-52bb7e6736c7",
   "metadata": {},
   "outputs": [
    {
     "data": {
      "text/html": [
       "<div>\n",
       "<style scoped>\n",
       "    .dataframe tbody tr th:only-of-type {\n",
       "        vertical-align: middle;\n",
       "    }\n",
       "\n",
       "    .dataframe tbody tr th {\n",
       "        vertical-align: top;\n",
       "    }\n",
       "\n",
       "    .dataframe thead th {\n",
       "        text-align: right;\n",
       "    }\n",
       "</style>\n",
       "<table border=\"1\" class=\"dataframe\">\n",
       "  <thead>\n",
       "    <tr style=\"text-align: right;\">\n",
       "      <th></th>\n",
       "      <th>Name</th>\n",
       "      <th>Domain</th>\n",
       "      <th>Age</th>\n",
       "      <th>Location</th>\n",
       "      <th>Salary</th>\n",
       "      <th>Exp</th>\n",
       "    </tr>\n",
       "  </thead>\n",
       "  <tbody>\n",
       "    <tr>\n",
       "      <th>0</th>\n",
       "      <td>Mike</td>\n",
       "      <td>Datascience#$</td>\n",
       "      <td>34 years</td>\n",
       "      <td>Mumbai</td>\n",
       "      <td>5^00#0</td>\n",
       "      <td>2+</td>\n",
       "    </tr>\n",
       "    <tr>\n",
       "      <th>1</th>\n",
       "      <td>Teddy^</td>\n",
       "      <td>Testing</td>\n",
       "      <td>45' yr</td>\n",
       "      <td>Bangalore</td>\n",
       "      <td>10%%000</td>\n",
       "      <td>&lt;3</td>\n",
       "    </tr>\n",
       "    <tr>\n",
       "      <th>2</th>\n",
       "      <td>Uma#r</td>\n",
       "      <td>Dataanalyst^^#</td>\n",
       "      <td>NaN</td>\n",
       "      <td>NaN</td>\n",
       "      <td>1$5%000</td>\n",
       "      <td>4&gt; yrs</td>\n",
       "    </tr>\n",
       "    <tr>\n",
       "      <th>3</th>\n",
       "      <td>Jane</td>\n",
       "      <td>Ana^^lytics</td>\n",
       "      <td>NaN</td>\n",
       "      <td>Hyderbad</td>\n",
       "      <td>2000^0</td>\n",
       "      <td>NaN</td>\n",
       "    </tr>\n",
       "    <tr>\n",
       "      <th>4</th>\n",
       "      <td>Uttam*</td>\n",
       "      <td>Statistics</td>\n",
       "      <td>67-yr</td>\n",
       "      <td>NaN</td>\n",
       "      <td>30000-</td>\n",
       "      <td>5+ year</td>\n",
       "    </tr>\n",
       "    <tr>\n",
       "      <th>5</th>\n",
       "      <td>Kim</td>\n",
       "      <td>NLP</td>\n",
       "      <td>55yr</td>\n",
       "      <td>Delhi</td>\n",
       "      <td>6000^$0</td>\n",
       "      <td>10+</td>\n",
       "    </tr>\n",
       "  </tbody>\n",
       "</table>\n",
       "</div>"
      ],
      "text/plain": [
       "     Name          Domain       Age   Location   Salary      Exp\n",
       "0    Mike   Datascience#$  34 years     Mumbai   5^00#0       2+\n",
       "1  Teddy^         Testing    45' yr  Bangalore  10%%000       <3\n",
       "2   Uma#r  Dataanalyst^^#       NaN        NaN  1$5%000   4> yrs\n",
       "3    Jane     Ana^^lytics       NaN   Hyderbad   2000^0      NaN\n",
       "4  Uttam*      Statistics     67-yr        NaN   30000-  5+ year\n",
       "5     Kim             NLP      55yr      Delhi  6000^$0      10+"
      ]
     },
     "execution_count": 5,
     "metadata": {},
     "output_type": "execute_result"
    }
   ],
   "source": [
    "emp"
   ]
  },
  {
   "cell_type": "code",
   "execution_count": 6,
   "id": "9b97d2b5-d72d-446b-af83-1f81764b59d5",
   "metadata": {},
   "outputs": [
    {
     "data": {
      "text/plain": [
       "2039297417792"
      ]
     },
     "execution_count": 6,
     "metadata": {},
     "output_type": "execute_result"
    }
   ],
   "source": [
    "id(emp)"
   ]
  },
  {
   "cell_type": "code",
   "execution_count": 7,
   "id": "75c50389-1888-4305-b1e6-72e20e3a9bcb",
   "metadata": {},
   "outputs": [
    {
     "data": {
      "text/plain": [
       "(6, 6)"
      ]
     },
     "execution_count": 7,
     "metadata": {},
     "output_type": "execute_result"
    }
   ],
   "source": [
    "emp.shape"
   ]
  },
  {
   "cell_type": "code",
   "execution_count": 8,
   "id": "c68eba7c-5cc5-450b-b365-59ae8f3b3496",
   "metadata": {},
   "outputs": [
    {
     "data": {
      "text/plain": [
       "Name        object\n",
       "Domain      object\n",
       "Age         object\n",
       "Location    object\n",
       "Salary      object\n",
       "Exp         object\n",
       "dtype: object"
      ]
     },
     "execution_count": 8,
     "metadata": {},
     "output_type": "execute_result"
    }
   ],
   "source": [
    "emp.dtypes"
   ]
  },
  {
   "cell_type": "code",
   "execution_count": 9,
   "id": "43fee372-fe9f-48b7-963d-b0c925d35208",
   "metadata": {},
   "outputs": [
    {
     "name": "stdout",
     "output_type": "stream",
     "text": [
      "<class 'pandas.core.frame.DataFrame'>\n",
      "RangeIndex: 6 entries, 0 to 5\n",
      "Data columns (total 6 columns):\n",
      " #   Column    Non-Null Count  Dtype \n",
      "---  ------    --------------  ----- \n",
      " 0   Name      6 non-null      object\n",
      " 1   Domain    6 non-null      object\n",
      " 2   Age       4 non-null      object\n",
      " 3   Location  4 non-null      object\n",
      " 4   Salary    6 non-null      object\n",
      " 5   Exp       5 non-null      object\n",
      "dtypes: object(6)\n",
      "memory usage: 420.0+ bytes\n"
     ]
    }
   ],
   "source": [
    "emp.info()"
   ]
  },
  {
   "cell_type": "code",
   "execution_count": 10,
   "id": "088c9861-e023-489c-941a-6042bbcd1ff6",
   "metadata": {},
   "outputs": [
    {
     "data": {
      "text/html": [
       "<div>\n",
       "<style scoped>\n",
       "    .dataframe tbody tr th:only-of-type {\n",
       "        vertical-align: middle;\n",
       "    }\n",
       "\n",
       "    .dataframe tbody tr th {\n",
       "        vertical-align: top;\n",
       "    }\n",
       "\n",
       "    .dataframe thead th {\n",
       "        text-align: right;\n",
       "    }\n",
       "</style>\n",
       "<table border=\"1\" class=\"dataframe\">\n",
       "  <thead>\n",
       "    <tr style=\"text-align: right;\">\n",
       "      <th></th>\n",
       "      <th>Name</th>\n",
       "      <th>Domain</th>\n",
       "      <th>Age</th>\n",
       "      <th>Location</th>\n",
       "      <th>Salary</th>\n",
       "      <th>Exp</th>\n",
       "    </tr>\n",
       "  </thead>\n",
       "  <tbody>\n",
       "    <tr>\n",
       "      <th>0</th>\n",
       "      <td>Mike</td>\n",
       "      <td>Datascience#$</td>\n",
       "      <td>34 years</td>\n",
       "      <td>Mumbai</td>\n",
       "      <td>5^00#0</td>\n",
       "      <td>2+</td>\n",
       "    </tr>\n",
       "    <tr>\n",
       "      <th>1</th>\n",
       "      <td>Teddy^</td>\n",
       "      <td>Testing</td>\n",
       "      <td>45' yr</td>\n",
       "      <td>Bangalore</td>\n",
       "      <td>10%%000</td>\n",
       "      <td>&lt;3</td>\n",
       "    </tr>\n",
       "    <tr>\n",
       "      <th>2</th>\n",
       "      <td>Uma#r</td>\n",
       "      <td>Dataanalyst^^#</td>\n",
       "      <td>NaN</td>\n",
       "      <td>NaN</td>\n",
       "      <td>1$5%000</td>\n",
       "      <td>4&gt; yrs</td>\n",
       "    </tr>\n",
       "    <tr>\n",
       "      <th>3</th>\n",
       "      <td>Jane</td>\n",
       "      <td>Ana^^lytics</td>\n",
       "      <td>NaN</td>\n",
       "      <td>Hyderbad</td>\n",
       "      <td>2000^0</td>\n",
       "      <td>NaN</td>\n",
       "    </tr>\n",
       "    <tr>\n",
       "      <th>4</th>\n",
       "      <td>Uttam*</td>\n",
       "      <td>Statistics</td>\n",
       "      <td>67-yr</td>\n",
       "      <td>NaN</td>\n",
       "      <td>30000-</td>\n",
       "      <td>5+ year</td>\n",
       "    </tr>\n",
       "  </tbody>\n",
       "</table>\n",
       "</div>"
      ],
      "text/plain": [
       "     Name          Domain       Age   Location   Salary      Exp\n",
       "0    Mike   Datascience#$  34 years     Mumbai   5^00#0       2+\n",
       "1  Teddy^         Testing    45' yr  Bangalore  10%%000       <3\n",
       "2   Uma#r  Dataanalyst^^#       NaN        NaN  1$5%000   4> yrs\n",
       "3    Jane     Ana^^lytics       NaN   Hyderbad   2000^0      NaN\n",
       "4  Uttam*      Statistics     67-yr        NaN   30000-  5+ year"
      ]
     },
     "execution_count": 10,
     "metadata": {},
     "output_type": "execute_result"
    }
   ],
   "source": [
    "emp.head()"
   ]
  },
  {
   "cell_type": "code",
   "execution_count": 11,
   "id": "b21209a1-00bf-4c88-9752-02a38abb080f",
   "metadata": {},
   "outputs": [
    {
     "data": {
      "text/html": [
       "<div>\n",
       "<style scoped>\n",
       "    .dataframe tbody tr th:only-of-type {\n",
       "        vertical-align: middle;\n",
       "    }\n",
       "\n",
       "    .dataframe tbody tr th {\n",
       "        vertical-align: top;\n",
       "    }\n",
       "\n",
       "    .dataframe thead th {\n",
       "        text-align: right;\n",
       "    }\n",
       "</style>\n",
       "<table border=\"1\" class=\"dataframe\">\n",
       "  <thead>\n",
       "    <tr style=\"text-align: right;\">\n",
       "      <th></th>\n",
       "      <th>Name</th>\n",
       "      <th>Domain</th>\n",
       "      <th>Age</th>\n",
       "      <th>Location</th>\n",
       "      <th>Salary</th>\n",
       "      <th>Exp</th>\n",
       "    </tr>\n",
       "  </thead>\n",
       "  <tbody>\n",
       "    <tr>\n",
       "      <th>0</th>\n",
       "      <td>False</td>\n",
       "      <td>False</td>\n",
       "      <td>False</td>\n",
       "      <td>False</td>\n",
       "      <td>False</td>\n",
       "      <td>False</td>\n",
       "    </tr>\n",
       "    <tr>\n",
       "      <th>1</th>\n",
       "      <td>False</td>\n",
       "      <td>False</td>\n",
       "      <td>False</td>\n",
       "      <td>False</td>\n",
       "      <td>False</td>\n",
       "      <td>False</td>\n",
       "    </tr>\n",
       "    <tr>\n",
       "      <th>2</th>\n",
       "      <td>False</td>\n",
       "      <td>False</td>\n",
       "      <td>True</td>\n",
       "      <td>True</td>\n",
       "      <td>False</td>\n",
       "      <td>False</td>\n",
       "    </tr>\n",
       "    <tr>\n",
       "      <th>3</th>\n",
       "      <td>False</td>\n",
       "      <td>False</td>\n",
       "      <td>True</td>\n",
       "      <td>False</td>\n",
       "      <td>False</td>\n",
       "      <td>True</td>\n",
       "    </tr>\n",
       "    <tr>\n",
       "      <th>4</th>\n",
       "      <td>False</td>\n",
       "      <td>False</td>\n",
       "      <td>False</td>\n",
       "      <td>True</td>\n",
       "      <td>False</td>\n",
       "      <td>False</td>\n",
       "    </tr>\n",
       "    <tr>\n",
       "      <th>5</th>\n",
       "      <td>False</td>\n",
       "      <td>False</td>\n",
       "      <td>False</td>\n",
       "      <td>False</td>\n",
       "      <td>False</td>\n",
       "      <td>False</td>\n",
       "    </tr>\n",
       "  </tbody>\n",
       "</table>\n",
       "</div>"
      ],
      "text/plain": [
       "    Name  Domain    Age  Location  Salary    Exp\n",
       "0  False   False  False     False   False  False\n",
       "1  False   False  False     False   False  False\n",
       "2  False   False   True      True   False  False\n",
       "3  False   False   True     False   False   True\n",
       "4  False   False  False      True   False  False\n",
       "5  False   False  False     False   False  False"
      ]
     },
     "execution_count": 11,
     "metadata": {},
     "output_type": "execute_result"
    }
   ],
   "source": [
    "emp.isnull()   # True means missing values, False means non-missing values"
   ]
  },
  {
   "cell_type": "code",
   "execution_count": 12,
   "id": "c3f96a1e-3d67-4581-8bd3-b77dcd382cf9",
   "metadata": {},
   "outputs": [
    {
     "data": {
      "text/plain": [
       "Name        0\n",
       "Domain      0\n",
       "Age         2\n",
       "Location    2\n",
       "Salary      0\n",
       "Exp         1\n",
       "dtype: int64"
      ]
     },
     "execution_count": 12,
     "metadata": {},
     "output_type": "execute_result"
    }
   ],
   "source": [
    "emp.isnull().sum()"
   ]
  },
  {
   "cell_type": "code",
   "execution_count": 13,
   "id": "02a459de-f842-4ad6-ac11-1ec20de015e9",
   "metadata": {},
   "outputs": [
    {
     "data": {
      "text/html": [
       "<div>\n",
       "<style scoped>\n",
       "    .dataframe tbody tr th:only-of-type {\n",
       "        vertical-align: middle;\n",
       "    }\n",
       "\n",
       "    .dataframe tbody tr th {\n",
       "        vertical-align: top;\n",
       "    }\n",
       "\n",
       "    .dataframe thead th {\n",
       "        text-align: right;\n",
       "    }\n",
       "</style>\n",
       "<table border=\"1\" class=\"dataframe\">\n",
       "  <thead>\n",
       "    <tr style=\"text-align: right;\">\n",
       "      <th></th>\n",
       "      <th>Name</th>\n",
       "      <th>Domain</th>\n",
       "      <th>Age</th>\n",
       "      <th>Location</th>\n",
       "      <th>Salary</th>\n",
       "      <th>Exp</th>\n",
       "    </tr>\n",
       "  </thead>\n",
       "  <tbody>\n",
       "    <tr>\n",
       "      <th>0</th>\n",
       "      <td>False</td>\n",
       "      <td>False</td>\n",
       "      <td>False</td>\n",
       "      <td>False</td>\n",
       "      <td>False</td>\n",
       "      <td>False</td>\n",
       "    </tr>\n",
       "    <tr>\n",
       "      <th>1</th>\n",
       "      <td>False</td>\n",
       "      <td>False</td>\n",
       "      <td>False</td>\n",
       "      <td>False</td>\n",
       "      <td>False</td>\n",
       "      <td>False</td>\n",
       "    </tr>\n",
       "    <tr>\n",
       "      <th>2</th>\n",
       "      <td>False</td>\n",
       "      <td>False</td>\n",
       "      <td>True</td>\n",
       "      <td>True</td>\n",
       "      <td>False</td>\n",
       "      <td>False</td>\n",
       "    </tr>\n",
       "    <tr>\n",
       "      <th>3</th>\n",
       "      <td>False</td>\n",
       "      <td>False</td>\n",
       "      <td>True</td>\n",
       "      <td>False</td>\n",
       "      <td>False</td>\n",
       "      <td>True</td>\n",
       "    </tr>\n",
       "    <tr>\n",
       "      <th>4</th>\n",
       "      <td>False</td>\n",
       "      <td>False</td>\n",
       "      <td>False</td>\n",
       "      <td>True</td>\n",
       "      <td>False</td>\n",
       "      <td>False</td>\n",
       "    </tr>\n",
       "    <tr>\n",
       "      <th>5</th>\n",
       "      <td>False</td>\n",
       "      <td>False</td>\n",
       "      <td>False</td>\n",
       "      <td>False</td>\n",
       "      <td>False</td>\n",
       "      <td>False</td>\n",
       "    </tr>\n",
       "  </tbody>\n",
       "</table>\n",
       "</div>"
      ],
      "text/plain": [
       "    Name  Domain    Age  Location  Salary    Exp\n",
       "0  False   False  False     False   False  False\n",
       "1  False   False  False     False   False  False\n",
       "2  False   False   True      True   False  False\n",
       "3  False   False   True     False   False   True\n",
       "4  False   False  False      True   False  False\n",
       "5  False   False  False     False   False  False"
      ]
     },
     "execution_count": 13,
     "metadata": {},
     "output_type": "execute_result"
    }
   ],
   "source": [
    "emp.isna()   # True means missing values"
   ]
  },
  {
   "cell_type": "code",
   "execution_count": 14,
   "id": "687379ca-b456-41c5-b8c8-9e323877ac90",
   "metadata": {},
   "outputs": [
    {
     "data": {
      "text/plain": [
       "Index(['Name', 'Domain', 'Age', 'Location', 'Salary', 'Exp'], dtype='object')"
      ]
     },
     "execution_count": 14,
     "metadata": {},
     "output_type": "execute_result"
    }
   ],
   "source": [
    "emp.columns"
   ]
  },
  {
   "cell_type": "markdown",
   "id": "13455442-206d-461b-9e0f-f03ad10cde97",
   "metadata": {},
   "source": [
    "# Data Cleaning or Data Cleansing"
   ]
  },
  {
   "cell_type": "code",
   "execution_count": 15,
   "id": "c17ae4bf-2d0a-4f68-a048-cfb1c023dbb0",
   "metadata": {},
   "outputs": [
    {
     "data": {
      "text/html": [
       "<div>\n",
       "<style scoped>\n",
       "    .dataframe tbody tr th:only-of-type {\n",
       "        vertical-align: middle;\n",
       "    }\n",
       "\n",
       "    .dataframe tbody tr th {\n",
       "        vertical-align: top;\n",
       "    }\n",
       "\n",
       "    .dataframe thead th {\n",
       "        text-align: right;\n",
       "    }\n",
       "</style>\n",
       "<table border=\"1\" class=\"dataframe\">\n",
       "  <thead>\n",
       "    <tr style=\"text-align: right;\">\n",
       "      <th></th>\n",
       "      <th>Name</th>\n",
       "      <th>Domain</th>\n",
       "      <th>Age</th>\n",
       "      <th>Location</th>\n",
       "      <th>Salary</th>\n",
       "      <th>Exp</th>\n",
       "    </tr>\n",
       "  </thead>\n",
       "  <tbody>\n",
       "    <tr>\n",
       "      <th>0</th>\n",
       "      <td>Mike</td>\n",
       "      <td>Datascience#$</td>\n",
       "      <td>34 years</td>\n",
       "      <td>Mumbai</td>\n",
       "      <td>5^00#0</td>\n",
       "      <td>2+</td>\n",
       "    </tr>\n",
       "    <tr>\n",
       "      <th>1</th>\n",
       "      <td>Teddy^</td>\n",
       "      <td>Testing</td>\n",
       "      <td>45' yr</td>\n",
       "      <td>Bangalore</td>\n",
       "      <td>10%%000</td>\n",
       "      <td>&lt;3</td>\n",
       "    </tr>\n",
       "    <tr>\n",
       "      <th>2</th>\n",
       "      <td>Uma#r</td>\n",
       "      <td>Dataanalyst^^#</td>\n",
       "      <td>NaN</td>\n",
       "      <td>NaN</td>\n",
       "      <td>1$5%000</td>\n",
       "      <td>4&gt; yrs</td>\n",
       "    </tr>\n",
       "    <tr>\n",
       "      <th>3</th>\n",
       "      <td>Jane</td>\n",
       "      <td>Ana^^lytics</td>\n",
       "      <td>NaN</td>\n",
       "      <td>Hyderbad</td>\n",
       "      <td>2000^0</td>\n",
       "      <td>NaN</td>\n",
       "    </tr>\n",
       "    <tr>\n",
       "      <th>4</th>\n",
       "      <td>Uttam*</td>\n",
       "      <td>Statistics</td>\n",
       "      <td>67-yr</td>\n",
       "      <td>NaN</td>\n",
       "      <td>30000-</td>\n",
       "      <td>5+ year</td>\n",
       "    </tr>\n",
       "    <tr>\n",
       "      <th>5</th>\n",
       "      <td>Kim</td>\n",
       "      <td>NLP</td>\n",
       "      <td>55yr</td>\n",
       "      <td>Delhi</td>\n",
       "      <td>6000^$0</td>\n",
       "      <td>10+</td>\n",
       "    </tr>\n",
       "  </tbody>\n",
       "</table>\n",
       "</div>"
      ],
      "text/plain": [
       "     Name          Domain       Age   Location   Salary      Exp\n",
       "0    Mike   Datascience#$  34 years     Mumbai   5^00#0       2+\n",
       "1  Teddy^         Testing    45' yr  Bangalore  10%%000       <3\n",
       "2   Uma#r  Dataanalyst^^#       NaN        NaN  1$5%000   4> yrs\n",
       "3    Jane     Ana^^lytics       NaN   Hyderbad   2000^0      NaN\n",
       "4  Uttam*      Statistics     67-yr        NaN   30000-  5+ year\n",
       "5     Kim             NLP      55yr      Delhi  6000^$0      10+"
      ]
     },
     "execution_count": 15,
     "metadata": {},
     "output_type": "execute_result"
    }
   ],
   "source": [
    "emp"
   ]
  },
  {
   "cell_type": "code",
   "execution_count": 16,
   "id": "bb21ca54-6dfa-4c25-a573-8b2298f9d0b0",
   "metadata": {},
   "outputs": [
    {
     "data": {
      "text/plain": [
       "0      Mike\n",
       "1    Teddy^\n",
       "2     Uma#r\n",
       "3      Jane\n",
       "4    Uttam*\n",
       "5       Kim\n",
       "Name: Name, dtype: object"
      ]
     },
     "execution_count": 16,
     "metadata": {},
     "output_type": "execute_result"
    }
   ],
   "source": [
    "emp['Name']"
   ]
  },
  {
   "cell_type": "code",
   "execution_count": 17,
   "id": "38972e08-f499-4c77-9c85-6daaf9cfce56",
   "metadata": {},
   "outputs": [],
   "source": [
    "emp['Name'] = emp['Name'].str.replace(r'\\W', '', regex=True)   # non word character"
   ]
  },
  {
   "cell_type": "code",
   "execution_count": 18,
   "id": "3bab79e0-c209-464a-942c-9b1691b809c1",
   "metadata": {},
   "outputs": [
    {
     "data": {
      "text/plain": [
       "0     Mike\n",
       "1    Teddy\n",
       "2     Umar\n",
       "3     Jane\n",
       "4    Uttam\n",
       "5      Kim\n",
       "Name: Name, dtype: object"
      ]
     },
     "execution_count": 18,
     "metadata": {},
     "output_type": "execute_result"
    }
   ],
   "source": [
    "emp['Name']"
   ]
  },
  {
   "cell_type": "code",
   "execution_count": 19,
   "id": "6380ec79-1400-4ee1-8b92-3e1744d36019",
   "metadata": {},
   "outputs": [
    {
     "data": {
      "text/plain": [
       "0     Datascience#$\n",
       "1           Testing\n",
       "2    Dataanalyst^^#\n",
       "3       Ana^^lytics\n",
       "4        Statistics\n",
       "5               NLP\n",
       "Name: Domain, dtype: object"
      ]
     },
     "execution_count": 19,
     "metadata": {},
     "output_type": "execute_result"
    }
   ],
   "source": [
    "emp['Domain']"
   ]
  },
  {
   "cell_type": "code",
   "execution_count": 20,
   "id": "741e30b3-ad64-4b0b-aa8f-98ff49116fdd",
   "metadata": {},
   "outputs": [],
   "source": [
    "emp['Domain'] = emp['Domain'].str.replace(r'\\W', '', regex=True)   # r for raw string"
   ]
  },
  {
   "cell_type": "code",
   "execution_count": 21,
   "id": "5df6bdf8-8982-4a2a-8aaa-4ebed0a2dfcd",
   "metadata": {},
   "outputs": [
    {
     "data": {
      "text/plain": [
       "0    Datascience\n",
       "1        Testing\n",
       "2    Dataanalyst\n",
       "3      Analytics\n",
       "4     Statistics\n",
       "5            NLP\n",
       "Name: Domain, dtype: object"
      ]
     },
     "execution_count": 21,
     "metadata": {},
     "output_type": "execute_result"
    }
   ],
   "source": [
    "emp['Domain']"
   ]
  },
  {
   "cell_type": "code",
   "execution_count": 22,
   "id": "ec87ba56-2f26-4633-8333-5c8bf5dda2cb",
   "metadata": {},
   "outputs": [
    {
     "data": {
      "text/plain": [
       "0    34 years\n",
       "1      45' yr\n",
       "2         NaN\n",
       "3         NaN\n",
       "4       67-yr\n",
       "5        55yr\n",
       "Name: Age, dtype: object"
      ]
     },
     "execution_count": 22,
     "metadata": {},
     "output_type": "execute_result"
    }
   ],
   "source": [
    "emp['Age']"
   ]
  },
  {
   "cell_type": "code",
   "execution_count": 23,
   "id": "290a6e06-07c8-48f5-829d-06c518312280",
   "metadata": {},
   "outputs": [],
   "source": [
    "emp['Age'] = emp['Age'].str.replace(r'\\W', '', regex =True)"
   ]
  },
  {
   "cell_type": "code",
   "execution_count": 24,
   "id": "8f210974-a1c2-481b-b447-ea135582fff5",
   "metadata": {},
   "outputs": [
    {
     "data": {
      "text/plain": [
       "0    34years\n",
       "1       45yr\n",
       "2        NaN\n",
       "3        NaN\n",
       "4       67yr\n",
       "5       55yr\n",
       "Name: Age, dtype: object"
      ]
     },
     "execution_count": 24,
     "metadata": {},
     "output_type": "execute_result"
    }
   ],
   "source": [
    "emp['Age']"
   ]
  },
  {
   "cell_type": "code",
   "execution_count": 25,
   "id": "c0a76cb7-f506-46ea-9916-4895f19a49f4",
   "metadata": {},
   "outputs": [
    {
     "name": "stderr",
     "output_type": "stream",
     "text": [
      "<>:1: SyntaxWarning: invalid escape sequence '\\d'\n",
      "<>:1: SyntaxWarning: invalid escape sequence '\\d'\n",
      "C:\\Users\\Windows10 Pro\\AppData\\Local\\Temp\\ipykernel_16340\\1639245287.py:1: SyntaxWarning: invalid escape sequence '\\d'\n",
      "  emp['Age'] = emp['Age'].str.extract('(\\d+)')    # d means digit\n"
     ]
    }
   ],
   "source": [
    "emp['Age'] = emp['Age'].str.extract('(\\d+)')    # d means digit"
   ]
  },
  {
   "cell_type": "code",
   "execution_count": 26,
   "id": "6260f377-a6b6-46a1-adec-bc33e72be4ec",
   "metadata": {},
   "outputs": [
    {
     "data": {
      "text/plain": [
       "0     34\n",
       "1     45\n",
       "2    NaN\n",
       "3    NaN\n",
       "4     67\n",
       "5     55\n",
       "Name: Age, dtype: object"
      ]
     },
     "execution_count": 26,
     "metadata": {},
     "output_type": "execute_result"
    }
   ],
   "source": [
    "emp['Age']"
   ]
  },
  {
   "cell_type": "markdown",
   "id": "d6627ce8-7619-48ce-a92b-84d60dcb266e",
   "metadata": {},
   "source": [
    "# Regular Expression\n",
    "The expression str.replace(r'\\W','',regex=True) is used in pandas to remove all non-word characters from a string column in a DataFrame. Here's how it works:\r\n",
    "\r\n",
    "r'\\W': This is a regular expression pattern where:\r\n",
    "\r\n",
    "\\W matches any non-word character (anything other than letters, digits, or underscores).\r\n",
    "\r\n",
    "The r'' prefix makes it a raw string, ensuring that backslashes are treated literally.\r\n",
    "\r\n",
    "'': This is the replacement string, meaning all non-word characters will be replaced with an empty string (effectively removed).\r\n",
    "\r\n",
    "regex=True: This tells pandas to interpret the pattern as a regular expression rather than a literal string."
   ]
  },
  {
   "cell_type": "code",
   "execution_count": 27,
   "id": "61227ec8-3eb1-4f32-b35c-91bc76776ecd",
   "metadata": {},
   "outputs": [
    {
     "data": {
      "text/plain": [
       "0       Mumbai\n",
       "1    Bangalore\n",
       "2          NaN\n",
       "3     Hyderbad\n",
       "4          NaN\n",
       "5        Delhi\n",
       "Name: Location, dtype: object"
      ]
     },
     "execution_count": 27,
     "metadata": {},
     "output_type": "execute_result"
    }
   ],
   "source": [
    "emp['Location']"
   ]
  },
  {
   "cell_type": "code",
   "execution_count": 28,
   "id": "7e7c4bfa-f959-4841-bdb8-b9142bc573dc",
   "metadata": {},
   "outputs": [
    {
     "data": {
      "text/plain": [
       "0       Mumbai\n",
       "1    Bangalore\n",
       "2          NaN\n",
       "3     Hyderbad\n",
       "4          NaN\n",
       "5        Delhi\n",
       "Name: Location, dtype: object"
      ]
     },
     "execution_count": 28,
     "metadata": {},
     "output_type": "execute_result"
    }
   ],
   "source": [
    "emp['Location']=emp['Location'].str.replace(r'\\W','',regex=True)\n",
    "emp['Location']"
   ]
  },
  {
   "cell_type": "code",
   "execution_count": 29,
   "id": "0e7bcdc5-a278-44e8-9fc1-8b3af2848b07",
   "metadata": {},
   "outputs": [
    {
     "data": {
      "text/html": [
       "<div>\n",
       "<style scoped>\n",
       "    .dataframe tbody tr th:only-of-type {\n",
       "        vertical-align: middle;\n",
       "    }\n",
       "\n",
       "    .dataframe tbody tr th {\n",
       "        vertical-align: top;\n",
       "    }\n",
       "\n",
       "    .dataframe thead th {\n",
       "        text-align: right;\n",
       "    }\n",
       "</style>\n",
       "<table border=\"1\" class=\"dataframe\">\n",
       "  <thead>\n",
       "    <tr style=\"text-align: right;\">\n",
       "      <th></th>\n",
       "      <th>Name</th>\n",
       "      <th>Domain</th>\n",
       "      <th>Age</th>\n",
       "      <th>Location</th>\n",
       "      <th>Salary</th>\n",
       "      <th>Exp</th>\n",
       "    </tr>\n",
       "  </thead>\n",
       "  <tbody>\n",
       "    <tr>\n",
       "      <th>0</th>\n",
       "      <td>Mike</td>\n",
       "      <td>Datascience</td>\n",
       "      <td>34</td>\n",
       "      <td>Mumbai</td>\n",
       "      <td>5^00#0</td>\n",
       "      <td>2+</td>\n",
       "    </tr>\n",
       "    <tr>\n",
       "      <th>1</th>\n",
       "      <td>Teddy</td>\n",
       "      <td>Testing</td>\n",
       "      <td>45</td>\n",
       "      <td>Bangalore</td>\n",
       "      <td>10%%000</td>\n",
       "      <td>&lt;3</td>\n",
       "    </tr>\n",
       "    <tr>\n",
       "      <th>2</th>\n",
       "      <td>Umar</td>\n",
       "      <td>Dataanalyst</td>\n",
       "      <td>NaN</td>\n",
       "      <td>NaN</td>\n",
       "      <td>1$5%000</td>\n",
       "      <td>4&gt; yrs</td>\n",
       "    </tr>\n",
       "    <tr>\n",
       "      <th>3</th>\n",
       "      <td>Jane</td>\n",
       "      <td>Analytics</td>\n",
       "      <td>NaN</td>\n",
       "      <td>Hyderbad</td>\n",
       "      <td>2000^0</td>\n",
       "      <td>NaN</td>\n",
       "    </tr>\n",
       "    <tr>\n",
       "      <th>4</th>\n",
       "      <td>Uttam</td>\n",
       "      <td>Statistics</td>\n",
       "      <td>67</td>\n",
       "      <td>NaN</td>\n",
       "      <td>30000-</td>\n",
       "      <td>5+ year</td>\n",
       "    </tr>\n",
       "    <tr>\n",
       "      <th>5</th>\n",
       "      <td>Kim</td>\n",
       "      <td>NLP</td>\n",
       "      <td>55</td>\n",
       "      <td>Delhi</td>\n",
       "      <td>6000^$0</td>\n",
       "      <td>10+</td>\n",
       "    </tr>\n",
       "  </tbody>\n",
       "</table>\n",
       "</div>"
      ],
      "text/plain": [
       "    Name       Domain  Age   Location   Salary      Exp\n",
       "0   Mike  Datascience   34     Mumbai   5^00#0       2+\n",
       "1  Teddy      Testing   45  Bangalore  10%%000       <3\n",
       "2   Umar  Dataanalyst  NaN        NaN  1$5%000   4> yrs\n",
       "3   Jane    Analytics  NaN   Hyderbad   2000^0      NaN\n",
       "4  Uttam   Statistics   67        NaN   30000-  5+ year\n",
       "5    Kim          NLP   55      Delhi  6000^$0      10+"
      ]
     },
     "execution_count": 29,
     "metadata": {},
     "output_type": "execute_result"
    }
   ],
   "source": [
    "emp"
   ]
  },
  {
   "cell_type": "code",
   "execution_count": 30,
   "id": "ade8f912-4c5a-4a9d-8b54-d7fca8c1b0ff",
   "metadata": {},
   "outputs": [
    {
     "data": {
      "text/plain": [
       "0     5000\n",
       "1    10000\n",
       "2    15000\n",
       "3    20000\n",
       "4    30000\n",
       "5    60000\n",
       "Name: Salary, dtype: object"
      ]
     },
     "execution_count": 30,
     "metadata": {},
     "output_type": "execute_result"
    }
   ],
   "source": [
    "emp['Salary']=emp['Salary'].str.replace(r'\\W','',regex=True)\n",
    "emp['Salary']"
   ]
  },
  {
   "cell_type": "code",
   "execution_count": 31,
   "id": "1dfb4e36-e01d-4563-92f6-06a4c400968f",
   "metadata": {},
   "outputs": [
    {
     "name": "stderr",
     "output_type": "stream",
     "text": [
      "<>:1: SyntaxWarning: invalid escape sequence '\\d'\n",
      "<>:1: SyntaxWarning: invalid escape sequence '\\d'\n",
      "C:\\Users\\Windows10 Pro\\AppData\\Local\\Temp\\ipykernel_16340\\749592179.py:1: SyntaxWarning: invalid escape sequence '\\d'\n",
      "  emp['Exp']=emp['Exp'].str.extract('(\\d+)')\n"
     ]
    },
    {
     "data": {
      "text/plain": [
       "0      2\n",
       "1      3\n",
       "2      4\n",
       "3    NaN\n",
       "4      5\n",
       "5     10\n",
       "Name: Exp, dtype: object"
      ]
     },
     "execution_count": 31,
     "metadata": {},
     "output_type": "execute_result"
    }
   ],
   "source": [
    "emp['Exp']=emp['Exp'].str.extract('(\\d+)')\n",
    "# str.extract('(\\d+)') function in pandas is used to extract numeric values from a string column using regular expressions\n",
    "emp['Exp']"
   ]
  },
  {
   "cell_type": "code",
   "execution_count": 32,
   "id": "13a88ae1-d6b2-44f7-92aa-5f06db49c07b",
   "metadata": {},
   "outputs": [],
   "source": [
    "clean_data=emp.copy()"
   ]
  },
  {
   "cell_type": "code",
   "execution_count": 33,
   "id": "df24e5b5-a267-4662-9ba7-81b33f3716e3",
   "metadata": {},
   "outputs": [
    {
     "data": {
      "text/html": [
       "<div>\n",
       "<style scoped>\n",
       "    .dataframe tbody tr th:only-of-type {\n",
       "        vertical-align: middle;\n",
       "    }\n",
       "\n",
       "    .dataframe tbody tr th {\n",
       "        vertical-align: top;\n",
       "    }\n",
       "\n",
       "    .dataframe thead th {\n",
       "        text-align: right;\n",
       "    }\n",
       "</style>\n",
       "<table border=\"1\" class=\"dataframe\">\n",
       "  <thead>\n",
       "    <tr style=\"text-align: right;\">\n",
       "      <th></th>\n",
       "      <th>Name</th>\n",
       "      <th>Domain</th>\n",
       "      <th>Age</th>\n",
       "      <th>Location</th>\n",
       "      <th>Salary</th>\n",
       "      <th>Exp</th>\n",
       "    </tr>\n",
       "  </thead>\n",
       "  <tbody>\n",
       "    <tr>\n",
       "      <th>0</th>\n",
       "      <td>Mike</td>\n",
       "      <td>Datascience</td>\n",
       "      <td>34</td>\n",
       "      <td>Mumbai</td>\n",
       "      <td>5000</td>\n",
       "      <td>2</td>\n",
       "    </tr>\n",
       "    <tr>\n",
       "      <th>1</th>\n",
       "      <td>Teddy</td>\n",
       "      <td>Testing</td>\n",
       "      <td>45</td>\n",
       "      <td>Bangalore</td>\n",
       "      <td>10000</td>\n",
       "      <td>3</td>\n",
       "    </tr>\n",
       "    <tr>\n",
       "      <th>2</th>\n",
       "      <td>Umar</td>\n",
       "      <td>Dataanalyst</td>\n",
       "      <td>NaN</td>\n",
       "      <td>NaN</td>\n",
       "      <td>15000</td>\n",
       "      <td>4</td>\n",
       "    </tr>\n",
       "    <tr>\n",
       "      <th>3</th>\n",
       "      <td>Jane</td>\n",
       "      <td>Analytics</td>\n",
       "      <td>NaN</td>\n",
       "      <td>Hyderbad</td>\n",
       "      <td>20000</td>\n",
       "      <td>NaN</td>\n",
       "    </tr>\n",
       "    <tr>\n",
       "      <th>4</th>\n",
       "      <td>Uttam</td>\n",
       "      <td>Statistics</td>\n",
       "      <td>67</td>\n",
       "      <td>NaN</td>\n",
       "      <td>30000</td>\n",
       "      <td>5</td>\n",
       "    </tr>\n",
       "    <tr>\n",
       "      <th>5</th>\n",
       "      <td>Kim</td>\n",
       "      <td>NLP</td>\n",
       "      <td>55</td>\n",
       "      <td>Delhi</td>\n",
       "      <td>60000</td>\n",
       "      <td>10</td>\n",
       "    </tr>\n",
       "  </tbody>\n",
       "</table>\n",
       "</div>"
      ],
      "text/plain": [
       "    Name       Domain  Age   Location Salary  Exp\n",
       "0   Mike  Datascience   34     Mumbai   5000    2\n",
       "1  Teddy      Testing   45  Bangalore  10000    3\n",
       "2   Umar  Dataanalyst  NaN        NaN  15000    4\n",
       "3   Jane    Analytics  NaN   Hyderbad  20000  NaN\n",
       "4  Uttam   Statistics   67        NaN  30000    5\n",
       "5    Kim          NLP   55      Delhi  60000   10"
      ]
     },
     "execution_count": 33,
     "metadata": {},
     "output_type": "execute_result"
    }
   ],
   "source": [
    "clean_data"
   ]
  },
  {
   "cell_type": "markdown",
   "id": "0d9c5a98-31e4-49f0-aff1-37eb1beb255c",
   "metadata": {},
   "source": [
    "# Missing value Treatment"
   ]
  },
  {
   "cell_type": "code",
   "execution_count": 34,
   "id": "e49036e4-740d-4590-916b-c2611176491d",
   "metadata": {},
   "outputs": [
    {
     "data": {
      "text/html": [
       "<div>\n",
       "<style scoped>\n",
       "    .dataframe tbody tr th:only-of-type {\n",
       "        vertical-align: middle;\n",
       "    }\n",
       "\n",
       "    .dataframe tbody tr th {\n",
       "        vertical-align: top;\n",
       "    }\n",
       "\n",
       "    .dataframe thead th {\n",
       "        text-align: right;\n",
       "    }\n",
       "</style>\n",
       "<table border=\"1\" class=\"dataframe\">\n",
       "  <thead>\n",
       "    <tr style=\"text-align: right;\">\n",
       "      <th></th>\n",
       "      <th>Name</th>\n",
       "      <th>Domain</th>\n",
       "      <th>Age</th>\n",
       "      <th>Location</th>\n",
       "      <th>Salary</th>\n",
       "      <th>Exp</th>\n",
       "    </tr>\n",
       "  </thead>\n",
       "  <tbody>\n",
       "    <tr>\n",
       "      <th>0</th>\n",
       "      <td>Mike</td>\n",
       "      <td>Datascience</td>\n",
       "      <td>34</td>\n",
       "      <td>Mumbai</td>\n",
       "      <td>5000</td>\n",
       "      <td>2</td>\n",
       "    </tr>\n",
       "    <tr>\n",
       "      <th>1</th>\n",
       "      <td>Teddy</td>\n",
       "      <td>Testing</td>\n",
       "      <td>45</td>\n",
       "      <td>Bangalore</td>\n",
       "      <td>10000</td>\n",
       "      <td>3</td>\n",
       "    </tr>\n",
       "    <tr>\n",
       "      <th>2</th>\n",
       "      <td>Umar</td>\n",
       "      <td>Dataanalyst</td>\n",
       "      <td>NaN</td>\n",
       "      <td>NaN</td>\n",
       "      <td>15000</td>\n",
       "      <td>4</td>\n",
       "    </tr>\n",
       "    <tr>\n",
       "      <th>3</th>\n",
       "      <td>Jane</td>\n",
       "      <td>Analytics</td>\n",
       "      <td>NaN</td>\n",
       "      <td>Hyderbad</td>\n",
       "      <td>20000</td>\n",
       "      <td>NaN</td>\n",
       "    </tr>\n",
       "    <tr>\n",
       "      <th>4</th>\n",
       "      <td>Uttam</td>\n",
       "      <td>Statistics</td>\n",
       "      <td>67</td>\n",
       "      <td>NaN</td>\n",
       "      <td>30000</td>\n",
       "      <td>5</td>\n",
       "    </tr>\n",
       "    <tr>\n",
       "      <th>5</th>\n",
       "      <td>Kim</td>\n",
       "      <td>NLP</td>\n",
       "      <td>55</td>\n",
       "      <td>Delhi</td>\n",
       "      <td>60000</td>\n",
       "      <td>10</td>\n",
       "    </tr>\n",
       "  </tbody>\n",
       "</table>\n",
       "</div>"
      ],
      "text/plain": [
       "    Name       Domain  Age   Location Salary  Exp\n",
       "0   Mike  Datascience   34     Mumbai   5000    2\n",
       "1  Teddy      Testing   45  Bangalore  10000    3\n",
       "2   Umar  Dataanalyst  NaN        NaN  15000    4\n",
       "3   Jane    Analytics  NaN   Hyderbad  20000  NaN\n",
       "4  Uttam   Statistics   67        NaN  30000    5\n",
       "5    Kim          NLP   55      Delhi  60000   10"
      ]
     },
     "execution_count": 34,
     "metadata": {},
     "output_type": "execute_result"
    }
   ],
   "source": [
    "clean_data"
   ]
  },
  {
   "cell_type": "code",
   "execution_count": 35,
   "id": "a302b28c-7d9a-4413-bbc8-77a9a2ee785e",
   "metadata": {},
   "outputs": [
    {
     "name": "stdout",
     "output_type": "stream",
     "text": [
      "<class 'pandas.core.frame.DataFrame'>\n",
      "RangeIndex: 6 entries, 0 to 5\n",
      "Data columns (total 6 columns):\n",
      " #   Column    Non-Null Count  Dtype \n",
      "---  ------    --------------  ----- \n",
      " 0   Name      6 non-null      object\n",
      " 1   Domain    6 non-null      object\n",
      " 2   Age       4 non-null      object\n",
      " 3   Location  4 non-null      object\n",
      " 4   Salary    6 non-null      object\n",
      " 5   Exp       5 non-null      object\n",
      "dtypes: object(6)\n",
      "memory usage: 420.0+ bytes\n"
     ]
    }
   ],
   "source": [
    "clean_data.info()"
   ]
  },
  {
   "cell_type": "code",
   "execution_count": 36,
   "id": "df5107c6-ed21-46d6-ad72-7d170f8f45fb",
   "metadata": {},
   "outputs": [],
   "source": [
    "import numpy as np"
   ]
  },
  {
   "cell_type": "code",
   "execution_count": 37,
   "id": "811c326d-8a40-4456-b72b-bea11e61eb17",
   "metadata": {},
   "outputs": [
    {
     "data": {
      "text/html": [
       "<div>\n",
       "<style scoped>\n",
       "    .dataframe tbody tr th:only-of-type {\n",
       "        vertical-align: middle;\n",
       "    }\n",
       "\n",
       "    .dataframe tbody tr th {\n",
       "        vertical-align: top;\n",
       "    }\n",
       "\n",
       "    .dataframe thead th {\n",
       "        text-align: right;\n",
       "    }\n",
       "</style>\n",
       "<table border=\"1\" class=\"dataframe\">\n",
       "  <thead>\n",
       "    <tr style=\"text-align: right;\">\n",
       "      <th></th>\n",
       "      <th>Name</th>\n",
       "      <th>Domain</th>\n",
       "      <th>Age</th>\n",
       "      <th>Location</th>\n",
       "      <th>Salary</th>\n",
       "      <th>Exp</th>\n",
       "    </tr>\n",
       "  </thead>\n",
       "  <tbody>\n",
       "    <tr>\n",
       "      <th>0</th>\n",
       "      <td>Mike</td>\n",
       "      <td>Datascience</td>\n",
       "      <td>34</td>\n",
       "      <td>Mumbai</td>\n",
       "      <td>5000</td>\n",
       "      <td>2</td>\n",
       "    </tr>\n",
       "    <tr>\n",
       "      <th>1</th>\n",
       "      <td>Teddy</td>\n",
       "      <td>Testing</td>\n",
       "      <td>45</td>\n",
       "      <td>Bangalore</td>\n",
       "      <td>10000</td>\n",
       "      <td>3</td>\n",
       "    </tr>\n",
       "    <tr>\n",
       "      <th>2</th>\n",
       "      <td>Umar</td>\n",
       "      <td>Dataanalyst</td>\n",
       "      <td>NaN</td>\n",
       "      <td>NaN</td>\n",
       "      <td>15000</td>\n",
       "      <td>4</td>\n",
       "    </tr>\n",
       "    <tr>\n",
       "      <th>3</th>\n",
       "      <td>Jane</td>\n",
       "      <td>Analytics</td>\n",
       "      <td>NaN</td>\n",
       "      <td>Hyderbad</td>\n",
       "      <td>20000</td>\n",
       "      <td>NaN</td>\n",
       "    </tr>\n",
       "    <tr>\n",
       "      <th>4</th>\n",
       "      <td>Uttam</td>\n",
       "      <td>Statistics</td>\n",
       "      <td>67</td>\n",
       "      <td>NaN</td>\n",
       "      <td>30000</td>\n",
       "      <td>5</td>\n",
       "    </tr>\n",
       "    <tr>\n",
       "      <th>5</th>\n",
       "      <td>Kim</td>\n",
       "      <td>NLP</td>\n",
       "      <td>55</td>\n",
       "      <td>Delhi</td>\n",
       "      <td>60000</td>\n",
       "      <td>10</td>\n",
       "    </tr>\n",
       "  </tbody>\n",
       "</table>\n",
       "</div>"
      ],
      "text/plain": [
       "    Name       Domain  Age   Location Salary  Exp\n",
       "0   Mike  Datascience   34     Mumbai   5000    2\n",
       "1  Teddy      Testing   45  Bangalore  10000    3\n",
       "2   Umar  Dataanalyst  NaN        NaN  15000    4\n",
       "3   Jane    Analytics  NaN   Hyderbad  20000  NaN\n",
       "4  Uttam   Statistics   67        NaN  30000    5\n",
       "5    Kim          NLP   55      Delhi  60000   10"
      ]
     },
     "execution_count": 37,
     "metadata": {},
     "output_type": "execute_result"
    }
   ],
   "source": [
    "clean_data"
   ]
  },
  {
   "cell_type": "code",
   "execution_count": 38,
   "id": "8bb4d97c-c7aa-4489-b4dc-707a7f27b703",
   "metadata": {},
   "outputs": [
    {
     "data": {
      "text/html": [
       "<div>\n",
       "<style scoped>\n",
       "    .dataframe tbody tr th:only-of-type {\n",
       "        vertical-align: middle;\n",
       "    }\n",
       "\n",
       "    .dataframe tbody tr th {\n",
       "        vertical-align: top;\n",
       "    }\n",
       "\n",
       "    .dataframe thead th {\n",
       "        text-align: right;\n",
       "    }\n",
       "</style>\n",
       "<table border=\"1\" class=\"dataframe\">\n",
       "  <thead>\n",
       "    <tr style=\"text-align: right;\">\n",
       "      <th></th>\n",
       "      <th>Name</th>\n",
       "      <th>Domain</th>\n",
       "      <th>Age</th>\n",
       "      <th>Location</th>\n",
       "      <th>Salary</th>\n",
       "      <th>Exp</th>\n",
       "    </tr>\n",
       "  </thead>\n",
       "  <tbody>\n",
       "    <tr>\n",
       "      <th>0</th>\n",
       "      <td>Mike</td>\n",
       "      <td>Datascience</td>\n",
       "      <td>34</td>\n",
       "      <td>Mumbai</td>\n",
       "      <td>5000</td>\n",
       "      <td>2</td>\n",
       "    </tr>\n",
       "  </tbody>\n",
       "</table>\n",
       "</div>"
      ],
      "text/plain": [
       "   Name       Domain Age Location Salary Exp\n",
       "0  Mike  Datascience  34   Mumbai   5000   2"
      ]
     },
     "execution_count": 38,
     "metadata": {},
     "output_type": "execute_result"
    }
   ],
   "source": [
    "clean_data.head(1)"
   ]
  },
  {
   "cell_type": "code",
   "execution_count": 39,
   "id": "9d5c1b5e-a89c-47f7-a3d7-f05297e7f30c",
   "metadata": {},
   "outputs": [
    {
     "data": {
      "text/plain": [
       "0     34\n",
       "1     45\n",
       "2    NaN\n",
       "3    NaN\n",
       "4     67\n",
       "5     55\n",
       "Name: Age, dtype: object"
      ]
     },
     "execution_count": 39,
     "metadata": {},
     "output_type": "execute_result"
    }
   ],
   "source": [
    "clean_data['Age']"
   ]
  },
  {
   "cell_type": "markdown",
   "id": "d4abee46-a091-4d87-8321-92e90b54630e",
   "metadata": {},
   "source": [
    "# Note :- To remenber the below Concept\r\n",
    "The expression .fillna(np.mean(pd.to_numeric(clean_data['Age']))) is used in pandas to replace missing values (NaN) in the 'Age' column with the mean of the column. Here's how it works:\r\n",
    "\r\n",
    "Breakdown:\r\n",
    "\r\n",
    "pd.to_numeric(clean_data['Age']):--- Converts the 'Age' column to numeric format, ensuring all values are treated as numbers.\r\n",
    "\r\n",
    "np.mean(...): ---- Computes the mean of the numeric values in the 'Age' column.\r\n",
    "\r\n",
    ".fillna(...):--- Replaces all NaN values with the computed mean."
   ]
  },
  {
   "cell_type": "code",
   "execution_count": 40,
   "id": "dac33f6c-7c9e-4c7c-a407-e3a441614915",
   "metadata": {},
   "outputs": [],
   "source": [
    "clean_data['Age']=clean_data['Age'].fillna(np.mean(pd.to_numeric(clean_data['Age'])))"
   ]
  },
  {
   "cell_type": "code",
   "execution_count": 41,
   "id": "2e956a88-a9d0-4e33-b954-5de263f88255",
   "metadata": {},
   "outputs": [
    {
     "data": {
      "text/plain": [
       "0       34\n",
       "1       45\n",
       "2    50.25\n",
       "3    50.25\n",
       "4       67\n",
       "5       55\n",
       "Name: Age, dtype: object"
      ]
     },
     "execution_count": 41,
     "metadata": {},
     "output_type": "execute_result"
    }
   ],
   "source": [
    "clean_data['Age']"
   ]
  },
  {
   "cell_type": "code",
   "execution_count": 42,
   "id": "156c7a39-b954-4872-9e1f-3859e61c1862",
   "metadata": {},
   "outputs": [
    {
     "data": {
      "text/html": [
       "<div>\n",
       "<style scoped>\n",
       "    .dataframe tbody tr th:only-of-type {\n",
       "        vertical-align: middle;\n",
       "    }\n",
       "\n",
       "    .dataframe tbody tr th {\n",
       "        vertical-align: top;\n",
       "    }\n",
       "\n",
       "    .dataframe thead th {\n",
       "        text-align: right;\n",
       "    }\n",
       "</style>\n",
       "<table border=\"1\" class=\"dataframe\">\n",
       "  <thead>\n",
       "    <tr style=\"text-align: right;\">\n",
       "      <th></th>\n",
       "      <th>Name</th>\n",
       "      <th>Domain</th>\n",
       "      <th>Age</th>\n",
       "      <th>Location</th>\n",
       "      <th>Salary</th>\n",
       "      <th>Exp</th>\n",
       "    </tr>\n",
       "  </thead>\n",
       "  <tbody>\n",
       "    <tr>\n",
       "      <th>0</th>\n",
       "      <td>Mike</td>\n",
       "      <td>Datascience</td>\n",
       "      <td>34</td>\n",
       "      <td>Mumbai</td>\n",
       "      <td>5000</td>\n",
       "      <td>2</td>\n",
       "    </tr>\n",
       "    <tr>\n",
       "      <th>1</th>\n",
       "      <td>Teddy</td>\n",
       "      <td>Testing</td>\n",
       "      <td>45</td>\n",
       "      <td>Bangalore</td>\n",
       "      <td>10000</td>\n",
       "      <td>3</td>\n",
       "    </tr>\n",
       "    <tr>\n",
       "      <th>2</th>\n",
       "      <td>Umar</td>\n",
       "      <td>Dataanalyst</td>\n",
       "      <td>NaN</td>\n",
       "      <td>NaN</td>\n",
       "      <td>15000</td>\n",
       "      <td>4</td>\n",
       "    </tr>\n",
       "    <tr>\n",
       "      <th>3</th>\n",
       "      <td>Jane</td>\n",
       "      <td>Analytics</td>\n",
       "      <td>NaN</td>\n",
       "      <td>Hyderbad</td>\n",
       "      <td>20000</td>\n",
       "      <td>NaN</td>\n",
       "    </tr>\n",
       "    <tr>\n",
       "      <th>4</th>\n",
       "      <td>Uttam</td>\n",
       "      <td>Statistics</td>\n",
       "      <td>67</td>\n",
       "      <td>NaN</td>\n",
       "      <td>30000</td>\n",
       "      <td>5</td>\n",
       "    </tr>\n",
       "    <tr>\n",
       "      <th>5</th>\n",
       "      <td>Kim</td>\n",
       "      <td>NLP</td>\n",
       "      <td>55</td>\n",
       "      <td>Delhi</td>\n",
       "      <td>60000</td>\n",
       "      <td>10</td>\n",
       "    </tr>\n",
       "  </tbody>\n",
       "</table>\n",
       "</div>"
      ],
      "text/plain": [
       "    Name       Domain  Age   Location Salary  Exp\n",
       "0   Mike  Datascience   34     Mumbai   5000    2\n",
       "1  Teddy      Testing   45  Bangalore  10000    3\n",
       "2   Umar  Dataanalyst  NaN        NaN  15000    4\n",
       "3   Jane    Analytics  NaN   Hyderbad  20000  NaN\n",
       "4  Uttam   Statistics   67        NaN  30000    5\n",
       "5    Kim          NLP   55      Delhi  60000   10"
      ]
     },
     "execution_count": 42,
     "metadata": {},
     "output_type": "execute_result"
    }
   ],
   "source": [
    "emp"
   ]
  },
  {
   "cell_type": "code",
   "execution_count": 43,
   "id": "383c405a-b2ae-4d8a-ae2a-7f2de6c6e567",
   "metadata": {},
   "outputs": [
    {
     "data": {
      "text/html": [
       "<div>\n",
       "<style scoped>\n",
       "    .dataframe tbody tr th:only-of-type {\n",
       "        vertical-align: middle;\n",
       "    }\n",
       "\n",
       "    .dataframe tbody tr th {\n",
       "        vertical-align: top;\n",
       "    }\n",
       "\n",
       "    .dataframe thead th {\n",
       "        text-align: right;\n",
       "    }\n",
       "</style>\n",
       "<table border=\"1\" class=\"dataframe\">\n",
       "  <thead>\n",
       "    <tr style=\"text-align: right;\">\n",
       "      <th></th>\n",
       "      <th>Name</th>\n",
       "      <th>Domain</th>\n",
       "      <th>Age</th>\n",
       "      <th>Location</th>\n",
       "      <th>Salary</th>\n",
       "      <th>Exp</th>\n",
       "    </tr>\n",
       "  </thead>\n",
       "  <tbody>\n",
       "    <tr>\n",
       "      <th>0</th>\n",
       "      <td>Mike</td>\n",
       "      <td>Datascience</td>\n",
       "      <td>34</td>\n",
       "      <td>Mumbai</td>\n",
       "      <td>5000</td>\n",
       "      <td>2</td>\n",
       "    </tr>\n",
       "    <tr>\n",
       "      <th>1</th>\n",
       "      <td>Teddy</td>\n",
       "      <td>Testing</td>\n",
       "      <td>45</td>\n",
       "      <td>Bangalore</td>\n",
       "      <td>10000</td>\n",
       "      <td>3</td>\n",
       "    </tr>\n",
       "    <tr>\n",
       "      <th>2</th>\n",
       "      <td>Umar</td>\n",
       "      <td>Dataanalyst</td>\n",
       "      <td>50.25</td>\n",
       "      <td>NaN</td>\n",
       "      <td>15000</td>\n",
       "      <td>4</td>\n",
       "    </tr>\n",
       "    <tr>\n",
       "      <th>3</th>\n",
       "      <td>Jane</td>\n",
       "      <td>Analytics</td>\n",
       "      <td>50.25</td>\n",
       "      <td>Hyderbad</td>\n",
       "      <td>20000</td>\n",
       "      <td>NaN</td>\n",
       "    </tr>\n",
       "    <tr>\n",
       "      <th>4</th>\n",
       "      <td>Uttam</td>\n",
       "      <td>Statistics</td>\n",
       "      <td>67</td>\n",
       "      <td>NaN</td>\n",
       "      <td>30000</td>\n",
       "      <td>5</td>\n",
       "    </tr>\n",
       "    <tr>\n",
       "      <th>5</th>\n",
       "      <td>Kim</td>\n",
       "      <td>NLP</td>\n",
       "      <td>55</td>\n",
       "      <td>Delhi</td>\n",
       "      <td>60000</td>\n",
       "      <td>10</td>\n",
       "    </tr>\n",
       "  </tbody>\n",
       "</table>\n",
       "</div>"
      ],
      "text/plain": [
       "    Name       Domain    Age   Location Salary  Exp\n",
       "0   Mike  Datascience     34     Mumbai   5000    2\n",
       "1  Teddy      Testing     45  Bangalore  10000    3\n",
       "2   Umar  Dataanalyst  50.25        NaN  15000    4\n",
       "3   Jane    Analytics  50.25   Hyderbad  20000  NaN\n",
       "4  Uttam   Statistics     67        NaN  30000    5\n",
       "5    Kim          NLP     55      Delhi  60000   10"
      ]
     },
     "execution_count": 43,
     "metadata": {},
     "output_type": "execute_result"
    }
   ],
   "source": [
    "clean_data"
   ]
  },
  {
   "cell_type": "code",
   "execution_count": 44,
   "id": "bf1dd7b3-058d-4587-a982-8eef183faa7a",
   "metadata": {},
   "outputs": [
    {
     "data": {
      "text/plain": [
       "0      2\n",
       "1      3\n",
       "2      4\n",
       "3    NaN\n",
       "4      5\n",
       "5     10\n",
       "Name: Exp, dtype: object"
      ]
     },
     "execution_count": 44,
     "metadata": {},
     "output_type": "execute_result"
    }
   ],
   "source": [
    "clean_data['Exp']"
   ]
  },
  {
   "cell_type": "code",
   "execution_count": 45,
   "id": "e8e80dbd-d6df-45e6-b048-df98f16a0749",
   "metadata": {},
   "outputs": [],
   "source": [
    "clean_data['Exp']=clean_data['Exp'].fillna(np.mean(pd.to_numeric(clean_data['Exp'])))"
   ]
  },
  {
   "cell_type": "code",
   "execution_count": 46,
   "id": "e7135977-0ac2-488b-8ae3-557ec1c074ed",
   "metadata": {},
   "outputs": [
    {
     "data": {
      "text/plain": [
       "0      2\n",
       "1      3\n",
       "2      4\n",
       "3    4.8\n",
       "4      5\n",
       "5     10\n",
       "Name: Exp, dtype: object"
      ]
     },
     "execution_count": 46,
     "metadata": {},
     "output_type": "execute_result"
    }
   ],
   "source": [
    "clean_data['Exp']"
   ]
  },
  {
   "cell_type": "code",
   "execution_count": 47,
   "id": "4e195cbc-b330-4a09-87a4-bc55c694efb3",
   "metadata": {},
   "outputs": [
    {
     "data": {
      "text/html": [
       "<div>\n",
       "<style scoped>\n",
       "    .dataframe tbody tr th:only-of-type {\n",
       "        vertical-align: middle;\n",
       "    }\n",
       "\n",
       "    .dataframe tbody tr th {\n",
       "        vertical-align: top;\n",
       "    }\n",
       "\n",
       "    .dataframe thead th {\n",
       "        text-align: right;\n",
       "    }\n",
       "</style>\n",
       "<table border=\"1\" class=\"dataframe\">\n",
       "  <thead>\n",
       "    <tr style=\"text-align: right;\">\n",
       "      <th></th>\n",
       "      <th>Name</th>\n",
       "      <th>Domain</th>\n",
       "      <th>Age</th>\n",
       "      <th>Location</th>\n",
       "      <th>Salary</th>\n",
       "      <th>Exp</th>\n",
       "    </tr>\n",
       "  </thead>\n",
       "  <tbody>\n",
       "    <tr>\n",
       "      <th>0</th>\n",
       "      <td>Mike</td>\n",
       "      <td>Datascience</td>\n",
       "      <td>34</td>\n",
       "      <td>Mumbai</td>\n",
       "      <td>5000</td>\n",
       "      <td>2</td>\n",
       "    </tr>\n",
       "    <tr>\n",
       "      <th>1</th>\n",
       "      <td>Teddy</td>\n",
       "      <td>Testing</td>\n",
       "      <td>45</td>\n",
       "      <td>Bangalore</td>\n",
       "      <td>10000</td>\n",
       "      <td>3</td>\n",
       "    </tr>\n",
       "    <tr>\n",
       "      <th>2</th>\n",
       "      <td>Umar</td>\n",
       "      <td>Dataanalyst</td>\n",
       "      <td>NaN</td>\n",
       "      <td>NaN</td>\n",
       "      <td>15000</td>\n",
       "      <td>4</td>\n",
       "    </tr>\n",
       "    <tr>\n",
       "      <th>3</th>\n",
       "      <td>Jane</td>\n",
       "      <td>Analytics</td>\n",
       "      <td>NaN</td>\n",
       "      <td>Hyderbad</td>\n",
       "      <td>20000</td>\n",
       "      <td>NaN</td>\n",
       "    </tr>\n",
       "    <tr>\n",
       "      <th>4</th>\n",
       "      <td>Uttam</td>\n",
       "      <td>Statistics</td>\n",
       "      <td>67</td>\n",
       "      <td>NaN</td>\n",
       "      <td>30000</td>\n",
       "      <td>5</td>\n",
       "    </tr>\n",
       "    <tr>\n",
       "      <th>5</th>\n",
       "      <td>Kim</td>\n",
       "      <td>NLP</td>\n",
       "      <td>55</td>\n",
       "      <td>Delhi</td>\n",
       "      <td>60000</td>\n",
       "      <td>10</td>\n",
       "    </tr>\n",
       "  </tbody>\n",
       "</table>\n",
       "</div>"
      ],
      "text/plain": [
       "    Name       Domain  Age   Location Salary  Exp\n",
       "0   Mike  Datascience   34     Mumbai   5000    2\n",
       "1  Teddy      Testing   45  Bangalore  10000    3\n",
       "2   Umar  Dataanalyst  NaN        NaN  15000    4\n",
       "3   Jane    Analytics  NaN   Hyderbad  20000  NaN\n",
       "4  Uttam   Statistics   67        NaN  30000    5\n",
       "5    Kim          NLP   55      Delhi  60000   10"
      ]
     },
     "execution_count": 47,
     "metadata": {},
     "output_type": "execute_result"
    }
   ],
   "source": [
    "emp"
   ]
  },
  {
   "cell_type": "code",
   "execution_count": 48,
   "id": "05ef77fd-9109-42bf-b02a-93d409ca40ee",
   "metadata": {},
   "outputs": [
    {
     "data": {
      "text/html": [
       "<div>\n",
       "<style scoped>\n",
       "    .dataframe tbody tr th:only-of-type {\n",
       "        vertical-align: middle;\n",
       "    }\n",
       "\n",
       "    .dataframe tbody tr th {\n",
       "        vertical-align: top;\n",
       "    }\n",
       "\n",
       "    .dataframe thead th {\n",
       "        text-align: right;\n",
       "    }\n",
       "</style>\n",
       "<table border=\"1\" class=\"dataframe\">\n",
       "  <thead>\n",
       "    <tr style=\"text-align: right;\">\n",
       "      <th></th>\n",
       "      <th>Name</th>\n",
       "      <th>Domain</th>\n",
       "      <th>Age</th>\n",
       "      <th>Location</th>\n",
       "      <th>Salary</th>\n",
       "      <th>Exp</th>\n",
       "    </tr>\n",
       "  </thead>\n",
       "  <tbody>\n",
       "    <tr>\n",
       "      <th>0</th>\n",
       "      <td>Mike</td>\n",
       "      <td>Datascience</td>\n",
       "      <td>34</td>\n",
       "      <td>Mumbai</td>\n",
       "      <td>5000</td>\n",
       "      <td>2</td>\n",
       "    </tr>\n",
       "    <tr>\n",
       "      <th>1</th>\n",
       "      <td>Teddy</td>\n",
       "      <td>Testing</td>\n",
       "      <td>45</td>\n",
       "      <td>Bangalore</td>\n",
       "      <td>10000</td>\n",
       "      <td>3</td>\n",
       "    </tr>\n",
       "    <tr>\n",
       "      <th>2</th>\n",
       "      <td>Umar</td>\n",
       "      <td>Dataanalyst</td>\n",
       "      <td>50.25</td>\n",
       "      <td>NaN</td>\n",
       "      <td>15000</td>\n",
       "      <td>4</td>\n",
       "    </tr>\n",
       "    <tr>\n",
       "      <th>3</th>\n",
       "      <td>Jane</td>\n",
       "      <td>Analytics</td>\n",
       "      <td>50.25</td>\n",
       "      <td>Hyderbad</td>\n",
       "      <td>20000</td>\n",
       "      <td>4.8</td>\n",
       "    </tr>\n",
       "    <tr>\n",
       "      <th>4</th>\n",
       "      <td>Uttam</td>\n",
       "      <td>Statistics</td>\n",
       "      <td>67</td>\n",
       "      <td>NaN</td>\n",
       "      <td>30000</td>\n",
       "      <td>5</td>\n",
       "    </tr>\n",
       "    <tr>\n",
       "      <th>5</th>\n",
       "      <td>Kim</td>\n",
       "      <td>NLP</td>\n",
       "      <td>55</td>\n",
       "      <td>Delhi</td>\n",
       "      <td>60000</td>\n",
       "      <td>10</td>\n",
       "    </tr>\n",
       "  </tbody>\n",
       "</table>\n",
       "</div>"
      ],
      "text/plain": [
       "    Name       Domain    Age   Location Salary  Exp\n",
       "0   Mike  Datascience     34     Mumbai   5000    2\n",
       "1  Teddy      Testing     45  Bangalore  10000    3\n",
       "2   Umar  Dataanalyst  50.25        NaN  15000    4\n",
       "3   Jane    Analytics  50.25   Hyderbad  20000  4.8\n",
       "4  Uttam   Statistics     67        NaN  30000    5\n",
       "5    Kim          NLP     55      Delhi  60000   10"
      ]
     },
     "execution_count": 48,
     "metadata": {},
     "output_type": "execute_result"
    }
   ],
   "source": [
    "clean_data"
   ]
  },
  {
   "cell_type": "markdown",
   "id": "4babca3d-9627-42f5-9ed7-7a8c9173b0c9",
   "metadata": {},
   "source": [
    "# Note:-\r\n",
    "The expression .fillna(clean_data['Location'].mode()[0]) in pandas is used to replace missing values (NaN) in the 'Location' column with the most frequently occurring value (mode) of that column.\r\n",
    "\r\n",
    "Breakdown:\r\n",
    "\r\n",
    "clean_data['Location'].mode():----- Computes the mode (most common value) of the 'Location' column.\r\n",
    "\r\n",
    "[0]:----- Since .mode() returns a Series (which may contain multiple modes), [0] selects the first mode.\r\n",
    "\r\n",
    ".fillna(...):-------- Replaces all NaN values with the selected mode."
   ]
  },
  {
   "cell_type": "code",
   "execution_count": 49,
   "id": "739c927c-737a-42e7-b136-76d303ce7ef7",
   "metadata": {},
   "outputs": [
    {
     "data": {
      "text/plain": [
       "0       Mumbai\n",
       "1    Bangalore\n",
       "2    Bangalore\n",
       "3     Hyderbad\n",
       "4    Bangalore\n",
       "5        Delhi\n",
       "Name: Location, dtype: object"
      ]
     },
     "execution_count": 49,
     "metadata": {},
     "output_type": "execute_result"
    }
   ],
   "source": [
    "clean_data['Location'] = clean_data['Location'].fillna(clean_data['Location'].mode()[0])\n",
    "clean_data['Location']"
   ]
  },
  {
   "cell_type": "code",
   "execution_count": 50,
   "id": "716274bf-9fc0-448d-9deb-c1920f450784",
   "metadata": {},
   "outputs": [
    {
     "data": {
      "text/html": [
       "<div>\n",
       "<style scoped>\n",
       "    .dataframe tbody tr th:only-of-type {\n",
       "        vertical-align: middle;\n",
       "    }\n",
       "\n",
       "    .dataframe tbody tr th {\n",
       "        vertical-align: top;\n",
       "    }\n",
       "\n",
       "    .dataframe thead th {\n",
       "        text-align: right;\n",
       "    }\n",
       "</style>\n",
       "<table border=\"1\" class=\"dataframe\">\n",
       "  <thead>\n",
       "    <tr style=\"text-align: right;\">\n",
       "      <th></th>\n",
       "      <th>Name</th>\n",
       "      <th>Domain</th>\n",
       "      <th>Age</th>\n",
       "      <th>Location</th>\n",
       "      <th>Salary</th>\n",
       "      <th>Exp</th>\n",
       "    </tr>\n",
       "  </thead>\n",
       "  <tbody>\n",
       "    <tr>\n",
       "      <th>0</th>\n",
       "      <td>Mike</td>\n",
       "      <td>Datascience</td>\n",
       "      <td>34</td>\n",
       "      <td>Mumbai</td>\n",
       "      <td>5000</td>\n",
       "      <td>2</td>\n",
       "    </tr>\n",
       "    <tr>\n",
       "      <th>1</th>\n",
       "      <td>Teddy</td>\n",
       "      <td>Testing</td>\n",
       "      <td>45</td>\n",
       "      <td>Bangalore</td>\n",
       "      <td>10000</td>\n",
       "      <td>3</td>\n",
       "    </tr>\n",
       "    <tr>\n",
       "      <th>2</th>\n",
       "      <td>Umar</td>\n",
       "      <td>Dataanalyst</td>\n",
       "      <td>50.25</td>\n",
       "      <td>Bangalore</td>\n",
       "      <td>15000</td>\n",
       "      <td>4</td>\n",
       "    </tr>\n",
       "    <tr>\n",
       "      <th>3</th>\n",
       "      <td>Jane</td>\n",
       "      <td>Analytics</td>\n",
       "      <td>50.25</td>\n",
       "      <td>Hyderbad</td>\n",
       "      <td>20000</td>\n",
       "      <td>4.8</td>\n",
       "    </tr>\n",
       "    <tr>\n",
       "      <th>4</th>\n",
       "      <td>Uttam</td>\n",
       "      <td>Statistics</td>\n",
       "      <td>67</td>\n",
       "      <td>Bangalore</td>\n",
       "      <td>30000</td>\n",
       "      <td>5</td>\n",
       "    </tr>\n",
       "    <tr>\n",
       "      <th>5</th>\n",
       "      <td>Kim</td>\n",
       "      <td>NLP</td>\n",
       "      <td>55</td>\n",
       "      <td>Delhi</td>\n",
       "      <td>60000</td>\n",
       "      <td>10</td>\n",
       "    </tr>\n",
       "  </tbody>\n",
       "</table>\n",
       "</div>"
      ],
      "text/plain": [
       "    Name       Domain    Age   Location Salary  Exp\n",
       "0   Mike  Datascience     34     Mumbai   5000    2\n",
       "1  Teddy      Testing     45  Bangalore  10000    3\n",
       "2   Umar  Dataanalyst  50.25  Bangalore  15000    4\n",
       "3   Jane    Analytics  50.25   Hyderbad  20000  4.8\n",
       "4  Uttam   Statistics     67  Bangalore  30000    5\n",
       "5    Kim          NLP     55      Delhi  60000   10"
      ]
     },
     "execution_count": 50,
     "metadata": {},
     "output_type": "execute_result"
    }
   ],
   "source": [
    "clean_data"
   ]
  },
  {
   "cell_type": "markdown",
   "id": "a71be721-cf6c-4288-84d2-3a2cb0bb2461",
   "metadata": {},
   "source": [
    "# Converting the Numerical Data into Integer by using astype(int)"
   ]
  },
  {
   "cell_type": "code",
   "execution_count": 51,
   "id": "0342204c-68cb-493d-8181-51e9746b2580",
   "metadata": {},
   "outputs": [],
   "source": [
    "clean_data['Age']=clean_data['Age'].astype(int)"
   ]
  },
  {
   "cell_type": "code",
   "execution_count": 52,
   "id": "0c33857c-6b24-4936-bfc9-21ab14d5f397",
   "metadata": {},
   "outputs": [],
   "source": [
    "clean_data['Salary']=clean_data['Salary'].astype(int)"
   ]
  },
  {
   "cell_type": "code",
   "execution_count": 53,
   "id": "350e5694-d15c-46f5-8f97-fe4232af78c8",
   "metadata": {},
   "outputs": [],
   "source": [
    "clean_data['Exp']=clean_data['Exp'].astype(int)"
   ]
  },
  {
   "cell_type": "code",
   "execution_count": 54,
   "id": "5cd46908-6935-457a-b779-e3b8554b2a63",
   "metadata": {},
   "outputs": [
    {
     "data": {
      "text/html": [
       "<div>\n",
       "<style scoped>\n",
       "    .dataframe tbody tr th:only-of-type {\n",
       "        vertical-align: middle;\n",
       "    }\n",
       "\n",
       "    .dataframe tbody tr th {\n",
       "        vertical-align: top;\n",
       "    }\n",
       "\n",
       "    .dataframe thead th {\n",
       "        text-align: right;\n",
       "    }\n",
       "</style>\n",
       "<table border=\"1\" class=\"dataframe\">\n",
       "  <thead>\n",
       "    <tr style=\"text-align: right;\">\n",
       "      <th></th>\n",
       "      <th>Name</th>\n",
       "      <th>Domain</th>\n",
       "      <th>Age</th>\n",
       "      <th>Location</th>\n",
       "      <th>Salary</th>\n",
       "      <th>Exp</th>\n",
       "    </tr>\n",
       "  </thead>\n",
       "  <tbody>\n",
       "    <tr>\n",
       "      <th>0</th>\n",
       "      <td>Mike</td>\n",
       "      <td>Datascience</td>\n",
       "      <td>34</td>\n",
       "      <td>Mumbai</td>\n",
       "      <td>5000</td>\n",
       "      <td>2</td>\n",
       "    </tr>\n",
       "    <tr>\n",
       "      <th>1</th>\n",
       "      <td>Teddy</td>\n",
       "      <td>Testing</td>\n",
       "      <td>45</td>\n",
       "      <td>Bangalore</td>\n",
       "      <td>10000</td>\n",
       "      <td>3</td>\n",
       "    </tr>\n",
       "    <tr>\n",
       "      <th>2</th>\n",
       "      <td>Umar</td>\n",
       "      <td>Dataanalyst</td>\n",
       "      <td>50</td>\n",
       "      <td>Bangalore</td>\n",
       "      <td>15000</td>\n",
       "      <td>4</td>\n",
       "    </tr>\n",
       "    <tr>\n",
       "      <th>3</th>\n",
       "      <td>Jane</td>\n",
       "      <td>Analytics</td>\n",
       "      <td>50</td>\n",
       "      <td>Hyderbad</td>\n",
       "      <td>20000</td>\n",
       "      <td>4</td>\n",
       "    </tr>\n",
       "    <tr>\n",
       "      <th>4</th>\n",
       "      <td>Uttam</td>\n",
       "      <td>Statistics</td>\n",
       "      <td>67</td>\n",
       "      <td>Bangalore</td>\n",
       "      <td>30000</td>\n",
       "      <td>5</td>\n",
       "    </tr>\n",
       "    <tr>\n",
       "      <th>5</th>\n",
       "      <td>Kim</td>\n",
       "      <td>NLP</td>\n",
       "      <td>55</td>\n",
       "      <td>Delhi</td>\n",
       "      <td>60000</td>\n",
       "      <td>10</td>\n",
       "    </tr>\n",
       "  </tbody>\n",
       "</table>\n",
       "</div>"
      ],
      "text/plain": [
       "    Name       Domain  Age   Location  Salary  Exp\n",
       "0   Mike  Datascience   34     Mumbai    5000    2\n",
       "1  Teddy      Testing   45  Bangalore   10000    3\n",
       "2   Umar  Dataanalyst   50  Bangalore   15000    4\n",
       "3   Jane    Analytics   50   Hyderbad   20000    4\n",
       "4  Uttam   Statistics   67  Bangalore   30000    5\n",
       "5    Kim          NLP   55      Delhi   60000   10"
      ]
     },
     "execution_count": 54,
     "metadata": {},
     "output_type": "execute_result"
    }
   ],
   "source": [
    "clean_data"
   ]
  },
  {
   "cell_type": "code",
   "execution_count": 55,
   "id": "73ef2f70-d334-48fb-b16b-c452e20049f3",
   "metadata": {},
   "outputs": [
    {
     "name": "stdout",
     "output_type": "stream",
     "text": [
      "<class 'pandas.core.frame.DataFrame'>\n",
      "RangeIndex: 6 entries, 0 to 5\n",
      "Data columns (total 6 columns):\n",
      " #   Column    Non-Null Count  Dtype \n",
      "---  ------    --------------  ----- \n",
      " 0   Name      6 non-null      object\n",
      " 1   Domain    6 non-null      object\n",
      " 2   Age       6 non-null      int32 \n",
      " 3   Location  6 non-null      object\n",
      " 4   Salary    6 non-null      int32 \n",
      " 5   Exp       6 non-null      int32 \n",
      "dtypes: int32(3), object(3)\n",
      "memory usage: 348.0+ bytes\n"
     ]
    }
   ],
   "source": [
    "clean_data.info()"
   ]
  },
  {
   "cell_type": "code",
   "execution_count": 56,
   "id": "753b8dd2-c37e-45c5-9f5b-6a6179183f8a",
   "metadata": {},
   "outputs": [],
   "source": [
    "clean_data.to_csv('clean_data.csv') # converting the Dataset into CSV formate"
   ]
  },
  {
   "cell_type": "markdown",
   "id": "23788a4a-1519-47c3-8ed3-44d4f1e025f3",
   "metadata": {},
   "source": [
    "# Import OS\r\n",
    "The os.getcwd() ------function in Python is used to get the current working directory of your script. It returns the absolute path of the directory where your Python script is running."
   ]
  },
  {
   "cell_type": "code",
   "execution_count": 57,
   "id": "3a69eabe-9846-405f-928f-c2ba582fca9a",
   "metadata": {},
   "outputs": [
    {
     "data": {
      "text/plain": [
       "'C:\\\\Users\\\\Windows10 Pro'"
      ]
     },
     "execution_count": 57,
     "metadata": {},
     "output_type": "execute_result"
    }
   ],
   "source": [
    "import os\n",
    "os.getcwd()# Get the current Working Directory"
   ]
  },
  {
   "cell_type": "markdown",
   "id": "b02163de-6aee-4831-80ce-181f574db7a2",
   "metadata": {},
   "source": [
    "# Now We will Work with Matplotlib and Seaborn to get the better Visualization After the Data Cleaning"
   ]
  },
  {
   "cell_type": "code",
   "execution_count": 58,
   "id": "7cd0689a-1027-4e16-b7d5-3364dfc90364",
   "metadata": {},
   "outputs": [],
   "source": [
    "import matplotlib.pyplot as plt # Visualization"
   ]
  },
  {
   "cell_type": "code",
   "execution_count": 59,
   "id": "4b8fd2bd-090f-4198-a9a7-c74bf702afce",
   "metadata": {},
   "outputs": [],
   "source": [
    "import seaborn as sns # Advanced Visualization "
   ]
  },
  {
   "cell_type": "markdown",
   "id": "a8488414-e329-4414-99de-e2687cee57ad",
   "metadata": {},
   "source": [
    "# To prevent errors, import the warnings module.\r\n",
    "The warnings.filterwarnings('ignore') function in Python allows you to suppress all warnings in your code, ensuring a cleaner output."
   ]
  },
  {
   "cell_type": "code",
   "execution_count": 60,
   "id": "db7896ff-5a73-444b-a482-8607271500bf",
   "metadata": {},
   "outputs": [],
   "source": [
    "import warnings\n",
    "warnings.filterwarnings('ignore')"
   ]
  },
  {
   "cell_type": "code",
   "execution_count": 61,
   "id": "8ebebf3b-eb3a-4c82-8764-4ff20b21d125",
   "metadata": {},
   "outputs": [
    {
     "data": {
      "text/html": [
       "<div>\n",
       "<style scoped>\n",
       "    .dataframe tbody tr th:only-of-type {\n",
       "        vertical-align: middle;\n",
       "    }\n",
       "\n",
       "    .dataframe tbody tr th {\n",
       "        vertical-align: top;\n",
       "    }\n",
       "\n",
       "    .dataframe thead th {\n",
       "        text-align: right;\n",
       "    }\n",
       "</style>\n",
       "<table border=\"1\" class=\"dataframe\">\n",
       "  <thead>\n",
       "    <tr style=\"text-align: right;\">\n",
       "      <th></th>\n",
       "      <th>Name</th>\n",
       "      <th>Domain</th>\n",
       "      <th>Age</th>\n",
       "      <th>Location</th>\n",
       "      <th>Salary</th>\n",
       "      <th>Exp</th>\n",
       "    </tr>\n",
       "  </thead>\n",
       "  <tbody>\n",
       "    <tr>\n",
       "      <th>0</th>\n",
       "      <td>Mike</td>\n",
       "      <td>Datascience</td>\n",
       "      <td>34</td>\n",
       "      <td>Mumbai</td>\n",
       "      <td>5000</td>\n",
       "      <td>2</td>\n",
       "    </tr>\n",
       "    <tr>\n",
       "      <th>1</th>\n",
       "      <td>Teddy</td>\n",
       "      <td>Testing</td>\n",
       "      <td>45</td>\n",
       "      <td>Bangalore</td>\n",
       "      <td>10000</td>\n",
       "      <td>3</td>\n",
       "    </tr>\n",
       "    <tr>\n",
       "      <th>2</th>\n",
       "      <td>Umar</td>\n",
       "      <td>Dataanalyst</td>\n",
       "      <td>50</td>\n",
       "      <td>Bangalore</td>\n",
       "      <td>15000</td>\n",
       "      <td>4</td>\n",
       "    </tr>\n",
       "    <tr>\n",
       "      <th>3</th>\n",
       "      <td>Jane</td>\n",
       "      <td>Analytics</td>\n",
       "      <td>50</td>\n",
       "      <td>Hyderbad</td>\n",
       "      <td>20000</td>\n",
       "      <td>4</td>\n",
       "    </tr>\n",
       "    <tr>\n",
       "      <th>4</th>\n",
       "      <td>Uttam</td>\n",
       "      <td>Statistics</td>\n",
       "      <td>67</td>\n",
       "      <td>Bangalore</td>\n",
       "      <td>30000</td>\n",
       "      <td>5</td>\n",
       "    </tr>\n",
       "    <tr>\n",
       "      <th>5</th>\n",
       "      <td>Kim</td>\n",
       "      <td>NLP</td>\n",
       "      <td>55</td>\n",
       "      <td>Delhi</td>\n",
       "      <td>60000</td>\n",
       "      <td>10</td>\n",
       "    </tr>\n",
       "  </tbody>\n",
       "</table>\n",
       "</div>"
      ],
      "text/plain": [
       "    Name       Domain  Age   Location  Salary  Exp\n",
       "0   Mike  Datascience   34     Mumbai    5000    2\n",
       "1  Teddy      Testing   45  Bangalore   10000    3\n",
       "2   Umar  Dataanalyst   50  Bangalore   15000    4\n",
       "3   Jane    Analytics   50   Hyderbad   20000    4\n",
       "4  Uttam   Statistics   67  Bangalore   30000    5\n",
       "5    Kim          NLP   55      Delhi   60000   10"
      ]
     },
     "execution_count": 61,
     "metadata": {},
     "output_type": "execute_result"
    }
   ],
   "source": [
    "clean_data"
   ]
  },
  {
   "cell_type": "code",
   "execution_count": 62,
   "id": "16e636c4-72f0-4a10-93db-0e0df6888063",
   "metadata": {},
   "outputs": [
    {
     "data": {
      "text/plain": [
       "0     5000\n",
       "1    10000\n",
       "2    15000\n",
       "3    20000\n",
       "4    30000\n",
       "5    60000\n",
       "Name: Salary, dtype: int32"
      ]
     },
     "execution_count": 62,
     "metadata": {},
     "output_type": "execute_result"
    }
   ],
   "source": [
    "clean_data['Salary']"
   ]
  },
  {
   "cell_type": "code",
   "execution_count": 63,
   "id": "a11c7038-37c3-4aa5-b330-c203487831bf",
   "metadata": {},
   "outputs": [
    {
     "data": {
      "image/png": "[encoded data removed]",
      "text/plain": [
       "<Figure size 640x480 with 1 Axes>"
      ]
     },
     "metadata": {},
     "output_type": "display_data"
    }
   ],
   "source": [
    "vis1=sns.distplot(clean_data['Salary'])"
   ]
  },
  {
   "cell_type": "markdown",
   "id": "692d4a40-41e7-4f9d-8ec5-33ca6c13329e",
   "metadata": {},
   "source": [
    "# The plt.rcParams['figure.figsize'] = (10, 6) setting in Matplotlib is used to globally define the default figure size for plots. Here's how it works:\r\n",
    "\r\n",
    "Breakdown:\r\n",
    "\r\n",
    "plt.rcParams['figure.figsize']:--- This modifies the default figure size for all plots.\r\n",
    "\r\n",
    "(10, 6): -----Specifies the width (10 inches) and height (6 inches) of the figure."
   ]
  },
  {
   "cell_type": "code",
   "execution_count": 64,
   "id": "db8d6d1e-18d0-4df6-a923-c2411f1df49c",
   "metadata": {},
   "outputs": [],
   "source": [
    "plt.rcParams['figure.figsize']=10,6"
   ]
  },
  {
   "cell_type": "code",
   "execution_count": 65,
   "id": "9b945077-8cb8-435f-9acb-e583f791b0ec",
   "metadata": {},
   "outputs": [
    {
     "data": {
      "image/png": "[encoded data removed]",
      "text/plain": [
       "<Figure size 1000x600 with 1 Axes>"
      ]
     },
     "metadata": {},
     "output_type": "display_data"
    }
   ],
   "source": [
    "vis1=sns.distplot(clean_data['Salary'])"
   ]
  },
  {
   "cell_type": "code",
   "execution_count": 66,
   "id": "b2d324bc-7e27-47d0-895f-c91c3f0018ff",
   "metadata": {},
   "outputs": [
    {
     "data": {
      "image/png": "[encoded data removed]",
      "text/plain": [
       "<Figure size 1000x600 with 1 Axes>"
      ]
     },
     "metadata": {},
     "output_type": "display_data"
    }
   ],
   "source": [
    "vis2 = plt.hist(clean_data['Salary'])# Hist is used for plot a Histogram"
   ]
  },
  {
   "cell_type": "code",
   "execution_count": 67,
   "id": "a8e03e67-8fea-4498-b6c3-cda90c2c4b76",
   "metadata": {},
   "outputs": [
    {
     "data": {
      "image/png": "[encoded data removed]",
      "text/plain": [
       "<Figure size 1000x600 with 1 Axes>"
      ]
     },
     "metadata": {},
     "output_type": "display_data"
    }
   ],
   "source": [
    "vis3 = plt.hist(clean_data['Exp'])"
   ]
  },
  {
   "cell_type": "code",
   "execution_count": 68,
   "id": "351ec596-0aac-4d2c-bc80-bdafd2f1ca5d",
   "metadata": {},
   "outputs": [
    {
     "data": {
      "image/png": "[encoded data removed]",
      "text/plain": [
       "<Figure size 500x500 with 1 Axes>"
      ]
     },
     "metadata": {},
     "output_type": "display_data"
    }
   ],
   "source": [
    "vis4=sns.lmplot(data=clean_data,x='Exp',y='Salary')"
   ]
  },
  {
   "cell_type": "code",
   "execution_count": 69,
   "id": "3b6f05fd-89f2-4516-b06c-902616e1bcd3",
   "metadata": {},
   "outputs": [
    {
     "data": {
      "image/png": "[encoded data removed]",
      "text/plain": [
       "<Figure size 500x500 with 1 Axes>"
      ]
     },
     "metadata": {},
     "output_type": "display_data"
    }
   ],
   "source": [
    "vis5=sns.lmplot(data=clean_data,x='Exp',y='Salary',fit_reg=False)#Fit_reg will remove the Line if we put false else bydefault is true"
   ]
  },
  {
   "cell_type": "code",
   "execution_count": 70,
   "id": "c0684490-e36a-4002-bf09-df4d5977c778",
   "metadata": {},
   "outputs": [
    {
     "data": {
      "image/png": "[encoded data removed]",
      "text/plain": [
       "<Figure size 500x500 with 1 Axes>"
      ]
     },
     "metadata": {},
     "output_type": "display_data"
    }
   ],
   "source": [
    "vis6 = sns.lmplot(data=clean_data,x = 'Exp', y='Salary', fit_reg = True)"
   ]
  },
  {
   "cell_type": "code",
   "execution_count": 71,
   "id": "7ad18e35-b879-4c74-9560-16d502958189",
   "metadata": {},
   "outputs": [
    {
     "data": {
      "text/html": [
       "<div>\n",
       "<style scoped>\n",
       "    .dataframe tbody tr th:only-of-type {\n",
       "        vertical-align: middle;\n",
       "    }\n",
       "\n",
       "    .dataframe tbody tr th {\n",
       "        vertical-align: top;\n",
       "    }\n",
       "\n",
       "    .dataframe thead th {\n",
       "        text-align: right;\n",
       "    }\n",
       "</style>\n",
       "<table border=\"1\" class=\"dataframe\">\n",
       "  <thead>\n",
       "    <tr style=\"text-align: right;\">\n",
       "      <th></th>\n",
       "      <th>Name</th>\n",
       "      <th>Domain</th>\n",
       "      <th>Age</th>\n",
       "      <th>Location</th>\n",
       "      <th>Salary</th>\n",
       "      <th>Exp</th>\n",
       "    </tr>\n",
       "  </thead>\n",
       "  <tbody>\n",
       "    <tr>\n",
       "      <th>0</th>\n",
       "      <td>Mike</td>\n",
       "      <td>Datascience</td>\n",
       "      <td>34</td>\n",
       "      <td>Mumbai</td>\n",
       "      <td>5000</td>\n",
       "      <td>2</td>\n",
       "    </tr>\n",
       "    <tr>\n",
       "      <th>1</th>\n",
       "      <td>Teddy</td>\n",
       "      <td>Testing</td>\n",
       "      <td>45</td>\n",
       "      <td>Bangalore</td>\n",
       "      <td>10000</td>\n",
       "      <td>3</td>\n",
       "    </tr>\n",
       "    <tr>\n",
       "      <th>2</th>\n",
       "      <td>Umar</td>\n",
       "      <td>Dataanalyst</td>\n",
       "      <td>50</td>\n",
       "      <td>Bangalore</td>\n",
       "      <td>15000</td>\n",
       "      <td>4</td>\n",
       "    </tr>\n",
       "    <tr>\n",
       "      <th>3</th>\n",
       "      <td>Jane</td>\n",
       "      <td>Analytics</td>\n",
       "      <td>50</td>\n",
       "      <td>Hyderbad</td>\n",
       "      <td>20000</td>\n",
       "      <td>4</td>\n",
       "    </tr>\n",
       "    <tr>\n",
       "      <th>4</th>\n",
       "      <td>Uttam</td>\n",
       "      <td>Statistics</td>\n",
       "      <td>67</td>\n",
       "      <td>Bangalore</td>\n",
       "      <td>30000</td>\n",
       "      <td>5</td>\n",
       "    </tr>\n",
       "    <tr>\n",
       "      <th>5</th>\n",
       "      <td>Kim</td>\n",
       "      <td>NLP</td>\n",
       "      <td>55</td>\n",
       "      <td>Delhi</td>\n",
       "      <td>60000</td>\n",
       "      <td>10</td>\n",
       "    </tr>\n",
       "  </tbody>\n",
       "</table>\n",
       "</div>"
      ],
      "text/plain": [
       "    Name       Domain  Age   Location  Salary  Exp\n",
       "0   Mike  Datascience   34     Mumbai    5000    2\n",
       "1  Teddy      Testing   45  Bangalore   10000    3\n",
       "2   Umar  Dataanalyst   50  Bangalore   15000    4\n",
       "3   Jane    Analytics   50   Hyderbad   20000    4\n",
       "4  Uttam   Statistics   67  Bangalore   30000    5\n",
       "5    Kim          NLP   55      Delhi   60000   10"
      ]
     },
     "execution_count": 71,
     "metadata": {},
     "output_type": "execute_result"
    }
   ],
   "source": [
    "clean_data"
   ]
  },
  {
   "cell_type": "code",
   "execution_count": 72,
   "id": "546616be-725f-4bf5-9613-af0cccac2232",
   "metadata": {},
   "outputs": [
    {
     "data": {
      "text/html": [
       "<div>\n",
       "<style scoped>\n",
       "    .dataframe tbody tr th:only-of-type {\n",
       "        vertical-align: middle;\n",
       "    }\n",
       "\n",
       "    .dataframe tbody tr th {\n",
       "        vertical-align: top;\n",
       "    }\n",
       "\n",
       "    .dataframe thead th {\n",
       "        text-align: right;\n",
       "    }\n",
       "</style>\n",
       "<table border=\"1\" class=\"dataframe\">\n",
       "  <thead>\n",
       "    <tr style=\"text-align: right;\">\n",
       "      <th></th>\n",
       "      <th>Name</th>\n",
       "      <th>Domain</th>\n",
       "      <th>Age</th>\n",
       "      <th>Location</th>\n",
       "      <th>Salary</th>\n",
       "      <th>Exp</th>\n",
       "    </tr>\n",
       "  </thead>\n",
       "  <tbody>\n",
       "    <tr>\n",
       "      <th>0</th>\n",
       "      <td>Mike</td>\n",
       "      <td>Datascience</td>\n",
       "      <td>34</td>\n",
       "      <td>Mumbai</td>\n",
       "      <td>5000</td>\n",
       "      <td>2</td>\n",
       "    </tr>\n",
       "    <tr>\n",
       "      <th>1</th>\n",
       "      <td>Teddy</td>\n",
       "      <td>Testing</td>\n",
       "      <td>45</td>\n",
       "      <td>Bangalore</td>\n",
       "      <td>10000</td>\n",
       "      <td>3</td>\n",
       "    </tr>\n",
       "    <tr>\n",
       "      <th>2</th>\n",
       "      <td>Umar</td>\n",
       "      <td>Dataanalyst</td>\n",
       "      <td>50</td>\n",
       "      <td>Bangalore</td>\n",
       "      <td>15000</td>\n",
       "      <td>4</td>\n",
       "    </tr>\n",
       "    <tr>\n",
       "      <th>3</th>\n",
       "      <td>Jane</td>\n",
       "      <td>Analytics</td>\n",
       "      <td>50</td>\n",
       "      <td>Hyderbad</td>\n",
       "      <td>20000</td>\n",
       "      <td>4</td>\n",
       "    </tr>\n",
       "    <tr>\n",
       "      <th>4</th>\n",
       "      <td>Uttam</td>\n",
       "      <td>Statistics</td>\n",
       "      <td>67</td>\n",
       "      <td>Bangalore</td>\n",
       "      <td>30000</td>\n",
       "      <td>5</td>\n",
       "    </tr>\n",
       "    <tr>\n",
       "      <th>5</th>\n",
       "      <td>Kim</td>\n",
       "      <td>NLP</td>\n",
       "      <td>55</td>\n",
       "      <td>Delhi</td>\n",
       "      <td>60000</td>\n",
       "      <td>10</td>\n",
       "    </tr>\n",
       "  </tbody>\n",
       "</table>\n",
       "</div>"
      ],
      "text/plain": [
       "    Name       Domain  Age   Location  Salary  Exp\n",
       "0   Mike  Datascience   34     Mumbai    5000    2\n",
       "1  Teddy      Testing   45  Bangalore   10000    3\n",
       "2   Umar  Dataanalyst   50  Bangalore   15000    4\n",
       "3   Jane    Analytics   50   Hyderbad   20000    4\n",
       "4  Uttam   Statistics   67  Bangalore   30000    5\n",
       "5    Kim          NLP   55      Delhi   60000   10"
      ]
     },
     "execution_count": 72,
     "metadata": {},
     "output_type": "execute_result"
    }
   ],
   "source": [
    "clean_data[:]"
   ]
  },
  {
   "cell_type": "code",
   "execution_count": 73,
   "id": "f7f99909-e5e3-43f5-8b9a-db31ec124385",
   "metadata": {},
   "outputs": [
    {
     "data": {
      "text/html": [
       "<div>\n",
       "<style scoped>\n",
       "    .dataframe tbody tr th:only-of-type {\n",
       "        vertical-align: middle;\n",
       "    }\n",
       "\n",
       "    .dataframe tbody tr th {\n",
       "        vertical-align: top;\n",
       "    }\n",
       "\n",
       "    .dataframe thead th {\n",
       "        text-align: right;\n",
       "    }\n",
       "</style>\n",
       "<table border=\"1\" class=\"dataframe\">\n",
       "  <thead>\n",
       "    <tr style=\"text-align: right;\">\n",
       "      <th></th>\n",
       "      <th>Name</th>\n",
       "      <th>Domain</th>\n",
       "      <th>Age</th>\n",
       "      <th>Location</th>\n",
       "      <th>Salary</th>\n",
       "      <th>Exp</th>\n",
       "    </tr>\n",
       "  </thead>\n",
       "  <tbody>\n",
       "    <tr>\n",
       "      <th>0</th>\n",
       "      <td>Mike</td>\n",
       "      <td>Datascience</td>\n",
       "      <td>34</td>\n",
       "      <td>Mumbai</td>\n",
       "      <td>5000</td>\n",
       "      <td>2</td>\n",
       "    </tr>\n",
       "    <tr>\n",
       "      <th>1</th>\n",
       "      <td>Teddy</td>\n",
       "      <td>Testing</td>\n",
       "      <td>45</td>\n",
       "      <td>Bangalore</td>\n",
       "      <td>10000</td>\n",
       "      <td>3</td>\n",
       "    </tr>\n",
       "  </tbody>\n",
       "</table>\n",
       "</div>"
      ],
      "text/plain": [
       "    Name       Domain  Age   Location  Salary  Exp\n",
       "0   Mike  Datascience   34     Mumbai    5000    2\n",
       "1  Teddy      Testing   45  Bangalore   10000    3"
      ]
     },
     "execution_count": 73,
     "metadata": {},
     "output_type": "execute_result"
    }
   ],
   "source": [
    "clean_data[:2]"
   ]
  },
  {
   "cell_type": "code",
   "execution_count": 74,
   "id": "eaa6d307-d980-4185-afd5-f10c545d6ebc",
   "metadata": {},
   "outputs": [
    {
     "data": {
      "text/html": [
       "<div>\n",
       "<style scoped>\n",
       "    .dataframe tbody tr th:only-of-type {\n",
       "        vertical-align: middle;\n",
       "    }\n",
       "\n",
       "    .dataframe tbody tr th {\n",
       "        vertical-align: top;\n",
       "    }\n",
       "\n",
       "    .dataframe thead th {\n",
       "        text-align: right;\n",
       "    }\n",
       "</style>\n",
       "<table border=\"1\" class=\"dataframe\">\n",
       "  <thead>\n",
       "    <tr style=\"text-align: right;\">\n",
       "      <th></th>\n",
       "      <th>Name</th>\n",
       "      <th>Domain</th>\n",
       "      <th>Age</th>\n",
       "      <th>Location</th>\n",
       "      <th>Salary</th>\n",
       "      <th>Exp</th>\n",
       "    </tr>\n",
       "  </thead>\n",
       "  <tbody>\n",
       "    <tr>\n",
       "      <th>2</th>\n",
       "      <td>Umar</td>\n",
       "      <td>Dataanalyst</td>\n",
       "      <td>50</td>\n",
       "      <td>Bangalore</td>\n",
       "      <td>15000</td>\n",
       "      <td>4</td>\n",
       "    </tr>\n",
       "    <tr>\n",
       "      <th>3</th>\n",
       "      <td>Jane</td>\n",
       "      <td>Analytics</td>\n",
       "      <td>50</td>\n",
       "      <td>Hyderbad</td>\n",
       "      <td>20000</td>\n",
       "      <td>4</td>\n",
       "    </tr>\n",
       "    <tr>\n",
       "      <th>4</th>\n",
       "      <td>Uttam</td>\n",
       "      <td>Statistics</td>\n",
       "      <td>67</td>\n",
       "      <td>Bangalore</td>\n",
       "      <td>30000</td>\n",
       "      <td>5</td>\n",
       "    </tr>\n",
       "    <tr>\n",
       "      <th>5</th>\n",
       "      <td>Kim</td>\n",
       "      <td>NLP</td>\n",
       "      <td>55</td>\n",
       "      <td>Delhi</td>\n",
       "      <td>60000</td>\n",
       "      <td>10</td>\n",
       "    </tr>\n",
       "  </tbody>\n",
       "</table>\n",
       "</div>"
      ],
      "text/plain": [
       "    Name       Domain  Age   Location  Salary  Exp\n",
       "2   Umar  Dataanalyst   50  Bangalore   15000    4\n",
       "3   Jane    Analytics   50   Hyderbad   20000    4\n",
       "4  Uttam   Statistics   67  Bangalore   30000    5\n",
       "5    Kim          NLP   55      Delhi   60000   10"
      ]
     },
     "execution_count": 74,
     "metadata": {},
     "output_type": "execute_result"
    }
   ],
   "source": [
    "clean_data[2:]"
   ]
  },
  {
   "cell_type": "code",
   "execution_count": 75,
   "id": "a66048a6-28e8-4819-b845-8863849bb961",
   "metadata": {},
   "outputs": [
    {
     "data": {
      "text/html": [
       "<div>\n",
       "<style scoped>\n",
       "    .dataframe tbody tr th:only-of-type {\n",
       "        vertical-align: middle;\n",
       "    }\n",
       "\n",
       "    .dataframe tbody tr th {\n",
       "        vertical-align: top;\n",
       "    }\n",
       "\n",
       "    .dataframe thead th {\n",
       "        text-align: right;\n",
       "    }\n",
       "</style>\n",
       "<table border=\"1\" class=\"dataframe\">\n",
       "  <thead>\n",
       "    <tr style=\"text-align: right;\">\n",
       "      <th></th>\n",
       "      <th>Name</th>\n",
       "      <th>Domain</th>\n",
       "      <th>Age</th>\n",
       "      <th>Location</th>\n",
       "      <th>Salary</th>\n",
       "      <th>Exp</th>\n",
       "    </tr>\n",
       "  </thead>\n",
       "  <tbody>\n",
       "    <tr>\n",
       "      <th>0</th>\n",
       "      <td>Mike</td>\n",
       "      <td>Datascience</td>\n",
       "      <td>34</td>\n",
       "      <td>Mumbai</td>\n",
       "      <td>5000</td>\n",
       "      <td>2</td>\n",
       "    </tr>\n",
       "    <tr>\n",
       "      <th>1</th>\n",
       "      <td>Teddy</td>\n",
       "      <td>Testing</td>\n",
       "      <td>45</td>\n",
       "      <td>Bangalore</td>\n",
       "      <td>10000</td>\n",
       "      <td>3</td>\n",
       "    </tr>\n",
       "    <tr>\n",
       "      <th>2</th>\n",
       "      <td>Umar</td>\n",
       "      <td>Dataanalyst</td>\n",
       "      <td>50</td>\n",
       "      <td>Bangalore</td>\n",
       "      <td>15000</td>\n",
       "      <td>4</td>\n",
       "    </tr>\n",
       "    <tr>\n",
       "      <th>3</th>\n",
       "      <td>Jane</td>\n",
       "      <td>Analytics</td>\n",
       "      <td>50</td>\n",
       "      <td>Hyderbad</td>\n",
       "      <td>20000</td>\n",
       "      <td>4</td>\n",
       "    </tr>\n",
       "    <tr>\n",
       "      <th>4</th>\n",
       "      <td>Uttam</td>\n",
       "      <td>Statistics</td>\n",
       "      <td>67</td>\n",
       "      <td>Bangalore</td>\n",
       "      <td>30000</td>\n",
       "      <td>5</td>\n",
       "    </tr>\n",
       "    <tr>\n",
       "      <th>5</th>\n",
       "      <td>Kim</td>\n",
       "      <td>NLP</td>\n",
       "      <td>55</td>\n",
       "      <td>Delhi</td>\n",
       "      <td>60000</td>\n",
       "      <td>10</td>\n",
       "    </tr>\n",
       "  </tbody>\n",
       "</table>\n",
       "</div>"
      ],
      "text/plain": [
       "    Name       Domain  Age   Location  Salary  Exp\n",
       "0   Mike  Datascience   34     Mumbai    5000    2\n",
       "1  Teddy      Testing   45  Bangalore   10000    3\n",
       "2   Umar  Dataanalyst   50  Bangalore   15000    4\n",
       "3   Jane    Analytics   50   Hyderbad   20000    4\n",
       "4  Uttam   Statistics   67  Bangalore   30000    5\n",
       "5    Kim          NLP   55      Delhi   60000   10"
      ]
     },
     "execution_count": 75,
     "metadata": {},
     "output_type": "execute_result"
    }
   ],
   "source": [
    "clean_data[:]"
   ]
  },
  {
   "cell_type": "code",
   "execution_count": 76,
   "id": "26d91368-ee67-49c8-9de4-36da01875f5b",
   "metadata": {},
   "outputs": [
    {
     "data": {
      "text/html": [
       "<div>\n",
       "<style scoped>\n",
       "    .dataframe tbody tr th:only-of-type {\n",
       "        vertical-align: middle;\n",
       "    }\n",
       "\n",
       "    .dataframe tbody tr th {\n",
       "        vertical-align: top;\n",
       "    }\n",
       "\n",
       "    .dataframe thead th {\n",
       "        text-align: right;\n",
       "    }\n",
       "</style>\n",
       "<table border=\"1\" class=\"dataframe\">\n",
       "  <thead>\n",
       "    <tr style=\"text-align: right;\">\n",
       "      <th></th>\n",
       "      <th>Name</th>\n",
       "      <th>Domain</th>\n",
       "      <th>Age</th>\n",
       "      <th>Location</th>\n",
       "      <th>Salary</th>\n",
       "      <th>Exp</th>\n",
       "    </tr>\n",
       "  </thead>\n",
       "  <tbody>\n",
       "    <tr>\n",
       "      <th>0</th>\n",
       "      <td>Mike</td>\n",
       "      <td>Datascience</td>\n",
       "      <td>34</td>\n",
       "      <td>Mumbai</td>\n",
       "      <td>5000</td>\n",
       "      <td>2</td>\n",
       "    </tr>\n",
       "  </tbody>\n",
       "</table>\n",
       "</div>"
      ],
      "text/plain": [
       "   Name       Domain  Age Location  Salary  Exp\n",
       "0  Mike  Datascience   34   Mumbai    5000    2"
      ]
     },
     "execution_count": 76,
     "metadata": {},
     "output_type": "execute_result"
    }
   ],
   "source": [
    "clean_data[0:1]"
   ]
  },
  {
   "cell_type": "code",
   "execution_count": 77,
   "id": "4965187c-cb98-4db6-9340-0e2b113de521",
   "metadata": {},
   "outputs": [
    {
     "ename": "KeyError",
     "evalue": "(0, 3)",
     "output_type": "error",
     "traceback": [
      "\u001b[1;31m---------------------------------------------------------------------------\u001b[0m",
      "\u001b[1;31mKeyError\u001b[0m                                  Traceback (most recent call last)",
      "File \u001b[1;32m~\\AppData\\Roaming\\Python\\Python312\\site-packages\\pandas\\core\\indexes\\base.py:3790\u001b[0m, in \u001b[0;36mIndex.get_loc\u001b[1;34m(self, key)\u001b[0m\n\u001b[0;32m   3789\u001b[0m \u001b[38;5;28;01mtry\u001b[39;00m:\n\u001b[1;32m-> 3790\u001b[0m     \u001b[38;5;28;01mreturn\u001b[39;00m \u001b[38;5;28;43mself\u001b[39;49m\u001b[38;5;241;43m.\u001b[39;49m\u001b[43m_engine\u001b[49m\u001b[38;5;241;43m.\u001b[39;49m\u001b[43mget_loc\u001b[49m\u001b[43m(\u001b[49m\u001b[43mcasted_key\u001b[49m\u001b[43m)\u001b[49m\n\u001b[0;32m   3791\u001b[0m \u001b[38;5;28;01mexcept\u001b[39;00m \u001b[38;5;167;01mKeyError\u001b[39;00m \u001b[38;5;28;01mas\u001b[39;00m err:\n",
      "File \u001b[1;32mindex.pyx:152\u001b[0m, in \u001b[0;36mpandas._libs.index.IndexEngine.get_loc\u001b[1;34m()\u001b[0m\n",
      "File \u001b[1;32mindex.pyx:181\u001b[0m, in \u001b[0;36mpandas._libs.index.IndexEngine.get_loc\u001b[1;34m()\u001b[0m\n",
      "File \u001b[1;32mpandas\\_libs\\hashtable_class_helper.pxi:7080\u001b[0m, in \u001b[0;36mpandas._libs.hashtable.PyObjectHashTable.get_item\u001b[1;34m()\u001b[0m\n",
      "File \u001b[1;32mpandas\\_libs\\hashtable_class_helper.pxi:7088\u001b[0m, in \u001b[0;36mpandas._libs.hashtable.PyObjectHashTable.get_item\u001b[1;34m()\u001b[0m\n",
      "\u001b[1;31mKeyError\u001b[0m: (0, 3)",
      "\nThe above exception was the direct cause of the following exception:\n",
      "\u001b[1;31mKeyError\u001b[0m                                  Traceback (most recent call last)",
      "Cell \u001b[1;32mIn[77], line 1\u001b[0m\n\u001b[1;32m----> 1\u001b[0m \u001b[43mclean_data\u001b[49m\u001b[43m[\u001b[49m\u001b[38;5;241;43m0\u001b[39;49m\u001b[43m,\u001b[49m\u001b[38;5;241;43m3\u001b[39;49m\u001b[43m]\u001b[49m\n\u001b[0;32m      3\u001b[0m \u001b[38;5;66;03m#It looks like you're encountering a KeyError in pandas when trying to access clean_data[0,3].\u001b[39;00m\n\u001b[0;32m      4\u001b[0m \u001b[38;5;66;03m#This happens because pandas does not support indexing with a tuple like (0,3). \u001b[39;00m\n\u001b[0;32m      5\u001b[0m \u001b[38;5;66;03m#Instead, you should use .iloc[] for positional indexing.\u001b[39;00m\n",
      "File \u001b[1;32m~\\AppData\\Roaming\\Python\\Python312\\site-packages\\pandas\\core\\frame.py:3893\u001b[0m, in \u001b[0;36mDataFrame.__getitem__\u001b[1;34m(self, key)\u001b[0m\n\u001b[0;32m   3891\u001b[0m \u001b[38;5;28;01mif\u001b[39;00m \u001b[38;5;28mself\u001b[39m\u001b[38;5;241m.\u001b[39mcolumns\u001b[38;5;241m.\u001b[39mnlevels \u001b[38;5;241m>\u001b[39m \u001b[38;5;241m1\u001b[39m:\n\u001b[0;32m   3892\u001b[0m     \u001b[38;5;28;01mreturn\u001b[39;00m \u001b[38;5;28mself\u001b[39m\u001b[38;5;241m.\u001b[39m_getitem_multilevel(key)\n\u001b[1;32m-> 3893\u001b[0m indexer \u001b[38;5;241m=\u001b[39m \u001b[38;5;28;43mself\u001b[39;49m\u001b[38;5;241;43m.\u001b[39;49m\u001b[43mcolumns\u001b[49m\u001b[38;5;241;43m.\u001b[39;49m\u001b[43mget_loc\u001b[49m\u001b[43m(\u001b[49m\u001b[43mkey\u001b[49m\u001b[43m)\u001b[49m\n\u001b[0;32m   3894\u001b[0m \u001b[38;5;28;01mif\u001b[39;00m is_integer(indexer):\n\u001b[0;32m   3895\u001b[0m     indexer \u001b[38;5;241m=\u001b[39m [indexer]\n",
      "File \u001b[1;32m~\\AppData\\Roaming\\Python\\Python312\\site-packages\\pandas\\core\\indexes\\base.py:3797\u001b[0m, in \u001b[0;36mIndex.get_loc\u001b[1;34m(self, key)\u001b[0m\n\u001b[0;32m   3792\u001b[0m     \u001b[38;5;28;01mif\u001b[39;00m \u001b[38;5;28misinstance\u001b[39m(casted_key, \u001b[38;5;28mslice\u001b[39m) \u001b[38;5;129;01mor\u001b[39;00m (\n\u001b[0;32m   3793\u001b[0m         \u001b[38;5;28misinstance\u001b[39m(casted_key, abc\u001b[38;5;241m.\u001b[39mIterable)\n\u001b[0;32m   3794\u001b[0m         \u001b[38;5;129;01mand\u001b[39;00m \u001b[38;5;28many\u001b[39m(\u001b[38;5;28misinstance\u001b[39m(x, \u001b[38;5;28mslice\u001b[39m) \u001b[38;5;28;01mfor\u001b[39;00m x \u001b[38;5;129;01min\u001b[39;00m casted_key)\n\u001b[0;32m   3795\u001b[0m     ):\n\u001b[0;32m   3796\u001b[0m         \u001b[38;5;28;01mraise\u001b[39;00m InvalidIndexError(key)\n\u001b[1;32m-> 3797\u001b[0m     \u001b[38;5;28;01mraise\u001b[39;00m \u001b[38;5;167;01mKeyError\u001b[39;00m(key) \u001b[38;5;28;01mfrom\u001b[39;00m \u001b[38;5;21;01merr\u001b[39;00m\n\u001b[0;32m   3798\u001b[0m \u001b[38;5;28;01mexcept\u001b[39;00m \u001b[38;5;167;01mTypeError\u001b[39;00m:\n\u001b[0;32m   3799\u001b[0m     \u001b[38;5;66;03m# If we have a listlike key, _check_indexing_error will raise\u001b[39;00m\n\u001b[0;32m   3800\u001b[0m     \u001b[38;5;66;03m#  InvalidIndexError. Otherwise we fall through and re-raise\u001b[39;00m\n\u001b[0;32m   3801\u001b[0m     \u001b[38;5;66;03m#  the TypeError.\u001b[39;00m\n\u001b[0;32m   3802\u001b[0m     \u001b[38;5;28mself\u001b[39m\u001b[38;5;241m.\u001b[39m_check_indexing_error(key)\n",
      "\u001b[1;31mKeyError\u001b[0m: (0, 3)"
     ]
    }
   ],
   "source": [
    "clean_data[0,3]\n",
    "\n",
    "#It looks like you're encountering a KeyError in pandas when trying to access clean_data[0,3].\n",
    "#This happens because pandas does not support indexing with a tuple like (0,3). \n",
    "#Instead, you should use .iloc[] for positional indexing."
   ]
  },
  {
   "cell_type": "code",
   "execution_count": 78,
   "id": "6a6b9115-7eff-47db-a0b5-227737a4ce10",
   "metadata": {},
   "outputs": [
    {
     "data": {
      "text/plain": [
       "'Mumbai'"
      ]
     },
     "execution_count": 78,
     "metadata": {},
     "output_type": "execute_result"
    }
   ],
   "source": [
    "clean_data.iloc[0, 3]"
   ]
  },
  {
   "cell_type": "code",
   "execution_count": 79,
   "id": "70de48bb-3743-4942-be05-e3ec51f0aaec",
   "metadata": {},
   "outputs": [],
   "source": [
    "x_iv=clean_data.drop(['Salary'],axis=1)# axis=1: Specifies that the operation should be performed on columns (not rows)."
   ]
  },
  {
   "cell_type": "code",
   "execution_count": 80,
   "id": "e0ab53b0-bf9e-404f-bfab-2751b1d66bbe",
   "metadata": {},
   "outputs": [
    {
     "data": {
      "text/html": [
       "<div>\n",
       "<style scoped>\n",
       "    .dataframe tbody tr th:only-of-type {\n",
       "        vertical-align: middle;\n",
       "    }\n",
       "\n",
       "    .dataframe tbody tr th {\n",
       "        vertical-align: top;\n",
       "    }\n",
       "\n",
       "    .dataframe thead th {\n",
       "        text-align: right;\n",
       "    }\n",
       "</style>\n",
       "<table border=\"1\" class=\"dataframe\">\n",
       "  <thead>\n",
       "    <tr style=\"text-align: right;\">\n",
       "      <th></th>\n",
       "      <th>Name</th>\n",
       "      <th>Domain</th>\n",
       "      <th>Age</th>\n",
       "      <th>Location</th>\n",
       "      <th>Exp</th>\n",
       "    </tr>\n",
       "  </thead>\n",
       "  <tbody>\n",
       "    <tr>\n",
       "      <th>0</th>\n",
       "      <td>Mike</td>\n",
       "      <td>Datascience</td>\n",
       "      <td>34</td>\n",
       "      <td>Mumbai</td>\n",
       "      <td>2</td>\n",
       "    </tr>\n",
       "    <tr>\n",
       "      <th>1</th>\n",
       "      <td>Teddy</td>\n",
       "      <td>Testing</td>\n",
       "      <td>45</td>\n",
       "      <td>Bangalore</td>\n",
       "      <td>3</td>\n",
       "    </tr>\n",
       "    <tr>\n",
       "      <th>2</th>\n",
       "      <td>Umar</td>\n",
       "      <td>Dataanalyst</td>\n",
       "      <td>50</td>\n",
       "      <td>Bangalore</td>\n",
       "      <td>4</td>\n",
       "    </tr>\n",
       "    <tr>\n",
       "      <th>3</th>\n",
       "      <td>Jane</td>\n",
       "      <td>Analytics</td>\n",
       "      <td>50</td>\n",
       "      <td>Hyderbad</td>\n",
       "      <td>4</td>\n",
       "    </tr>\n",
       "    <tr>\n",
       "      <th>4</th>\n",
       "      <td>Uttam</td>\n",
       "      <td>Statistics</td>\n",
       "      <td>67</td>\n",
       "      <td>Bangalore</td>\n",
       "      <td>5</td>\n",
       "    </tr>\n",
       "    <tr>\n",
       "      <th>5</th>\n",
       "      <td>Kim</td>\n",
       "      <td>NLP</td>\n",
       "      <td>55</td>\n",
       "      <td>Delhi</td>\n",
       "      <td>10</td>\n",
       "    </tr>\n",
       "  </tbody>\n",
       "</table>\n",
       "</div>"
      ],
      "text/plain": [
       "    Name       Domain  Age   Location  Exp\n",
       "0   Mike  Datascience   34     Mumbai    2\n",
       "1  Teddy      Testing   45  Bangalore    3\n",
       "2   Umar  Dataanalyst   50  Bangalore    4\n",
       "3   Jane    Analytics   50   Hyderbad    4\n",
       "4  Uttam   Statistics   67  Bangalore    5\n",
       "5    Kim          NLP   55      Delhi   10"
      ]
     },
     "execution_count": 80,
     "metadata": {},
     "output_type": "execute_result"
    }
   ],
   "source": [
    "x_iv"
   ]
  },
  {
   "cell_type": "code",
   "execution_count": 81,
   "id": "5ef74b60-8310-4a84-b7ac-946d3c6ec000",
   "metadata": {},
   "outputs": [
    {
     "data": {
      "text/html": [
       "<div>\n",
       "<style scoped>\n",
       "    .dataframe tbody tr th:only-of-type {\n",
       "        vertical-align: middle;\n",
       "    }\n",
       "\n",
       "    .dataframe tbody tr th {\n",
       "        vertical-align: top;\n",
       "    }\n",
       "\n",
       "    .dataframe thead th {\n",
       "        text-align: right;\n",
       "    }\n",
       "</style>\n",
       "<table border=\"1\" class=\"dataframe\">\n",
       "  <thead>\n",
       "    <tr style=\"text-align: right;\">\n",
       "      <th></th>\n",
       "      <th>Name</th>\n",
       "      <th>Domain</th>\n",
       "      <th>Age</th>\n",
       "      <th>Location</th>\n",
       "      <th>Salary</th>\n",
       "      <th>Exp</th>\n",
       "    </tr>\n",
       "  </thead>\n",
       "  <tbody>\n",
       "    <tr>\n",
       "      <th>0</th>\n",
       "      <td>Mike</td>\n",
       "      <td>Datascience</td>\n",
       "      <td>34</td>\n",
       "      <td>Mumbai</td>\n",
       "      <td>5000</td>\n",
       "      <td>2</td>\n",
       "    </tr>\n",
       "    <tr>\n",
       "      <th>1</th>\n",
       "      <td>Teddy</td>\n",
       "      <td>Testing</td>\n",
       "      <td>45</td>\n",
       "      <td>Bangalore</td>\n",
       "      <td>10000</td>\n",
       "      <td>3</td>\n",
       "    </tr>\n",
       "    <tr>\n",
       "      <th>2</th>\n",
       "      <td>Umar</td>\n",
       "      <td>Dataanalyst</td>\n",
       "      <td>50</td>\n",
       "      <td>Bangalore</td>\n",
       "      <td>15000</td>\n",
       "      <td>4</td>\n",
       "    </tr>\n",
       "    <tr>\n",
       "      <th>3</th>\n",
       "      <td>Jane</td>\n",
       "      <td>Analytics</td>\n",
       "      <td>50</td>\n",
       "      <td>Hyderbad</td>\n",
       "      <td>20000</td>\n",
       "      <td>4</td>\n",
       "    </tr>\n",
       "    <tr>\n",
       "      <th>4</th>\n",
       "      <td>Uttam</td>\n",
       "      <td>Statistics</td>\n",
       "      <td>67</td>\n",
       "      <td>Bangalore</td>\n",
       "      <td>30000</td>\n",
       "      <td>5</td>\n",
       "    </tr>\n",
       "    <tr>\n",
       "      <th>5</th>\n",
       "      <td>Kim</td>\n",
       "      <td>NLP</td>\n",
       "      <td>55</td>\n",
       "      <td>Delhi</td>\n",
       "      <td>60000</td>\n",
       "      <td>10</td>\n",
       "    </tr>\n",
       "  </tbody>\n",
       "</table>\n",
       "</div>"
      ],
      "text/plain": [
       "    Name       Domain  Age   Location  Salary  Exp\n",
       "0   Mike  Datascience   34     Mumbai    5000    2\n",
       "1  Teddy      Testing   45  Bangalore   10000    3\n",
       "2   Umar  Dataanalyst   50  Bangalore   15000    4\n",
       "3   Jane    Analytics   50   Hyderbad   20000    4\n",
       "4  Uttam   Statistics   67  Bangalore   30000    5\n",
       "5    Kim          NLP   55      Delhi   60000   10"
      ]
     },
     "execution_count": 81,
     "metadata": {},
     "output_type": "execute_result"
    }
   ],
   "source": [
    "clean_data"
   ]
  },
  {
   "cell_type": "code",
   "execution_count": 82,
   "id": "fc5b99cd-0e63-4311-99d1-ba78bb1a4937",
   "metadata": {},
   "outputs": [
    {
     "data": {
      "text/plain": [
       "Index(['Name', 'Domain', 'Age', 'Location', 'Exp'], dtype='object')"
      ]
     },
     "execution_count": 82,
     "metadata": {},
     "output_type": "execute_result"
    }
   ],
   "source": [
    "x_iv.columns"
   ]
  },
  {
   "cell_type": "code",
   "execution_count": 83,
   "id": "434ca834-5367-4abe-b656-def1ba182e4e",
   "metadata": {},
   "outputs": [
    {
     "data": {
      "text/plain": [
       "Index(['Name', 'Domain', 'Age', 'Location', 'Salary', 'Exp'], dtype='object')"
      ]
     },
     "execution_count": 83,
     "metadata": {},
     "output_type": "execute_result"
    }
   ],
   "source": [
    "clean_data.columns"
   ]
  },
  {
   "cell_type": "code",
   "execution_count": 84,
   "id": "082d7e41-6dcb-4948-a0b5-c924adf939f7",
   "metadata": {},
   "outputs": [],
   "source": [
    "y_dv = clean_data.drop(['Name', 'Domain', 'Age', 'Location','Exp'],axis=1)# Delete All columns Expect Salary "
   ]
  },
  {
   "cell_type": "code",
   "execution_count": 85,
   "id": "efa6e666-7401-4d94-996b-524ac75abc49",
   "metadata": {},
   "outputs": [
    {
     "data": {
      "text/html": [
       "<div>\n",
       "<style scoped>\n",
       "    .dataframe tbody tr th:only-of-type {\n",
       "        vertical-align: middle;\n",
       "    }\n",
       "\n",
       "    .dataframe tbody tr th {\n",
       "        vertical-align: top;\n",
       "    }\n",
       "\n",
       "    .dataframe thead th {\n",
       "        text-align: right;\n",
       "    }\n",
       "</style>\n",
       "<table border=\"1\" class=\"dataframe\">\n",
       "  <thead>\n",
       "    <tr style=\"text-align: right;\">\n",
       "      <th></th>\n",
       "      <th>Salary</th>\n",
       "    </tr>\n",
       "  </thead>\n",
       "  <tbody>\n",
       "    <tr>\n",
       "      <th>0</th>\n",
       "      <td>5000</td>\n",
       "    </tr>\n",
       "    <tr>\n",
       "      <th>1</th>\n",
       "      <td>10000</td>\n",
       "    </tr>\n",
       "    <tr>\n",
       "      <th>2</th>\n",
       "      <td>15000</td>\n",
       "    </tr>\n",
       "    <tr>\n",
       "      <th>3</th>\n",
       "      <td>20000</td>\n",
       "    </tr>\n",
       "    <tr>\n",
       "      <th>4</th>\n",
       "      <td>30000</td>\n",
       "    </tr>\n",
       "    <tr>\n",
       "      <th>5</th>\n",
       "      <td>60000</td>\n",
       "    </tr>\n",
       "  </tbody>\n",
       "</table>\n",
       "</div>"
      ],
      "text/plain": [
       "   Salary\n",
       "0    5000\n",
       "1   10000\n",
       "2   15000\n",
       "3   20000\n",
       "4   30000\n",
       "5   60000"
      ]
     },
     "execution_count": 85,
     "metadata": {},
     "output_type": "execute_result"
    }
   ],
   "source": [
    "y_dv"
   ]
  },
  {
   "cell_type": "code",
   "execution_count": 86,
   "id": "09ef6c60-e521-4977-8045-437dedf06c8d",
   "metadata": {},
   "outputs": [
    {
     "data": {
      "text/html": [
       "<div>\n",
       "<style scoped>\n",
       "    .dataframe tbody tr th:only-of-type {\n",
       "        vertical-align: middle;\n",
       "    }\n",
       "\n",
       "    .dataframe tbody tr th {\n",
       "        vertical-align: top;\n",
       "    }\n",
       "\n",
       "    .dataframe thead th {\n",
       "        text-align: right;\n",
       "    }\n",
       "</style>\n",
       "<table border=\"1\" class=\"dataframe\">\n",
       "  <thead>\n",
       "    <tr style=\"text-align: right;\">\n",
       "      <th></th>\n",
       "      <th>Name</th>\n",
       "      <th>Domain</th>\n",
       "      <th>Age</th>\n",
       "      <th>Location</th>\n",
       "      <th>Salary</th>\n",
       "      <th>Exp</th>\n",
       "    </tr>\n",
       "  </thead>\n",
       "  <tbody>\n",
       "    <tr>\n",
       "      <th>0</th>\n",
       "      <td>Mike</td>\n",
       "      <td>Datascience</td>\n",
       "      <td>34</td>\n",
       "      <td>Mumbai</td>\n",
       "      <td>5000</td>\n",
       "      <td>2</td>\n",
       "    </tr>\n",
       "    <tr>\n",
       "      <th>1</th>\n",
       "      <td>Teddy</td>\n",
       "      <td>Testing</td>\n",
       "      <td>45</td>\n",
       "      <td>Bangalore</td>\n",
       "      <td>10000</td>\n",
       "      <td>3</td>\n",
       "    </tr>\n",
       "    <tr>\n",
       "      <th>2</th>\n",
       "      <td>Umar</td>\n",
       "      <td>Dataanalyst</td>\n",
       "      <td>50</td>\n",
       "      <td>Bangalore</td>\n",
       "      <td>15000</td>\n",
       "      <td>4</td>\n",
       "    </tr>\n",
       "    <tr>\n",
       "      <th>3</th>\n",
       "      <td>Jane</td>\n",
       "      <td>Analytics</td>\n",
       "      <td>50</td>\n",
       "      <td>Hyderbad</td>\n",
       "      <td>20000</td>\n",
       "      <td>4</td>\n",
       "    </tr>\n",
       "    <tr>\n",
       "      <th>4</th>\n",
       "      <td>Uttam</td>\n",
       "      <td>Statistics</td>\n",
       "      <td>67</td>\n",
       "      <td>Bangalore</td>\n",
       "      <td>30000</td>\n",
       "      <td>5</td>\n",
       "    </tr>\n",
       "    <tr>\n",
       "      <th>5</th>\n",
       "      <td>Kim</td>\n",
       "      <td>NLP</td>\n",
       "      <td>55</td>\n",
       "      <td>Delhi</td>\n",
       "      <td>60000</td>\n",
       "      <td>10</td>\n",
       "    </tr>\n",
       "  </tbody>\n",
       "</table>\n",
       "</div>"
      ],
      "text/plain": [
       "    Name       Domain  Age   Location  Salary  Exp\n",
       "0   Mike  Datascience   34     Mumbai    5000    2\n",
       "1  Teddy      Testing   45  Bangalore   10000    3\n",
       "2   Umar  Dataanalyst   50  Bangalore   15000    4\n",
       "3   Jane    Analytics   50   Hyderbad   20000    4\n",
       "4  Uttam   Statistics   67  Bangalore   30000    5\n",
       "5    Kim          NLP   55      Delhi   60000   10"
      ]
     },
     "execution_count": 86,
     "metadata": {},
     "output_type": "execute_result"
    }
   ],
   "source": [
    "clean_data"
   ]
  },
  {
   "cell_type": "code",
   "execution_count": 87,
   "id": "78c510f8-7877-4d90-9596-b4d1bd4cd1d1",
   "metadata": {},
   "outputs": [
    {
     "data": {
      "text/html": [
       "<div>\n",
       "<style scoped>\n",
       "    .dataframe tbody tr th:only-of-type {\n",
       "        vertical-align: middle;\n",
       "    }\n",
       "\n",
       "    .dataframe tbody tr th {\n",
       "        vertical-align: top;\n",
       "    }\n",
       "\n",
       "    .dataframe thead th {\n",
       "        text-align: right;\n",
       "    }\n",
       "</style>\n",
       "<table border=\"1\" class=\"dataframe\">\n",
       "  <thead>\n",
       "    <tr style=\"text-align: right;\">\n",
       "      <th></th>\n",
       "      <th>Name</th>\n",
       "      <th>Domain</th>\n",
       "      <th>Age</th>\n",
       "      <th>Location</th>\n",
       "      <th>Exp</th>\n",
       "    </tr>\n",
       "  </thead>\n",
       "  <tbody>\n",
       "    <tr>\n",
       "      <th>0</th>\n",
       "      <td>Mike</td>\n",
       "      <td>Datascience</td>\n",
       "      <td>34</td>\n",
       "      <td>Mumbai</td>\n",
       "      <td>2</td>\n",
       "    </tr>\n",
       "    <tr>\n",
       "      <th>1</th>\n",
       "      <td>Teddy</td>\n",
       "      <td>Testing</td>\n",
       "      <td>45</td>\n",
       "      <td>Bangalore</td>\n",
       "      <td>3</td>\n",
       "    </tr>\n",
       "    <tr>\n",
       "      <th>2</th>\n",
       "      <td>Umar</td>\n",
       "      <td>Dataanalyst</td>\n",
       "      <td>50</td>\n",
       "      <td>Bangalore</td>\n",
       "      <td>4</td>\n",
       "    </tr>\n",
       "    <tr>\n",
       "      <th>3</th>\n",
       "      <td>Jane</td>\n",
       "      <td>Analytics</td>\n",
       "      <td>50</td>\n",
       "      <td>Hyderbad</td>\n",
       "      <td>4</td>\n",
       "    </tr>\n",
       "    <tr>\n",
       "      <th>4</th>\n",
       "      <td>Uttam</td>\n",
       "      <td>Statistics</td>\n",
       "      <td>67</td>\n",
       "      <td>Bangalore</td>\n",
       "      <td>5</td>\n",
       "    </tr>\n",
       "    <tr>\n",
       "      <th>5</th>\n",
       "      <td>Kim</td>\n",
       "      <td>NLP</td>\n",
       "      <td>55</td>\n",
       "      <td>Delhi</td>\n",
       "      <td>10</td>\n",
       "    </tr>\n",
       "  </tbody>\n",
       "</table>\n",
       "</div>"
      ],
      "text/plain": [
       "    Name       Domain  Age   Location  Exp\n",
       "0   Mike  Datascience   34     Mumbai    2\n",
       "1  Teddy      Testing   45  Bangalore    3\n",
       "2   Umar  Dataanalyst   50  Bangalore    4\n",
       "3   Jane    Analytics   50   Hyderbad    4\n",
       "4  Uttam   Statistics   67  Bangalore    5\n",
       "5    Kim          NLP   55      Delhi   10"
      ]
     },
     "execution_count": 87,
     "metadata": {},
     "output_type": "execute_result"
    }
   ],
   "source": [
    "x_iv"
   ]
  },
  {
   "cell_type": "code",
   "execution_count": 88,
   "id": "d7913d46-5a62-4708-8ccf-04734109b374",
   "metadata": {},
   "outputs": [
    {
     "data": {
      "text/html": [
       "<div>\n",
       "<style scoped>\n",
       "    .dataframe tbody tr th:only-of-type {\n",
       "        vertical-align: middle;\n",
       "    }\n",
       "\n",
       "    .dataframe tbody tr th {\n",
       "        vertical-align: top;\n",
       "    }\n",
       "\n",
       "    .dataframe thead th {\n",
       "        text-align: right;\n",
       "    }\n",
       "</style>\n",
       "<table border=\"1\" class=\"dataframe\">\n",
       "  <thead>\n",
       "    <tr style=\"text-align: right;\">\n",
       "      <th></th>\n",
       "      <th>Salary</th>\n",
       "    </tr>\n",
       "  </thead>\n",
       "  <tbody>\n",
       "    <tr>\n",
       "      <th>0</th>\n",
       "      <td>5000</td>\n",
       "    </tr>\n",
       "    <tr>\n",
       "      <th>1</th>\n",
       "      <td>10000</td>\n",
       "    </tr>\n",
       "    <tr>\n",
       "      <th>2</th>\n",
       "      <td>15000</td>\n",
       "    </tr>\n",
       "    <tr>\n",
       "      <th>3</th>\n",
       "      <td>20000</td>\n",
       "    </tr>\n",
       "    <tr>\n",
       "      <th>4</th>\n",
       "      <td>30000</td>\n",
       "    </tr>\n",
       "    <tr>\n",
       "      <th>5</th>\n",
       "      <td>60000</td>\n",
       "    </tr>\n",
       "  </tbody>\n",
       "</table>\n",
       "</div>"
      ],
      "text/plain": [
       "   Salary\n",
       "0    5000\n",
       "1   10000\n",
       "2   15000\n",
       "3   20000\n",
       "4   30000\n",
       "5   60000"
      ]
     },
     "execution_count": 88,
     "metadata": {},
     "output_type": "execute_result"
    }
   ],
   "source": [
    "y_dv"
   ]
  },
  {
   "cell_type": "code",
   "execution_count": 89,
   "id": "baba228b-09df-482b-bf59-4231bee219b5",
   "metadata": {},
   "outputs": [
    {
     "data": {
      "text/html": [
       "<div>\n",
       "<style scoped>\n",
       "    .dataframe tbody tr th:only-of-type {\n",
       "        vertical-align: middle;\n",
       "    }\n",
       "\n",
       "    .dataframe tbody tr th {\n",
       "        vertical-align: top;\n",
       "    }\n",
       "\n",
       "    .dataframe thead th {\n",
       "        text-align: right;\n",
       "    }\n",
       "</style>\n",
       "<table border=\"1\" class=\"dataframe\">\n",
       "  <thead>\n",
       "    <tr style=\"text-align: right;\">\n",
       "      <th></th>\n",
       "      <th>Name</th>\n",
       "      <th>Domain</th>\n",
       "      <th>Age</th>\n",
       "      <th>Location</th>\n",
       "      <th>Salary</th>\n",
       "      <th>Exp</th>\n",
       "    </tr>\n",
       "  </thead>\n",
       "  <tbody>\n",
       "    <tr>\n",
       "      <th>0</th>\n",
       "      <td>Mike</td>\n",
       "      <td>Datascience</td>\n",
       "      <td>34</td>\n",
       "      <td>Mumbai</td>\n",
       "      <td>5000</td>\n",
       "      <td>2</td>\n",
       "    </tr>\n",
       "    <tr>\n",
       "      <th>1</th>\n",
       "      <td>Teddy</td>\n",
       "      <td>Testing</td>\n",
       "      <td>45</td>\n",
       "      <td>Bangalore</td>\n",
       "      <td>10000</td>\n",
       "      <td>3</td>\n",
       "    </tr>\n",
       "    <tr>\n",
       "      <th>2</th>\n",
       "      <td>Umar</td>\n",
       "      <td>Dataanalyst</td>\n",
       "      <td>50</td>\n",
       "      <td>Bangalore</td>\n",
       "      <td>15000</td>\n",
       "      <td>4</td>\n",
       "    </tr>\n",
       "    <tr>\n",
       "      <th>3</th>\n",
       "      <td>Jane</td>\n",
       "      <td>Analytics</td>\n",
       "      <td>50</td>\n",
       "      <td>Hyderbad</td>\n",
       "      <td>20000</td>\n",
       "      <td>4</td>\n",
       "    </tr>\n",
       "    <tr>\n",
       "      <th>4</th>\n",
       "      <td>Uttam</td>\n",
       "      <td>Statistics</td>\n",
       "      <td>67</td>\n",
       "      <td>Bangalore</td>\n",
       "      <td>30000</td>\n",
       "      <td>5</td>\n",
       "    </tr>\n",
       "    <tr>\n",
       "      <th>5</th>\n",
       "      <td>Kim</td>\n",
       "      <td>NLP</td>\n",
       "      <td>55</td>\n",
       "      <td>Delhi</td>\n",
       "      <td>60000</td>\n",
       "      <td>10</td>\n",
       "    </tr>\n",
       "  </tbody>\n",
       "</table>\n",
       "</div>"
      ],
      "text/plain": [
       "    Name       Domain  Age   Location  Salary  Exp\n",
       "0   Mike  Datascience   34     Mumbai    5000    2\n",
       "1  Teddy      Testing   45  Bangalore   10000    3\n",
       "2   Umar  Dataanalyst   50  Bangalore   15000    4\n",
       "3   Jane    Analytics   50   Hyderbad   20000    4\n",
       "4  Uttam   Statistics   67  Bangalore   30000    5\n",
       "5    Kim          NLP   55      Delhi   60000   10"
      ]
     },
     "execution_count": 89,
     "metadata": {},
     "output_type": "execute_result"
    }
   ],
   "source": [
    "clean_data"
   ]
  },
  {
   "cell_type": "markdown",
   "id": "82c910e5-1adf-45b2-af12-16e1b50be245",
   "metadata": {},
   "source": [
    "# NoW we introduce the Imputation(or transformer)\r\n"
   ]
  },
  {
   "cell_type": "code",
   "execution_count": 90,
   "id": "2bdd73e2-7280-4383-9297-f2164d150a8c",
   "metadata": {},
   "outputs": [],
   "source": [
    "#Defination\n",
    "#transformer :- Converting the Catagorical Vale  into Numerical value in Dataset\n",
    "#The pd.get_dummies(clean_data) function in pandas is used for one-hot encoding, which converts categorical variables into dummy/indicator variables."
   ]
  },
  {
   "cell_type": "code",
   "execution_count": 91,
   "id": "423ad35e-9a5c-4aa8-8033-c4ae9edab070",
   "metadata": {},
   "outputs": [],
   "source": [
    "imputation = pd.get_dummies(clean_data,dtype=int) # by default it will be Bool"
   ]
  },
  {
   "cell_type": "code",
   "execution_count": 92,
   "id": "25b8cf5f-f7aa-48d9-8f10-3a00e22f2453",
   "metadata": {},
   "outputs": [
    {
     "data": {
      "text/html": [
       "<div>\n",
       "<style scoped>\n",
       "    .dataframe tbody tr th:only-of-type {\n",
       "        vertical-align: middle;\n",
       "    }\n",
       "\n",
       "    .dataframe tbody tr th {\n",
       "        vertical-align: top;\n",
       "    }\n",
       "\n",
       "    .dataframe thead th {\n",
       "        text-align: right;\n",
       "    }\n",
       "</style>\n",
       "<table border=\"1\" class=\"dataframe\">\n",
       "  <thead>\n",
       "    <tr style=\"text-align: right;\">\n",
       "      <th></th>\n",
       "      <th>Age</th>\n",
       "      <th>Salary</th>\n",
       "      <th>Exp</th>\n",
       "      <th>Name_Jane</th>\n",
       "      <th>Name_Kim</th>\n",
       "      <th>Name_Mike</th>\n",
       "      <th>Name_Teddy</th>\n",
       "      <th>Name_Umar</th>\n",
       "      <th>Name_Uttam</th>\n",
       "      <th>Domain_Analytics</th>\n",
       "      <th>Domain_Dataanalyst</th>\n",
       "      <th>Domain_Datascience</th>\n",
       "      <th>Domain_NLP</th>\n",
       "      <th>Domain_Statistics</th>\n",
       "      <th>Domain_Testing</th>\n",
       "      <th>Location_Bangalore</th>\n",
       "      <th>Location_Delhi</th>\n",
       "      <th>Location_Hyderbad</th>\n",
       "      <th>Location_Mumbai</th>\n",
       "    </tr>\n",
       "  </thead>\n",
       "  <tbody>\n",
       "    <tr>\n",
       "      <th>0</th>\n",
       "      <td>34</td>\n",
       "      <td>5000</td>\n",
       "      <td>2</td>\n",
       "      <td>0</td>\n",
       "      <td>0</td>\n",
       "      <td>1</td>\n",
       "      <td>0</td>\n",
       "      <td>0</td>\n",
       "      <td>0</td>\n",
       "      <td>0</td>\n",
       "      <td>0</td>\n",
       "      <td>1</td>\n",
       "      <td>0</td>\n",
       "      <td>0</td>\n",
       "      <td>0</td>\n",
       "      <td>0</td>\n",
       "      <td>0</td>\n",
       "      <td>0</td>\n",
       "      <td>1</td>\n",
       "    </tr>\n",
       "    <tr>\n",
       "      <th>1</th>\n",
       "      <td>45</td>\n",
       "      <td>10000</td>\n",
       "      <td>3</td>\n",
       "      <td>0</td>\n",
       "      <td>0</td>\n",
       "      <td>0</td>\n",
       "      <td>1</td>\n",
       "      <td>0</td>\n",
       "      <td>0</td>\n",
       "      <td>0</td>\n",
       "      <td>0</td>\n",
       "      <td>0</td>\n",
       "      <td>0</td>\n",
       "      <td>0</td>\n",
       "      <td>1</td>\n",
       "      <td>1</td>\n",
       "      <td>0</td>\n",
       "      <td>0</td>\n",
       "      <td>0</td>\n",
       "    </tr>\n",
       "    <tr>\n",
       "      <th>2</th>\n",
       "      <td>50</td>\n",
       "      <td>15000</td>\n",
       "      <td>4</td>\n",
       "      <td>0</td>\n",
       "      <td>0</td>\n",
       "      <td>0</td>\n",
       "      <td>0</td>\n",
       "      <td>1</td>\n",
       "      <td>0</td>\n",
       "      <td>0</td>\n",
       "      <td>1</td>\n",
       "      <td>0</td>\n",
       "      <td>0</td>\n",
       "      <td>0</td>\n",
       "      <td>0</td>\n",
       "      <td>1</td>\n",
       "      <td>0</td>\n",
       "      <td>0</td>\n",
       "      <td>0</td>\n",
       "    </tr>\n",
       "    <tr>\n",
       "      <th>3</th>\n",
       "      <td>50</td>\n",
       "      <td>20000</td>\n",
       "      <td>4</td>\n",
       "      <td>1</td>\n",
       "      <td>0</td>\n",
       "      <td>0</td>\n",
       "      <td>0</td>\n",
       "      <td>0</td>\n",
       "      <td>0</td>\n",
       "      <td>1</td>\n",
       "      <td>0</td>\n",
       "      <td>0</td>\n",
       "      <td>0</td>\n",
       "      <td>0</td>\n",
       "      <td>0</td>\n",
       "      <td>0</td>\n",
       "      <td>0</td>\n",
       "      <td>1</td>\n",
       "      <td>0</td>\n",
       "    </tr>\n",
       "    <tr>\n",
       "      <th>4</th>\n",
       "      <td>67</td>\n",
       "      <td>30000</td>\n",
       "      <td>5</td>\n",
       "      <td>0</td>\n",
       "      <td>0</td>\n",
       "      <td>0</td>\n",
       "      <td>0</td>\n",
       "      <td>0</td>\n",
       "      <td>1</td>\n",
       "      <td>0</td>\n",
       "      <td>0</td>\n",
       "      <td>0</td>\n",
       "      <td>0</td>\n",
       "      <td>1</td>\n",
       "      <td>0</td>\n",
       "      <td>1</td>\n",
       "      <td>0</td>\n",
       "      <td>0</td>\n",
       "      <td>0</td>\n",
       "    </tr>\n",
       "    <tr>\n",
       "      <th>5</th>\n",
       "      <td>55</td>\n",
       "      <td>60000</td>\n",
       "      <td>10</td>\n",
       "      <td>0</td>\n",
       "      <td>1</td>\n",
       "      <td>0</td>\n",
       "      <td>0</td>\n",
       "      <td>0</td>\n",
       "      <td>0</td>\n",
       "      <td>0</td>\n",
       "      <td>0</td>\n",
       "      <td>0</td>\n",
       "      <td>1</td>\n",
       "      <td>0</td>\n",
       "      <td>0</td>\n",
       "      <td>0</td>\n",
       "      <td>1</td>\n",
       "      <td>0</td>\n",
       "      <td>0</td>\n",
       "    </tr>\n",
       "  </tbody>\n",
       "</table>\n",
       "</div>"
      ],
      "text/plain": [
       "   Age  Salary  Exp  Name_Jane  Name_Kim  Name_Mike  Name_Teddy  Name_Umar  \\\n",
       "0   34    5000    2          0         0          1           0          0   \n",
       "1   45   10000    3          0         0          0           1          0   \n",
       "2   50   15000    4          0         0          0           0          1   \n",
       "3   50   20000    4          1         0          0           0          0   \n",
       "4   67   30000    5          0         0          0           0          0   \n",
       "5   55   60000   10          0         1          0           0          0   \n",
       "\n",
       "   Name_Uttam  Domain_Analytics  Domain_Dataanalyst  Domain_Datascience  \\\n",
       "0           0                 0                   0                   1   \n",
       "1           0                 0                   0                   0   \n",
       "2           0                 0                   1                   0   \n",
       "3           0                 1                   0                   0   \n",
       "4           1                 0                   0                   0   \n",
       "5           0                 0                   0                   0   \n",
       "\n",
       "   Domain_NLP  Domain_Statistics  Domain_Testing  Location_Bangalore  \\\n",
       "0           0                  0               0                   0   \n",
       "1           0                  0               1                   1   \n",
       "2           0                  0               0                   1   \n",
       "3           0                  0               0                   0   \n",
       "4           0                  1               0                   1   \n",
       "5           1                  0               0                   0   \n",
       "\n",
       "   Location_Delhi  Location_Hyderbad  Location_Mumbai  \n",
       "0               0                  0                1  \n",
       "1               0                  0                0  \n",
       "2               0                  0                0  \n",
       "3               0                  1                0  \n",
       "4               0                  0                0  \n",
       "5               1                  0                0  "
      ]
     },
     "execution_count": 92,
     "metadata": {},
     "output_type": "execute_result"
    }
   ],
   "source": [
    "imputation"
   ]
  },
  {
   "cell_type": "code",
   "execution_count": null,
   "id": "ae47df5f-0ac1-493a-ba04-b5c031e4be3e",
   "metadata": {},
   "outputs": [],
   "source": []
  }
 ],
 "metadata": {
  "kernelspec": {
   "display_name": "Python 3 (ipykernel)",
   "language": "python",
   "name": "python3"
  },
  "language_info": {
   "codemirror_mode": {
    "name": "ipython",
    "version": 3
   },
   "file_extension": ".py",
   "mimetype": "text/x-python",
   "name": "python",
   "nbconvert_exporter": "python",
   "pygments_lexer": "ipython3",
   "version": "3.12.4"
  }
 },
 "nbformat": 4,
 "nbformat_minor": 5
}
