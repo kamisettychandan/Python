{
 "cells": [
  {
   "cell_type": "markdown",
   "id": "332611d9-4283-4031-a331-7b8dce918aa3",
   "metadata": {},
   "source": [
    "# 08th May 2025"
   ]
  },
  {
   "cell_type": "markdown",
   "id": "5b30b44c-0385-4f11-aa86-c758cef81a7e",
   "metadata": {},
   "source": [
    "# Advance Python - Conditional Statements\n",
    "- if\n",
    "- if else\n",
    "- if elif else\n",
    "- nested if  # we never use in real life. frontend will be very slow"
   ]
  },
  {
   "cell_type": "code",
   "execution_count": 1,
   "id": "8ce64cfb-6ab7-4440-860b-257fbc726299",
   "metadata": {},
   "outputs": [
    {
     "name": "stdout",
     "output_type": "stream",
     "text": [
      "Vihari Nandan\n"
     ]
    }
   ],
   "source": [
    "if True:   # Indentation is always 4 spaces\n",
    "    print('Vihari Nandan')"
   ]
  },
  {
   "cell_type": "code",
   "execution_count": 2,
   "id": "9e40a828-48a7-431d-b3c6-d799b1292d91",
   "metadata": {},
   "outputs": [
    {
     "name": "stdout",
     "output_type": "stream",
     "text": [
      "Good Evening\n"
     ]
    }
   ],
   "source": [
    "if False:\n",
    "    print(\"Vihari Nandan\")\n",
    "print(\"Good Evening\")"
   ]
  },
  {
   "cell_type": "code",
   "execution_count": 3,
   "id": "f22745f4-4dcf-4a9e-a4f7-e2bb152ce9a9",
   "metadata": {},
   "outputs": [
    {
     "name": "stdout",
     "output_type": "stream",
     "text": [
      "Vihari Nandan\n",
      "Good Evening\n"
     ]
    }
   ],
   "source": [
    "if True:\n",
    "    print(\"Vihari Nandan\")    \n",
    "print(\"Good Evening\")"
   ]
  },
  {
   "cell_type": "code",
   "execution_count": 4,
   "id": "a44f0ebb-8046-4754-9b94-bfee0b192d51",
   "metadata": {},
   "outputs": [
    {
     "name": "stdout",
     "output_type": "stream",
     "text": [
      "Vihari Nandan\n"
     ]
    }
   ],
   "source": [
    "if True:\n",
    "    print(\"Vihari Nandan\")\n",
    "else:\n",
    "    print(\"Good Evening\")"
   ]
  },
  {
   "cell_type": "code",
   "execution_count": 5,
   "id": "3c6ebc91-e5b9-46b0-bf94-2eb6639b5c11",
   "metadata": {},
   "outputs": [
    {
     "name": "stdout",
     "output_type": "stream",
     "text": [
      "Good Evening\n"
     ]
    }
   ],
   "source": [
    "if False:\n",
    "    print(\"Vihari Nandan\")\n",
    "else:\n",
    "    print(\"Good Evening\")"
   ]
  },
  {
   "cell_type": "markdown",
   "id": "97063f1f-c187-4dfa-8a18-3a7395c34332",
   "metadata": {},
   "source": [
    "## Programs"
   ]
  },
  {
   "cell_type": "code",
   "execution_count": 6,
   "id": "877fafe5-c8b6-4257-ad88-a2dc827be06e",
   "metadata": {},
   "outputs": [
    {
     "name": "stdout",
     "output_type": "stream",
     "text": [
      "Even Number\n"
     ]
    }
   ],
   "source": [
    "x = 4\n",
    "r = x % 2\n",
    "\n",
    "if r == 0:\n",
    "    print(\"Even Number\")"
   ]
  },
  {
   "cell_type": "code",
   "execution_count": 7,
   "id": "3290294a-929d-4eb3-a55c-727488ce4e82",
   "metadata": {},
   "outputs": [
    {
     "name": "stdout",
     "output_type": "stream",
     "text": [
      "Odd Number\n"
     ]
    }
   ],
   "source": [
    "x = 5\n",
    "r = x % 2\n",
    "\n",
    "if r == 0:\n",
    "    print(\"Even Number\")\n",
    "\n",
    "if r != 0:\n",
    "    print(\"Odd Number\")"
   ]
  },
  {
   "cell_type": "code",
   "execution_count": 8,
   "id": "103251e0-8792-4918-bd5e-7d7cf2f84515",
   "metadata": {},
   "outputs": [
    {
     "name": "stdout",
     "output_type": "stream",
     "text": [
      "Odd Number\n"
     ]
    }
   ],
   "source": [
    "x = 5\n",
    "r = x % 2\n",
    "\n",
    "if r == 0:\n",
    "    print(\"Even Number\")\n",
    "\n",
    "if r == 1:\n",
    "    print(\"Odd Number\")"
   ]
  },
  {
   "cell_type": "code",
   "execution_count": 9,
   "id": "62bdbe6d-c007-44a1-8c4e-3a92b3b16a84",
   "metadata": {},
   "outputs": [
    {
     "name": "stdout",
     "output_type": "stream",
     "text": [
      "Even Number\n"
     ]
    }
   ],
   "source": [
    "x = 4\n",
    "r = x % 2\n",
    "\n",
    "if r == 0:\n",
    "    print(\"Even Number\")\n",
    "else:\n",
    "    print(\"Odd Number\")"
   ]
  },
  {
   "cell_type": "code",
   "execution_count": 10,
   "id": "698d104a-e0e6-4318-8641-51364b103fe5",
   "metadata": {},
   "outputs": [
    {
     "name": "stdout",
     "output_type": "stream",
     "text": [
      "Odd Number\n"
     ]
    }
   ],
   "source": [
    "x = 3\n",
    "r = x % 2\n",
    "\n",
    "if r == 0:\n",
    "    print(\"Even Number\")\n",
    "    if x > 5:\n",
    "        print(\"Greater Number\")\n",
    "else:\n",
    "    print(\"Odd Number\")"
   ]
  },
  {
   "cell_type": "code",
   "execution_count": 11,
   "id": "6accd798-a186-4a9a-9836-8a711aff1a23",
   "metadata": {},
   "outputs": [
    {
     "name": "stdout",
     "output_type": "stream",
     "text": [
      "Even Number\n",
      "Less Number\n"
     ]
    }
   ],
   "source": [
    "x = 4\n",
    "r = x % 2\n",
    "\n",
    "if r == 0:\n",
    "    print(\"Even Number\")\n",
    "    if x > 5:\n",
    "        print(\"Greater Number\")\n",
    "    else:\n",
    "        print(\"Less Number\")\n",
    "else:\n",
    "    print(\"Odd Number\")"
   ]
  },
  {
   "cell_type": "code",
   "execution_count": 12,
   "id": "a35d0d31-46b2-4ea1-9923-5a39a98e8ad7",
   "metadata": {},
   "outputs": [
    {
     "name": "stdout",
     "output_type": "stream",
     "text": [
      "Even Number\n",
      "Greater Number\n"
     ]
    }
   ],
   "source": [
    "x = 6\n",
    "r = x % 2\n",
    "\n",
    "if r == 0:\n",
    "    print(\"Even Number\")\n",
    "    if x > 5:\n",
    "        print(\"Greater Number\")\n",
    "    else:\n",
    "        print(\"Not Greater\")\n",
    "else:\n",
    "    print(\"Odd Number\")"
   ]
  },
  {
   "cell_type": "code",
   "execution_count": 13,
   "id": "e00b91ae-ac53-4bae-b632-020a6f6acf5d",
   "metadata": {},
   "outputs": [
    {
     "name": "stdout",
     "output_type": "stream",
     "text": [
      "TWO\n"
     ]
    }
   ],
   "source": [
    "x = 2\n",
    "\n",
    "if x == 1:\n",
    "    print(\"ONE\")\n",
    "if x == 2:\n",
    "    print(\"TWO\")\n",
    "if x == 3:\n",
    "    print(\"THREE\")\n",
    "if x == 4:\n",
    "    print(\"FOUR\")"
   ]
  },
  {
   "cell_type": "code",
   "execution_count": 14,
   "id": "24c8a556-be54-4264-aeae-b22c39972c23",
   "metadata": {},
   "outputs": [],
   "source": [
    "x = 5\n",
    "\n",
    "if x == 1:\n",
    "    print(\"ONE\")\n",
    "if x == 2:\n",
    "    print(\"TWO\")\n",
    "if x == 3:\n",
    "    print(\"THREE\")\n",
    "if x == 4:\n",
    "    print(\"FOUR\")"
   ]
  },
  {
   "cell_type": "code",
   "execution_count": 15,
   "id": "115a6024-b7d1-4d44-8f90-e51ad814460a",
   "metadata": {},
   "outputs": [
    {
     "name": "stdout",
     "output_type": "stream",
     "text": [
      "Number not Found\n"
     ]
    }
   ],
   "source": [
    "x = 9\n",
    "\n",
    "if x == 1:\n",
    "    print(\"ONE\")\n",
    "elif x == 2:\n",
    "    print(\"TWO\")\n",
    "elif x == 3:\n",
    "    print(\"THREE\")\n",
    "elif x == 4:\n",
    "    print(\"FOUR\")\n",
    "else:\n",
    "    print(\"Number not Found\")"
   ]
  },
  {
   "cell_type": "code",
   "execution_count": 17,
   "id": "e188d6cb-3a7f-4403-a048-e3878c0a771c",
   "metadata": {},
   "outputs": [
    {
     "name": "stdin",
     "output_type": "stream",
     "text": [
      "Enter the Number 10\n"
     ]
    },
    {
     "name": "stdout",
     "output_type": "stream",
     "text": [
      "Even Number\n",
      "Greater Number than x value\n"
     ]
    }
   ],
   "source": [
    "x = int(input(\"Enter the Number\"))\n",
    "r = x % 2\n",
    "\n",
    "if r == 0:\n",
    "    print(\"Even Number\")\n",
    "    if x > 3:\n",
    "        print(\"Greater Number than x value\")\n",
    "else:\n",
    "    print(\"Odd Number\")"
   ]
  }
 ],
 "metadata": {
  "kernelspec": {
   "display_name": "Python 3 (ipykernel)",
   "language": "python",
   "name": "python3"
  },
  "language_info": {
   "codemirror_mode": {
    "name": "ipython",
    "version": 3
   },
   "file_extension": ".py",
   "mimetype": "text/x-python",
   "name": "python",
   "nbconvert_exporter": "python",
   "pygments_lexer": "ipython3",
   "version": "3.12.4"
  }
 },
 "nbformat": 4,
 "nbformat_minor": 5
}
