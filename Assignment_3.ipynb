{
 "cells": [
  {
   "cell_type": "markdown",
   "id": "26204424-6bfd-41b0-ba99-09d53c34bcac",
   "metadata": {},
   "source": [
    "# Assignment 3 - Python"
   ]
  },
  {
   "cell_type": "code",
   "execution_count": 2,
   "id": "24ded5c2-5740-42fd-bf78-ba754af8649a",
   "metadata": {},
   "outputs": [],
   "source": [
    "# Importing necessary fields\n",
    "import sys\n",
    "import keyword\n",
    "import operator\n",
    "import os\n",
    "from datetime import datetime"
   ]
  },
  {
   "cell_type": "markdown",
   "id": "eee5837e-7487-4f50-a237-722d14aec489",
   "metadata": {},
   "source": [
    "# Keywords"
   ]
  },
  {
   "cell_type": "code",
   "execution_count": 17,
   "id": "b3eace99-338c-495f-a3a8-970e07314426",
   "metadata": {},
   "outputs": [],
   "source": [
    "# Keywords are the Reserved words in Python and can't be used as an Identifier"
   ]
  },
  {
   "cell_type": "code",
   "execution_count": 5,
   "id": "8c8e3fbd-c5a4-49f4-9ebf-2da86161b222",
   "metadata": {},
   "outputs": [
    {
     "name": "stdout",
     "output_type": "stream",
     "text": [
      "['False', 'None', 'True', 'and', 'as', 'assert', 'async', 'await', 'break', 'class', 'continue', 'def', 'del', 'elif', 'else', 'except', 'finally', 'for', 'from', 'global', 'if', 'import', 'in', 'is', 'lambda', 'nonlocal', 'not', 'or', 'pass', 'raise', 'return', 'try', 'while', 'with', 'yield']\n",
      "35\n"
     ]
    }
   ],
   "source": [
    "print(keyword.kwlist)"
   ]
  },
  {
   "cell_type": "code",
   "execution_count": 6,
   "id": "83b488b2-a13a-4b74-bc9c-8a1fb17278f4",
   "metadata": {},
   "outputs": [
    {
     "name": "stdout",
     "output_type": "stream",
     "text": [
      "35\n"
     ]
    }
   ],
   "source": [
    "# Find Length of Keywords\n",
    "print(len(keyword.kwlist))           # Total 35 Keywords"
   ]
  },
  {
   "cell_type": "markdown",
   "id": "7f558d13-e4d4-4b00-a98b-52cf3371998d",
   "metadata": {},
   "source": [
    "# Identifiers"
   ]
  },
  {
   "cell_type": "code",
   "execution_count": 8,
   "id": "7b2b0d18-b3a6-41ed-a585-bb0a8dcd6e89",
   "metadata": {},
   "outputs": [
    {
     "ename": "SyntaxError",
     "evalue": "invalid decimal literal (852344681.py, line 4)",
     "output_type": "error",
     "traceback": [
      "\u001b[1;36m  Cell \u001b[1;32mIn[8], line 4\u001b[1;36m\u001b[0m\n\u001b[1;33m    1var = 10     # can't start with digits\u001b[0m\n\u001b[1;37m    ^\u001b[0m\n\u001b[1;31mSyntaxError\u001b[0m\u001b[1;31m:\u001b[0m invalid decimal literal\n"
     ]
    }
   ],
   "source": [
    "# An Identifier is a name given to entities like class, functions, variables etc., It helps to differentiate one entity from another\n",
    "# Rules: can't start with a Digit, can't start with Special Numbers, can't start with Keywords, must start with a letter, case-sensitive\n",
    "\n",
    "1var = 10     # can't start with digits\n",
    "print(1var)"
   ]
  },
  {
   "cell_type": "code",
   "execution_count": 9,
   "id": "8740fd20-55b3-41be-a16f-9804e326fc48",
   "metadata": {},
   "outputs": [
    {
     "ename": "SyntaxError",
     "evalue": "invalid syntax (2996870819.py, line 1)",
     "output_type": "error",
     "traceback": [
      "\u001b[1;36m  Cell \u001b[1;32mIn[9], line 1\u001b[1;36m\u001b[0m\n\u001b[1;33m    val2@ = 15   # can't start with special characters\u001b[0m\n\u001b[1;37m          ^\u001b[0m\n\u001b[1;31mSyntaxError\u001b[0m\u001b[1;31m:\u001b[0m invalid syntax\n"
     ]
    }
   ],
   "source": [
    "val2@ = 15   # can't start with special characters\n",
    "print(var2@)"
   ]
  },
  {
   "cell_type": "code",
   "execution_count": 10,
   "id": "0fd04b9f-ae26-45bd-9b93-632f71e578a8",
   "metadata": {},
   "outputs": [
    {
     "ename": "SyntaxError",
     "evalue": "invalid syntax (475264719.py, line 1)",
     "output_type": "error",
     "traceback": [
      "\u001b[1;36m  Cell \u001b[1;32mIn[10], line 1\u001b[1;36m\u001b[0m\n\u001b[1;33m    import = 25    # can't start with keywords\u001b[0m\n\u001b[1;37m           ^\u001b[0m\n\u001b[1;31mSyntaxError\u001b[0m\u001b[1;31m:\u001b[0m invalid syntax\n"
     ]
    }
   ],
   "source": [
    "import = 25    # can't start with keywords\n",
    "print(import)"
   ]
  },
  {
   "cell_type": "code",
   "execution_count": 11,
   "id": "6f42fa96-de3d-4eca-8557-dced7980a386",
   "metadata": {},
   "outputs": [
    {
     "name": "stdout",
     "output_type": "stream",
     "text": [
      "10\n"
     ]
    }
   ],
   "source": [
    "val2 = 10         # Correct Identifier\n",
    "print(val2)"
   ]
  },
  {
   "cell_type": "code",
   "execution_count": 12,
   "id": "0045658f-7ad1-4b00-ba85-6db7a8dbfda0",
   "metadata": {},
   "outputs": [
    {
     "name": "stdout",
     "output_type": "stream",
     "text": [
      "10\n"
     ]
    }
   ],
   "source": [
    "val_ = 30      # Correct Identifier\n",
    "print(val2)"
   ]
  },
  {
   "cell_type": "markdown",
   "id": "425bff00-c389-4740-9650-a526533e9060",
   "metadata": {},
   "source": [
    "# Comments in Python "
   ]
  },
  {
   "cell_type": "code",
   "execution_count": 13,
   "id": "9eb1f998-e21c-4384-aa4a-cc088be82c56",
   "metadata": {},
   "outputs": [],
   "source": [
    "# Comments can be used to explain the code for more readabilty\n",
    "# Single Line Comment\n",
    "val1 = 10"
   ]
  },
  {
   "cell_type": "code",
   "execution_count": 14,
   "id": "e4f4d64e-fe75-455f-a6dc-c7ef82ce0c97",
   "metadata": {},
   "outputs": [],
   "source": [
    "# Multiple\n",
    "# Line\n",
    "# Comment\n",
    "val2 = 15"
   ]
  },
  {
   "cell_type": "code",
   "execution_count": 15,
   "id": "5fc27b0b-376a-4265-a0b9-7cb48d5bfe58",
   "metadata": {},
   "outputs": [],
   "source": [
    "'''Multiple\n",
    "Line\n",
    "Comment\n",
    "'''\n",
    "val3 = 20"
   ]
  },
  {
   "cell_type": "code",
   "execution_count": 16,
   "id": "88a18cbc-048c-43fb-960a-90850b43db5c",
   "metadata": {},
   "outputs": [],
   "source": [
    "\"\"\"\n",
    "Multiple\n",
    "Line\n",
    "Comment\n",
    "\"\"\"\n",
    "val4 = 25"
   ]
  },
  {
   "cell_type": "markdown",
   "id": "81c29102-efad-4d40-b1a3-059b45bd014b",
   "metadata": {},
   "source": [
    "# Statements"
   ]
  },
  {
   "cell_type": "code",
   "execution_count": 21,
   "id": "ba8b3cf4-e529-45dd-bba6-f6fa407c0ab7",
   "metadata": {},
   "outputs": [
    {
     "name": "stdout",
     "output_type": "stream",
     "text": [
      "20\n",
      "<class 'int'>\n",
      "140708779211800\n",
      "----------------\n",
      "20.5\n",
      "<class 'float'>\n",
      "2910431784976\n",
      "----------------\n",
      "20.5\n",
      "<class 'float'>\n",
      "20\n",
      "2910431784976\n"
     ]
    }
   ],
   "source": [
    "# Instructions that a Python Interpreter can execute\n",
    "\n",
    "p = 20 # p is the variable & storing int value is 20\n",
    "q = 20.50 # q is the variable & storing float value is 20\n",
    "r = q\n",
    "print(p)\n",
    "print(type(p))\n",
    "print(id(p))\n",
    "print(\"----------------\")\n",
    "print(q)\n",
    "print(type(q))\n",
    "print(id(q))\n",
    "print(\"----------------\")\n",
    "print(r)\n",
    "print(type(r))\n",
    "print(int(r))\n",
    "print(id(r))"
   ]
  },
  {
   "cell_type": "code",
   "execution_count": 22,
   "id": "9f9b8935-2fb7-4f0f-8c28-795af3c7b7ea",
   "metadata": {},
   "outputs": [
    {
     "name": "stdout",
     "output_type": "stream",
     "text": [
      "30\n"
     ]
    }
   ],
   "source": [
    "p = 20\n",
    "p = p + 10   # variable overwriting\n",
    "print(p)"
   ]
  },
  {
   "cell_type": "markdown",
   "id": "7ca7ec84-3895-415a-89f5-cae0947aab60",
   "metadata": {},
   "source": [
    "# Variable Assignments"
   ]
  },
  {
   "cell_type": "code",
   "execution_count": 23,
   "id": "a68b1bea-232e-4c74-be5c-34076a0e71fe",
   "metadata": {},
   "outputs": [
    {
     "name": "stdout",
     "output_type": "stream",
     "text": [
      "10\n",
      "2.57\n",
      "Vihari Nandan\n"
     ]
    }
   ],
   "source": [
    "intvar = 10     # Integer value\n",
    "floatvar = 2.57  # Float value\n",
    "strvar = 'Vihari Nandan'  # String value\n",
    "print(intvar)\n",
    "print(floatvar)\n",
    "print(strvar)"
   ]
  },
  {
   "cell_type": "markdown",
   "id": "0115f309-4f0e-49be-9c41-d14cb2801eba",
   "metadata": {},
   "source": [
    "# Multiple Assignments"
   ]
  },
  {
   "cell_type": "code",
   "execution_count": 24,
   "id": "64b9fa18-32d8-4303-a718-c42b5939e1ac",
   "metadata": {},
   "outputs": [
    {
     "name": "stdout",
     "output_type": "stream",
     "text": [
      "10\n",
      "2.57\n",
      "Vihari Nandan\n"
     ]
    }
   ],
   "source": [
    "intvar, floatvar, strvar = 10,2.57, 'Vihari Nandan'\n",
    "print(intvar)\n",
    "print(floatvar)\n",
    "print(strvar)"
   ]
  },
  {
   "cell_type": "code",
   "execution_count": 25,
   "id": "830a7946-59d2-4e53-bf9d-12879e1ae439",
   "metadata": {},
   "outputs": [
    {
     "name": "stdout",
     "output_type": "stream",
     "text": [
      "33 33 33 33\n"
     ]
    }
   ],
   "source": [
    "p1 = p2 = p3 = p4 = 33    # Multiple variables are assigned same value\n",
    "print(p1,p2,p3,p4)"
   ]
  },
  {
   "cell_type": "markdown",
   "id": "2ca2175f-4d1b-40ab-912e-4b524be68ca3",
   "metadata": {},
   "source": [
    "# Data Types"
   ]
  },
  {
   "cell_type": "markdown",
   "id": "5a913343-9d2d-4762-8bd3-c23fe08b08aa",
   "metadata": {},
   "source": [
    "### Numeric Data Type"
   ]
  },
  {
   "cell_type": "code",
   "execution_count": 26,
   "id": "05689fd9-9d30-4ff8-9a14-7ad528d7f99f",
   "metadata": {},
   "outputs": [
    {
     "name": "stdout",
     "output_type": "stream",
     "text": [
      "10\n",
      "<class 'int'>\n",
      "28\n",
      "10 is Integer? True\n"
     ]
    }
   ],
   "source": [
    "val1 = 10   # Integer data type\n",
    "print(val1)    # value of val1\n",
    "print(type(val1))    # type of object\n",
    "print(sys.getsizeof(val1))   # size of integer object in bytes\n",
    "print(val1, \"is Integer?\", isinstance(val1,int))   # val1 is an instance of int"
   ]
  },
  {
   "cell_type": "code",
   "execution_count": 27,
   "id": "ba1a4015-75bc-48c7-84ee-ab3b5f4601d6",
   "metadata": {},
   "outputs": [
    {
     "name": "stdout",
     "output_type": "stream",
     "text": [
      "92.78\n",
      "<class 'float'>\n",
      "24\n",
      "92.78 is Float? True\n"
     ]
    }
   ],
   "source": [
    "val2 = 92.78   # float data type\n",
    "print(val2)     # value of val2\n",
    "print(type(val2))  # type of object\n",
    "print(sys.getsizeof(val2))  # size of float object in bytes\n",
    "print(val2, \"is Float?\", isinstance(val2,float))   # val2 is an instance of float"
   ]
  },
  {
   "cell_type": "code",
   "execution_count": 28,
   "id": "dffd733b-b00d-443c-ab95-04245fb2f855",
   "metadata": {},
   "outputs": [
    {
     "name": "stdout",
     "output_type": "stream",
     "text": [
      "(25+10j)\n",
      "<class 'complex'>\n",
      "32\n",
      "(25+10j) is Complex? True\n"
     ]
    }
   ],
   "source": [
    "val3 = 25+10j # Complex data type\n",
    "print(val3)   # complex data type\n",
    "print(type(val3))  # type of object\n",
    "print(sys.getsizeof(val3))  # size of complex object in bytes\n",
    "print(val3, \"is Complex?\", isinstance(val3,complex))   # val3 is an instance of complex"
   ]
  },
  {
   "cell_type": "code",
   "execution_count": 31,
   "id": "1119c487-fdbe-4ff7-9293-a36b4b3978c3",
   "metadata": {},
   "outputs": [
    {
     "name": "stdout",
     "output_type": "stream",
     "text": [
      "28\n"
     ]
    }
   ],
   "source": [
    "print(sys.getsizeof(int()))    # size of integer object in bytes"
   ]
  },
  {
   "cell_type": "code",
   "execution_count": 33,
   "id": "2f4ee1f5-1dc6-4475-b23f-cc577ce21e56",
   "metadata": {},
   "outputs": [
    {
     "name": "stdout",
     "output_type": "stream",
     "text": [
      "24\n"
     ]
    }
   ],
   "source": [
    "print(sys.getsizeof(float()))      # size of float object in bytes"
   ]
  },
  {
   "cell_type": "code",
   "execution_count": 34,
   "id": "969eba86-520b-46ec-afae-cdd9328ad771",
   "metadata": {},
   "outputs": [
    {
     "name": "stdout",
     "output_type": "stream",
     "text": [
      "32\n"
     ]
    }
   ],
   "source": [
    "print(sys.getsizeof(complex()))     # size of complex object in bytes"
   ]
  },
  {
   "cell_type": "markdown",
   "id": "a85f7bf7-fe6c-43a9-896a-0106589083f6",
   "metadata": {},
   "source": [
    "# Boolean"
   ]
  },
  {
   "cell_type": "code",
   "execution_count": 35,
   "id": "53176eb1-e2f1-4e7c-939a-f3e9a8876395",
   "metadata": {},
   "outputs": [],
   "source": [
    "# Boolean datatype can have only two possible values true or false\n",
    "\n",
    "bool1 = True"
   ]
  },
  {
   "cell_type": "code",
   "execution_count": 36,
   "id": "6f38e937-00fc-4941-ae91-bf033df21144",
   "metadata": {},
   "outputs": [],
   "source": [
    "bool2 = False"
   ]
  },
  {
   "cell_type": "code",
   "execution_count": 38,
   "id": "d00fc6fe-a9c8-4ecf-ba01-099268fd7f5d",
   "metadata": {},
   "outputs": [
    {
     "name": "stdout",
     "output_type": "stream",
     "text": [
      "<class 'bool'>\n",
      "<class 'bool'>\n"
     ]
    }
   ],
   "source": [
    "print(type(bool1))\n",
    "print(type(bool2))"
   ]
  },
  {
   "cell_type": "code",
   "execution_count": 40,
   "id": "dd28e1e5-6f88-4f06-a564-15c78e575c38",
   "metadata": {},
   "outputs": [
    {
     "data": {
      "text/plain": [
       "True"
      ]
     },
     "execution_count": 40,
     "metadata": {},
     "output_type": "execute_result"
    }
   ],
   "source": [
    "isinstance(bool1,bool)"
   ]
  },
  {
   "cell_type": "code",
   "execution_count": 42,
   "id": "36ae10f8-1209-4e81-9dff-d53d9d7f3211",
   "metadata": {},
   "outputs": [
    {
     "name": "stdout",
     "output_type": "stream",
     "text": [
      "False\n",
      "True\n",
      "False\n",
      "False\n"
     ]
    }
   ],
   "source": [
    "print(bool(0))\n",
    "print(bool(1))\n",
    "print(bool(None))\n",
    "print(bool(False))"
   ]
  },
  {
   "cell_type": "markdown",
   "id": "e5e09089-fa46-4d51-9e96-5c3bb6c3a3db",
   "metadata": {},
   "source": [
    "# Strings"
   ]
  },
  {
   "cell_type": "code",
   "execution_count": 44,
   "id": "155d8b01-d999-432b-8ddc-de98fd73e1ff",
   "metadata": {},
   "outputs": [
    {
     "name": "stdout",
     "output_type": "stream",
     "text": [
      "VIHARI NANDAN\n"
     ]
    }
   ],
   "source": [
    "# String Creation\n",
    "\n",
    "str1 = 'VIHARI NANDAN'   # with Single quotes\n",
    "print(str1)"
   ]
  },
  {
   "cell_type": "code",
   "execution_count": 45,
   "id": "46774717-04e5-470c-97f0-a57eae4a6cc8",
   "metadata": {},
   "outputs": [
    {
     "name": "stdout",
     "output_type": "stream",
     "text": [
      "Vihari Nandan\n"
     ]
    }
   ],
   "source": [
    "str2 = \"Vihari Nandan\"    # with Double quotes\n",
    "print(str2)"
   ]
  },
  {
   "cell_type": "code",
   "execution_count": 46,
   "id": "0fd9a42e-7ca7-41cc-8a5f-00e2190763e9",
   "metadata": {},
   "outputs": [
    {
     "name": "stdout",
     "output_type": "stream",
     "text": [
      "Vihari\n",
      "            Nandan\n"
     ]
    }
   ],
   "source": [
    "str3 = '''Vihari\n",
    "            Nandan'''   # with Multiple lines triple quotes\n",
    "print(str3)"
   ]
  },
  {
   "cell_type": "code",
   "execution_count": 48,
   "id": "10bd491a-137b-4223-b18e-cb69b536d77c",
   "metadata": {},
   "outputs": [
    {
     "name": "stdout",
     "output_type": "stream",
     "text": [
      "Vihari\n",
      "                Nandan\n"
     ]
    }
   ],
   "source": [
    "str4 = \"\"\"Vihari\n",
    "                Nandan\"\"\"            # with Multiple lines triple quotes\n",
    "print(str4)"
   ]
  },
  {
   "cell_type": "code",
   "execution_count": 49,
   "id": "0f968bd7-66fb-4da6-9014-dff4ccc675d4",
   "metadata": {},
   "outputs": [
    {
     "name": "stdout",
     "output_type": "stream",
     "text": [
      "Happy Monday Everyday \n"
     ]
    }
   ],
   "source": [
    "str5 = ('Happy '\n",
    "        'Monday '\n",
    "        'Everyday ')\n",
    "print(str5)"
   ]
  },
  {
   "cell_type": "code",
   "execution_count": 55,
   "id": "a76bc766-4331-4e4b-8489-96d98889a85d",
   "metadata": {},
   "outputs": [
    {
     "name": "stdout",
     "output_type": "stream",
     "text": [
      "Om Om Om Om Om \n"
     ]
    }
   ],
   "source": [
    "str6 = 'Om '\n",
    "str6 = str6*5\n",
    "print(str6)"
   ]
  },
  {
   "cell_type": "code",
   "execution_count": 52,
   "id": "4a106c92-6be3-40c6-a937-ff66afdae240",
   "metadata": {},
   "outputs": [
    {
     "name": "stdout",
     "output_type": "stream",
     "text": [
      "Om \n",
      "Om \n",
      "Om \n",
      "Om \n",
      "Om \n",
      "\n"
     ]
    }
   ],
   "source": [
    "str7 = \"Om \\n\"\n",
    "print(str7*5)"
   ]
  },
  {
   "cell_type": "code",
   "execution_count": 56,
   "id": "6064ef3b-006d-4086-96f7-f01c80c97214",
   "metadata": {},
   "outputs": [
    {
     "name": "stdout",
     "output_type": "stream",
     "text": [
      "15\n"
     ]
    }
   ],
   "source": [
    "print(len(str6))"
   ]
  },
  {
   "cell_type": "markdown",
   "id": "3bf6db5c-6c0c-41bf-a09c-78e820c38491",
   "metadata": {},
   "source": [
    "# String Indexing"
   ]
  },
  {
   "cell_type": "code",
   "execution_count": 58,
   "id": "0f1f7d53-7408-429b-8b3a-13434b3c6059",
   "metadata": {},
   "outputs": [
    {
     "name": "stdout",
     "output_type": "stream",
     "text": [
      "V\n"
     ]
    }
   ],
   "source": [
    "str1 = 'VIHARI NANDAN'\n",
    "\n",
    "print(str1[0])       # first character in string str1"
   ]
  },
  {
   "cell_type": "code",
   "execution_count": 60,
   "id": "8905262d-7fef-4058-932d-079fbdd96abd",
   "metadata": {},
   "outputs": [
    {
     "name": "stdout",
     "output_type": "stream",
     "text": [
      "N\n"
     ]
    }
   ],
   "source": [
    "print(str1[len(str1)-1])             # last character in string using len function"
   ]
  },
  {
   "cell_type": "code",
   "execution_count": 61,
   "id": "eaf1291c-e889-4849-88cc-1628ccd2b79d",
   "metadata": {},
   "outputs": [
    {
     "name": "stdout",
     "output_type": "stream",
     "text": [
      "N\n"
     ]
    }
   ],
   "source": [
    "print(str1[-1])  # Last character in string"
   ]
  },
  {
   "cell_type": "code",
   "execution_count": 62,
   "id": "4339205e-227d-4d89-993d-4b82161c999a",
   "metadata": {},
   "outputs": [
    {
     "name": "stdout",
     "output_type": "stream",
     "text": [
      "N\n"
     ]
    }
   ],
   "source": [
    "print(str1[7])     # fetch 7th element of the string"
   ]
  },
  {
   "cell_type": "markdown",
   "id": "33b0ee36-5cb5-496f-bd93-baa924abf626",
   "metadata": {},
   "source": [
    "# String Slicing"
   ]
  },
  {
   "cell_type": "code",
   "execution_count": 64,
   "id": "d8d77ebb-839c-46c7-8878-ee5f3f36f873",
   "metadata": {},
   "outputs": [
    {
     "name": "stdout",
     "output_type": "stream",
     "text": [
      "VIHAR\n"
     ]
    }
   ],
   "source": [
    "print(str1[0:5])       # String slicing - Fetch all characters from 0 to 5 index location"
   ]
  },
  {
   "cell_type": "code",
   "execution_count": 65,
   "id": "f9759e98-bf34-41fc-ad67-9e40d0fcb025",
   "metadata": {},
   "outputs": [
    {
     "name": "stdout",
     "output_type": "stream",
     "text": [
      " NANDA\n"
     ]
    }
   ],
   "source": [
    "print(str1[6:12])      # String slicing - Retreive all characters between 6 - 12 index location"
   ]
  },
  {
   "cell_type": "code",
   "execution_count": 66,
   "id": "3309f464-bc34-42ca-8c23-d2a03c23e8ba",
   "metadata": {},
   "outputs": [
    {
     "name": "stdout",
     "output_type": "stream",
     "text": [
      "N\n"
     ]
    }
   ],
   "source": [
    "print(str1[-4])       # Retreive last four characters of the string"
   ]
  },
  {
   "cell_type": "code",
   "execution_count": 67,
   "id": "83f96666-e621-4121-b0da-ec59e7e07190",
   "metadata": {},
   "outputs": [
    {
     "name": "stdout",
     "output_type": "stream",
     "text": [
      "NANDAN\n"
     ]
    }
   ],
   "source": [
    "print(str1[-6:])  # Retreive last six characters of the string"
   ]
  },
  {
   "cell_type": "code",
   "execution_count": 68,
   "id": "2fe28586-0715-4f51-b55a-1ed9099895b9",
   "metadata": {},
   "outputs": [
    {
     "name": "stdout",
     "output_type": "stream",
     "text": [
      "VIHA\n"
     ]
    }
   ],
   "source": [
    "print(str1[:4])     # Retreive first four characters of the string n-1"
   ]
  },
  {
   "cell_type": "code",
   "execution_count": 69,
   "id": "57674697-e8e4-4162-8834-04675d3dc281",
   "metadata": {},
   "outputs": [
    {
     "name": "stdout",
     "output_type": "stream",
     "text": [
      "VIHARI\n"
     ]
    }
   ],
   "source": [
    "print(str1[:6])       # Retreive first six characters of the string n-1"
   ]
  },
  {
   "cell_type": "markdown",
   "id": "daa8c4e9-be92-4057-a4ff-97b3178c0fb7",
   "metadata": {},
   "source": [
    "# Update & Delete String"
   ]
  },
  {
   "cell_type": "code",
   "execution_count": 73,
   "id": "a01d7e7b-6586-4298-a344-1857dbfc06ef",
   "metadata": {},
   "outputs": [
    {
     "ename": "TypeError",
     "evalue": "'str' object does not support item assignment",
     "output_type": "error",
     "traceback": [
      "\u001b[1;31m---------------------------------------------------------------------------\u001b[0m",
      "\u001b[1;31mTypeError\u001b[0m                                 Traceback (most recent call last)",
      "Cell \u001b[1;32mIn[73], line 3\u001b[0m\n\u001b[0;32m      1\u001b[0m \u001b[38;5;66;03m# Strings are immutable which means elements of a string cannot be changed \u001b[39;00m\n\u001b[0;32m      2\u001b[0m str1 \u001b[38;5;241m=\u001b[39m \u001b[38;5;124m'\u001b[39m\u001b[38;5;124mVIHARI NANDAN\u001b[39m\u001b[38;5;124m'\u001b[39m\n\u001b[1;32m----> 3\u001b[0m \u001b[43mstr1\u001b[49m\u001b[43m[\u001b[49m\u001b[38;5;241;43m0\u001b[39;49m\u001b[43m:\u001b[49m\u001b[38;5;241;43m5\u001b[39;49m\u001b[43m]\u001b[49m \u001b[38;5;241m=\u001b[39m \u001b[38;5;124m'\u001b[39m\u001b[38;5;124mchandan\u001b[39m\u001b[38;5;124m'\u001b[39m\n\u001b[0;32m      4\u001b[0m \u001b[38;5;28mprint\u001b[39m(str1)\n",
      "\u001b[1;31mTypeError\u001b[0m: 'str' object does not support item assignment"
     ]
    }
   ],
   "source": [
    "# Strings are immutable which means elements of a string cannot be changed \n",
    "str1 = 'VIHARI NANDAN'\n",
    "str1[0:5] = 'chandan'\n",
    "print(str1)"
   ]
  },
  {
   "cell_type": "code",
   "execution_count": 72,
   "id": "30a6b2f4-75fd-4f6e-a1e2-0d53d67c9040",
   "metadata": {},
   "outputs": [
    {
     "ename": "NameError",
     "evalue": "name 'str1' is not defined",
     "output_type": "error",
     "traceback": [
      "\u001b[1;31m---------------------------------------------------------------------------\u001b[0m",
      "\u001b[1;31mNameError\u001b[0m                                 Traceback (most recent call last)",
      "Cell \u001b[1;32mIn[72], line 2\u001b[0m\n\u001b[0;32m      1\u001b[0m \u001b[38;5;28;01mdel\u001b[39;00m str1    \u001b[38;5;66;03m# Delete a string\u001b[39;00m\n\u001b[1;32m----> 2\u001b[0m \u001b[38;5;28mprint\u001b[39m(\u001b[43mstr1\u001b[49m)\n",
      "\u001b[1;31mNameError\u001b[0m: name 'str1' is not defined"
     ]
    }
   ],
   "source": [
    "del str1    # Delete a string\n",
    "print(str1)"
   ]
  },
  {
   "cell_type": "markdown",
   "id": "93a92c87-4ed1-445e-a645-c54a0ad19522",
   "metadata": {},
   "source": [
    "# String Concatenation"
   ]
  },
  {
   "cell_type": "code",
   "execution_count": 74,
   "id": "b69e9d21-9805-46a8-8d4d-7442db00bcbd",
   "metadata": {},
   "outputs": [
    {
     "name": "stdout",
     "output_type": "stream",
     "text": [
      "Name of the Student is  VihariNandan\n"
     ]
    }
   ],
   "source": [
    "s1 = 'Vihari'\n",
    "s2 = 'Nandan'\n",
    "s3 = s1 + s2\n",
    "print(\"Name of the Student is \", s3)"
   ]
  }
 ],
 "metadata": {
  "kernelspec": {
   "display_name": "Python 3 (ipykernel)",
   "language": "python",
   "name": "python3"
  },
  "language_info": {
   "codemirror_mode": {
    "name": "ipython",
    "version": 3
   },
   "file_extension": ".py",
   "mimetype": "text/x-python",
   "name": "python",
   "nbconvert_exporter": "python",
   "pygments_lexer": "ipython3",
   "version": "3.12.4"
  }
 },
 "nbformat": 4,
 "nbformat_minor": 5
}
